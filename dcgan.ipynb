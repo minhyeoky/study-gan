{
  "nbformat": 4,
  "nbformat_minor": 0,
  "metadata": {
    "kernelspec": {
      "display_name": "Python 3",
      "language": "python",
      "name": "python3"
    },
    "language_info": {
      "codemirror_mode": {
        "name": "ipython",
        "version": 3
      },
      "file_extension": ".py",
      "mimetype": "text/x-python",
      "name": "python",
      "nbconvert_exporter": "python",
      "pygments_lexer": "ipython3",
      "version": "3.7.4"
    },
    "colab": {
      "name": "dcgan.ipynb",
      "provenance": []
    }
  },
  "cells": [
    {
      "cell_type": "markdown",
      "metadata": {
        "id": "L_S3C7JR4sGm",
        "colab_type": "text"
      },
      "source": [
        "# DCGAN\n",
        "\n",
        "## dataset\n",
        "- [ ] mnist\n",
        "- [ ] fashion mnist\n",
        "- [ ] celebA\n",
        "\n",
        "## model architecture for stable DC GANs\n",
        "- [ ] Replace any pooling layers with strided convolutions (discriminator) and fractional-strided convolutions (generator).\n",
        "- [ ] Use Batch-norm for generator and discriminator.\n",
        "- [ ] Remove fully connected layers.\n",
        "- [ ] Use Relu activation in generator for all layers except for the output, which uses Tanh.\n",
        "- [ ] Use leakyRelu activation in the discriminator for all layers.\n",
        "\n",
        "\n",
        "\n",
        "\n"
      ]
    },
    {
      "cell_type": "markdown",
      "metadata": {
        "id": "yFitvB5426Kx",
        "colab_type": "text"
      },
      "source": [
        "# installation"
      ]
    },
    {
      "cell_type": "code",
      "metadata": {
        "id": "t6MrjDJP26Kz",
        "colab_type": "code",
        "colab": {
          "base_uri": "https://localhost:8080/",
          "height": 564
        },
        "outputId": "c655c41a-6efa-43f3-a050-fa5bf1db450d"
      },
      "source": [
        "!pip install tensorflow==2.0.0-beta0 \n",
        "# !conda install -y -q seaborna\n"
      ],
      "execution_count": 1,
      "outputs": [
        {
          "output_type": "stream",
          "text": [
            "Collecting tensorflow==2.0.0-beta0\n",
            "\u001b[?25l  Downloading https://files.pythonhosted.org/packages/6c/19/0d0c7f240db7bcd6b83783b9a89a67f38584d100e23ad5ae93114be92232/tensorflow-2.0.0b0-cp36-cp36m-manylinux1_x86_64.whl (87.9MB)\n",
            "\u001b[K     |████████████████████████████████| 87.9MB 1.2MB/s \n",
            "\u001b[?25hRequirement already satisfied: keras-applications>=1.0.6 in /usr/local/lib/python3.6/dist-packages (from tensorflow==2.0.0-beta0) (1.0.8)\n",
            "Requirement already satisfied: numpy<2.0,>=1.14.5 in /usr/local/lib/python3.6/dist-packages (from tensorflow==2.0.0-beta0) (1.16.5)\n",
            "Requirement already satisfied: wheel>=0.26 in /usr/local/lib/python3.6/dist-packages (from tensorflow==2.0.0-beta0) (0.33.6)\n",
            "Requirement already satisfied: absl-py>=0.7.0 in /usr/local/lib/python3.6/dist-packages (from tensorflow==2.0.0-beta0) (0.8.0)\n",
            "Requirement already satisfied: termcolor>=1.1.0 in /usr/local/lib/python3.6/dist-packages (from tensorflow==2.0.0-beta0) (1.1.0)\n",
            "Requirement already satisfied: six>=1.10.0 in /usr/local/lib/python3.6/dist-packages (from tensorflow==2.0.0-beta0) (1.12.0)\n",
            "Collecting tf-estimator-nightly<1.14.0.dev2019060502,>=1.14.0.dev2019060501 (from tensorflow==2.0.0-beta0)\n",
            "\u001b[?25l  Downloading https://files.pythonhosted.org/packages/32/dd/99c47dd007dcf10d63fd895611b063732646f23059c618a373e85019eb0e/tf_estimator_nightly-1.14.0.dev2019060501-py2.py3-none-any.whl (496kB)\n",
            "\u001b[K     |████████████████████████████████| 501kB 39.5MB/s \n",
            "\u001b[?25hRequirement already satisfied: grpcio>=1.8.6 in /usr/local/lib/python3.6/dist-packages (from tensorflow==2.0.0-beta0) (1.15.0)\n",
            "Requirement already satisfied: keras-preprocessing>=1.0.5 in /usr/local/lib/python3.6/dist-packages (from tensorflow==2.0.0-beta0) (1.1.0)\n",
            "Requirement already satisfied: gast>=0.2.0 in /usr/local/lib/python3.6/dist-packages (from tensorflow==2.0.0-beta0) (0.3.2)\n",
            "Requirement already satisfied: protobuf>=3.6.1 in /usr/local/lib/python3.6/dist-packages (from tensorflow==2.0.0-beta0) (3.7.1)\n",
            "Collecting tb-nightly<1.14.0a20190604,>=1.14.0a20190603 (from tensorflow==2.0.0-beta0)\n",
            "\u001b[?25l  Downloading https://files.pythonhosted.org/packages/a4/96/571b875cd81dda9d5dfa1422a4f9d749e67c0a8d4f4f0b33a4e5f5f35e27/tb_nightly-1.14.0a20190603-py3-none-any.whl (3.1MB)\n",
            "\u001b[K     |████████████████████████████████| 3.1MB 30.1MB/s \n",
            "\u001b[?25hRequirement already satisfied: astor>=0.6.0 in /usr/local/lib/python3.6/dist-packages (from tensorflow==2.0.0-beta0) (0.8.0)\n",
            "Requirement already satisfied: wrapt>=1.11.1 in /usr/local/lib/python3.6/dist-packages (from tensorflow==2.0.0-beta0) (1.11.2)\n",
            "Requirement already satisfied: google-pasta>=0.1.6 in /usr/local/lib/python3.6/dist-packages (from tensorflow==2.0.0-beta0) (0.1.7)\n",
            "Requirement already satisfied: h5py in /usr/local/lib/python3.6/dist-packages (from keras-applications>=1.0.6->tensorflow==2.0.0-beta0) (2.8.0)\n",
            "Requirement already satisfied: setuptools in /usr/local/lib/python3.6/dist-packages (from protobuf>=3.6.1->tensorflow==2.0.0-beta0) (41.2.0)\n",
            "Requirement already satisfied: werkzeug>=0.11.15 in /usr/local/lib/python3.6/dist-packages (from tb-nightly<1.14.0a20190604,>=1.14.0a20190603->tensorflow==2.0.0-beta0) (0.16.0)\n",
            "Requirement already satisfied: markdown>=2.6.8 in /usr/local/lib/python3.6/dist-packages (from tb-nightly<1.14.0a20190604,>=1.14.0a20190603->tensorflow==2.0.0-beta0) (3.1.1)\n",
            "Installing collected packages: tf-estimator-nightly, tb-nightly, tensorflow\n",
            "  Found existing installation: tensorflow 1.14.0\n",
            "    Uninstalling tensorflow-1.14.0:\n",
            "      Successfully uninstalled tensorflow-1.14.0\n",
            "Successfully installed tb-nightly-1.14.0a20190603 tensorflow-2.0.0b0 tf-estimator-nightly-1.14.0.dev2019060501\n"
          ],
          "name": "stdout"
        }
      ]
    },
    {
      "cell_type": "markdown",
      "metadata": {
        "id": "dQTiBp9q26K3",
        "colab_type": "text"
      },
      "source": [
        "# Imports"
      ]
    },
    {
      "cell_type": "code",
      "metadata": {
        "id": "lHDzyC5M26K3",
        "colab_type": "code",
        "colab": {
          "base_uri": "https://localhost:8080/",
          "height": 68
        },
        "outputId": "5fef3212-629b-46b1-e962-ed27e0f6ad66"
      },
      "source": [
        "import tensorflow as tf\n",
        "print(tf.__version__)\n",
        "import matplotlib.pyplot as plt\n",
        "import seaborn as sns\n",
        "print(sns.__version__)\n",
        "import numpy as np\n",
        "print(np.__version__)\n",
        "keras = tf.keras\n",
        "\n",
        "K = keras.backend\n"
      ],
      "execution_count": 2,
      "outputs": [
        {
          "output_type": "stream",
          "text": [
            "2.0.0-beta0\n",
            "0.9.0\n",
            "1.16.5\n"
          ],
          "name": "stdout"
        }
      ]
    },
    {
      "cell_type": "markdown",
      "metadata": {
        "id": "Xxx37riZ26K5",
        "colab_type": "text"
      },
      "source": [
        "# Configurations"
      ]
    },
    {
      "cell_type": "code",
      "metadata": {
        "id": "RrNCrYGI26K6",
        "colab_type": "code",
        "colab": {}
      },
      "source": [
        "batch_size = 128\n",
        "epochs = 50\n",
        "noise_dim = 100"
      ],
      "execution_count": 0,
      "outputs": []
    },
    {
      "cell_type": "markdown",
      "metadata": {
        "id": "-1z24cYA26K8",
        "colab_type": "text"
      },
      "source": [
        "# datasets"
      ]
    },
    {
      "cell_type": "code",
      "metadata": {
        "id": "6-JgNwDB26K9",
        "colab_type": "code",
        "colab": {
          "base_uri": "https://localhost:8080/",
          "height": 405
        },
        "outputId": "6e256c29-8db0-4887-ad6c-0b0c0e6b40ef"
      },
      "source": [
        "dataset = keras.datasets.mnist.load_data()\n",
        "\n",
        "X_train, X_test = dataset[0][0], dataset[1][0]\n",
        "Y_train, Y_test = dataset[0][1], dataset[1][1]\n",
        "\n",
        "del(dataset)\n",
        "\n",
        "print(X_train.shape)\n",
        "print(X_test.shape)\n",
        "\n",
        "print(Y_train.shape)\n",
        "print(Y_test.shape)\n",
        "\n",
        "plt.imshow(X_train[0], cmap=\"Greys\")\n",
        "plt.show()\n",
        "\n",
        "X_train = X_train.reshape([*X_train.shape] + [1]).astype('float32')\n",
        "X_test = X_test.reshape([*X_test.shape] + [1]).astype('float32')\n",
        "print(X_train.shape)\n",
        "\n",
        "X_train = (X_train - 127.5) / 127.5\n",
        "X_test = (X_test - 127.5) / 127.5\n",
        "\n",
        "data = tf.data.Dataset.from_tensor_slices(X_train)\n",
        "\n",
        "data = data.shuffle(batch_size * 10).batch(batch_size).prefetch(batch_size * 5)\n",
        "print(data)"
      ],
      "execution_count": 8,
      "outputs": [
        {
          "output_type": "stream",
          "text": [
            "Downloading data from https://storage.googleapis.com/tensorflow/tf-keras-datasets/mnist.npz\n",
            "11493376/11490434 [==============================] - 0s 0us/step\n",
            "(60000, 28, 28)\n",
            "(10000, 28, 28)\n",
            "(60000,)\n",
            "(10000,)\n"
          ],
          "name": "stdout"
        },
        {
          "output_type": "display_data",
          "data": {
            "image/png": "[encoded data removed]",
            "text/plain": [
              "<Figure size 432x288 with 1 Axes>"
            ]
          },
          "metadata": {
            "tags": []
          }
        },
        {
          "output_type": "stream",
          "text": [
            "(60000, 28, 28, 1)\n",
            "<PrefetchDataset shapes: (None, 28, 28, 1), types: tf.float32>\n"
          ],
          "name": "stdout"
        }
      ]
    },
    {
      "cell_type": "markdown",
      "metadata": {
        "id": "WS6oi9P326K_",
        "colab_type": "text"
      },
      "source": [
        "# DECONVOLUTION MODEL (GENERATOR)\n",
        "\n",
        "- INPUT : a random noise with dimension of (100,)\n",
        "- OUTPUT : generated image with dimension of (28, 28, 1)\n"
      ]
    },
    {
      "cell_type": "code",
      "metadata": {
        "id": "uetojdyr26LA",
        "colab_type": "code",
        "colab": {}
      },
      "source": [
        "def build_generator():\n",
        "    \n",
        "    model = keras.models.Sequential()\n",
        "    \n",
        "    layers_kwargs = {\n",
        "        'kernel_initializer': keras.initializers.TruncatedNormal(seed=0),\n",
        "        'activation': 'relu',\n",
        "\n",
        "    }\n",
        "    \n",
        "    model.add(keras.layers.Dense(units=256*7*7, input_shape=(100,), **layers_kwargs))\n",
        "    model.add(keras.layers.Reshape(target_shape=[7, 7, 256]))\n",
        "    \n",
        "    layers_kwargs['padding'] = 'same'\n",
        "    \n",
        "    model.add(keras.layers.Conv2DTranspose(filters=128, kernel_size=(5, 5),\n",
        "                                          strides=(1, 1), **layers_kwargs))\n",
        "    model.add(keras.layers.Conv2DTranspose(filters=64, kernel_size=(5, 5),\n",
        "                                          strides=(2, 2), **layers_kwargs))\n",
        "    # model.add(keras.layers.Conv2DTranspose(filters=32, kernel_size=(5, 5),\n",
        "    #                                       strides=(2, 2), **layers_kwargs))\n",
        "\n",
        "    layers_kwargs['activation'] = 'tanh'\n",
        "    \n",
        "    model.add(keras.layers.Conv2DTranspose(filters=1, kernel_size=(5, 5),\n",
        "                                          strides=(2, 2), **layers_kwargs))\n",
        "    \n",
        "    return model"
      ],
      "execution_count": 0,
      "outputs": []
    },
    {
      "cell_type": "markdown",
      "metadata": {
        "id": "vRu1_0qH26LB",
        "colab_type": "text"
      },
      "source": [
        "# DISCRIMINATOR MODEL\n",
        "\n",
        "- INPUT : a image with 28x28x1 size.\n",
        "- OUTPUT : the probability whether the image is fake or real"
      ]
    },
    {
      "cell_type": "code",
      "metadata": {
        "id": "LbGFzlVT26LC",
        "colab_type": "code",
        "colab": {}
      },
      "source": [
        "def build_discriminator():\n",
        "    \n",
        "    model = keras.models.Sequential()\n",
        "    \n",
        "    layers_kwargs = {\n",
        "        'kernel_size': (5, 5),\n",
        "        'strides': (2, 2),\n",
        "        'padding': 'same',\n",
        "        'activation': 'relu',\n",
        "        'kernel_initializer': keras.initializers.TruncatedNormal()\n",
        "    }\n",
        "    \n",
        "    model.add(keras.layers.Conv2D(filters=64, input_shape=(28, 28, 1), **layers_kwargs))\n",
        "    model.add(keras.layers.Conv2D(filters=128, **layers_kwargs))\n",
        "#     model.add(keras.layers.Conv2D(filters=))\n",
        "    model.add(keras.layers.Flatten())\n",
        "    model.add(keras.layers.Dense(units=1, activation='sigmoid', kernel_initializer=keras.initializers.TruncatedNormal()))\n",
        "    return model"
      ],
      "execution_count": 0,
      "outputs": []
    },
    {
      "cell_type": "code",
      "metadata": {
        "id": "wHzIMXhw4QFC",
        "colab_type": "code",
        "colab": {}
      },
      "source": [
        ""
      ],
      "execution_count": 0,
      "outputs": []
    },
    {
      "cell_type": "markdown",
      "metadata": {
        "id": "fOWcTKb526LE",
        "colab_type": "text"
      },
      "source": [
        "# Losses\n",
        "\n",
        "\n",
        "\n",
        "$$\\min_{\\theta_d}\\max_{\\theta_g} E_{x\\sim p_{data}}\\log D(x) + E_{z\\sim p_{z}}\\log(1 - D(G(z)))$$\n",
        "\n",
        "$$p_z \\sim 표준정규분포$$ "
      ]
    },
    {
      "cell_type": "code",
      "metadata": {
        "id": "3rJV7Xcy26LE",
        "colab_type": "code",
        "colab": {}
      },
      "source": [
        "def generator_loss(y_pred):\n",
        "    y_true = keras.backend.ones_like(y_pred)\n",
        "    cross_entropy = keras.losses.binary_crossentropy(y_true, y_pred)\n",
        "    return tf.math.reduce_mean(cross_entropy, axis=0)"
      ],
      "execution_count": 0,
      "outputs": []
    },
    {
      "cell_type": "code",
      "metadata": {
        "id": "H9StGa2j26LG",
        "colab_type": "code",
        "colab": {}
      },
      "source": [
        "def discriminator_loss(y_pred, x):\n",
        "    if x:\n",
        "        y_true = keras.backend.ones_like(y_pred)\n",
        "    else:\n",
        "        y_true = keras.backend.zeros_like(y_pred)\n",
        "    \n",
        "    cross_entropy = keras.losses.binary_crossentropy(y_true, y_pred)\n",
        "    return tf.math.reduce_mean(cross_entropy)"
      ],
      "execution_count": 0,
      "outputs": []
    },
    {
      "cell_type": "code",
      "metadata": {
        "id": "Daapr8-426LK",
        "colab_type": "code",
        "colab": {}
      },
      "source": [
        "opt_g = keras.optimizers.Adam(learning_rate=0.0001)\n",
        "opt_d = keras.optimizers.Adam(learning_rate=0.0001)"
      ],
      "execution_count": 0,
      "outputs": []
    },
    {
      "cell_type": "code",
      "metadata": {
        "id": "GOKdnM3U26LM",
        "colab_type": "code",
        "colab": {
          "base_uri": "https://localhost:8080/",
          "height": 629
        },
        "outputId": "fce72c37-f59d-4a8a-d5bb-ec8df278f34d"
      },
      "source": [
        "generator = build_generator()\n",
        "generator.summary()\n",
        "discriminator = build_discriminator()\n",
        "discriminator.summary()"
      ],
      "execution_count": 54,
      "outputs": [
        {
          "output_type": "stream",
          "text": [
            "Model: \"sequential_8\"\n",
            "_________________________________________________________________\n",
            "Layer (type)                 Output Shape              Param #   \n",
            "=================================================================\n",
            "dense_8 (Dense)              (None, 12544)             1266944   \n",
            "_________________________________________________________________\n",
            "reshape_6 (Reshape)          (None, 7, 7, 256)         0         \n",
            "_________________________________________________________________\n",
            "conv2d_transpose_16 (Conv2DT (None, 7, 7, 128)         819328    \n",
            "_________________________________________________________________\n",
            "conv2d_transpose_17 (Conv2DT (None, 7, 7, 64)          204864    \n",
            "_________________________________________________________________\n",
            "conv2d_transpose_18 (Conv2DT (None, 14, 14, 32)        51232     \n",
            "_________________________________________________________________\n",
            "conv2d_transpose_19 (Conv2DT (None, 28, 28, 1)         801       \n",
            "=================================================================\n",
            "Total params: 2,343,169\n",
            "Trainable params: 2,343,169\n",
            "Non-trainable params: 0\n",
            "_________________________________________________________________\n",
            "Model: \"sequential_9\"\n",
            "_________________________________________________________________\n",
            "Layer (type)                 Output Shape              Param #   \n",
            "=================================================================\n",
            "conv2d_8 (Conv2D)            (None, 14, 14, 64)        1664      \n",
            "_________________________________________________________________\n",
            "conv2d_9 (Conv2D)            (None, 7, 7, 128)         204928    \n",
            "_________________________________________________________________\n",
            "flatten_2 (Flatten)          (None, 6272)              0         \n",
            "_________________________________________________________________\n",
            "dense_9 (Dense)              (None, 1)                 6273      \n",
            "=================================================================\n",
            "Total params: 212,865\n",
            "Trainable params: 212,865\n",
            "Non-trainable params: 0\n",
            "_________________________________________________________________\n"
          ],
          "name": "stdout"
        }
      ]
    },
    {
      "cell_type": "code",
      "metadata": {
        "id": "VbtuvyDO26LO",
        "colab_type": "code",
        "colab": {}
      },
      "source": [
        "def print_tensors(tensors):\n",
        "    for each in tensors:\n",
        "        print(f'{each.name} {each.shape}')"
      ],
      "execution_count": 0,
      "outputs": []
    },
    {
      "cell_type": "code",
      "metadata": {
        "id": "iPoWE88w26LQ",
        "colab_type": "code",
        "colab": {}
      },
      "source": [
        "# @tf.function\n",
        "def train_step(real_data):\n",
        "    z = np.random.randn(batch_size, noise_dim)\n",
        "    \n",
        "    with tf.GradientTape() as tape_g, tf.GradientTape() as tape_d:\n",
        "        Gz = generator(inputs=z)\n",
        "        Dz = discriminator(inputs=Gz)\n",
        "        Dx = discriminator(inputs=real_data)\n",
        "        \n",
        "        loss_g = generator_loss(Dz)\n",
        "        loss_d = discriminator_loss(Dz, x=False)\n",
        "        loss_d += discriminator_loss(Dx, x=True)\n",
        "        \n",
        "        print(f'losses: {loss_g}, {loss_d}')\n",
        "        print(loss_g.shape, loss_d.shape)\n",
        "        \n",
        "    grads_g = tape_g.gradient(loss_g, generator.trainable_variables)\n",
        "    grads_d = tape_d.gradient(loss_d, discriminator.trainable_variables)\n",
        "    opt_g.apply_gradients(zip(grads_g, generator.trainable_variables))\n",
        "    opt_d.apply_gradients(zip(grads_d, discriminator.trainable_variables))\n",
        "    \n",
        "    return Gz\n",
        "    \n",
        "    \n",
        "    \n",
        "    \n",
        "    "
      ],
      "execution_count": 0,
      "outputs": []
    },
    {
      "cell_type": "code",
      "metadata": {
        "id": "dhcXoLqI26LS",
        "colab_type": "code",
        "colab": {}
      },
      "source": [
        "def imshow(tensor):\n",
        "    img = tf.reshape(tensor, shape=[28, 28])\n",
        "    plt.imshow(img.numpy(), cmap='gray')\n",
        "    plt.show()"
      ],
      "execution_count": 0,
      "outputs": []
    },
    {
      "cell_type": "code",
      "metadata": {
        "scrolled": true,
        "id": "2Jan_BjI26LU",
        "colab_type": "code",
        "colab": {
          "base_uri": "https://localhost:8080/",
          "height": 1000
        },
        "outputId": "37b7e343-4d93-4ba7-e541-329465edfe1a"
      },
      "source": [
        "for e in range(epochs):\n",
        "    print(e)\n",
        "    for idx, real_data in enumerate(data):\n",
        "        train_step(real_data)\n",
        "        if idx % 50 == 0:\n",
        "            print(f'-------------------- {idx} --------------------')\n",
        "            imshow(real_data[0])\n",
        "            imshow(gz[0])"
      ],
      "execution_count": 59,
      "outputs": [
        {
          "output_type": "stream",
          "text": [
            "0\n",
            "losses: 0.5566619038581848, 1.483375072479248\n",
            "() ()\n",
            "-------------------- 0 --------------------\n"
          ],
          "name": "stdout"
        },
        {
          "output_type": "display_data",
          "data": {
            "image/png": "[encoded data removed]",
            "text/plain": [
              "<Figure size 432x288 with 1 Axes>"
            ]
          },
          "metadata": {
            "tags": []
          }
        },
        {
          "output_type": "display_data",
          "data": {
            "image/png": "[encoded data removed]",
            "text/plain": [
              "<Figure size 432x288 with 1 Axes>"
            ]
          },
          "metadata": {
            "tags": []
          }
        },
        {
          "output_type": "stream",
          "text": [
            "losses: 0.5067862272262573, 1.4418245553970337\n",
            "() ()\n",
            "losses: 0.49809008836746216, 1.4032484292984009\n",
            "() ()\n",
            "losses: 0.4380698502063751, 1.4220690727233887\n",
            "() ()\n",
            "losses: 0.45542752742767334, 1.3095349073410034\n",
            "() ()\n",
            "losses: 0.42840659618377686, 1.3053816556930542\n",
            "() ()\n",
            "losses: 0.4223041534423828, 1.2760393619537354\n",
            "() ()\n",
            "losses: 0.46734708547592163, 1.1661609411239624\n",
            "() ()\n",
            "losses: 0.4530823230743408, 1.1747561693191528\n",
            "() ()\n",
            "losses: 0.4754675626754761, 1.1190366744995117\n",
            "() ()\n",
            "losses: 0.47792378067970276, 1.088104248046875\n",
            "() ()\n",
            "losses: 0.4794307053089142, 1.0680482387542725\n",
            "() ()\n",
            "losses: 0.5123908519744873, 1.014410138130188\n",
            "() ()\n",
            "losses: 0.5347335338592529, 0.9676162600517273\n",
            "() ()\n",
            "losses: 0.5412826538085938, 0.9532569646835327\n",
            "() ()\n",
            "losses: 0.5185108780860901, 0.9876853227615356\n",
            "() ()\n",
            "losses: 0.5415656566619873, 0.9529926776885986\n",
            "() ()\n",
            "losses: 0.4904841482639313, 1.0175381898880005\n",
            "() ()\n",
            "losses: 0.4601696729660034, 1.0765854120254517\n",
            "() ()\n",
            "losses: 0.45849698781967163, 1.0747202634811401\n",
            "() ()\n",
            "losses: 0.43182849884033203, 1.132587194442749\n",
            "() ()\n",
            "losses: 0.411482036113739, 1.1726874113082886\n",
            "() ()\n",
            "losses: 0.4007825255393982, 1.2082412242889404\n",
            "() ()\n",
            "losses: 0.3811628222465515, 1.234222412109375\n",
            "() ()\n",
            "losses: 0.39283496141433716, 1.2283236980438232\n",
            "() ()\n",
            "losses: 0.39727896451950073, 1.2087122201919556\n",
            "() ()\n",
            "losses: 0.42434459924697876, 1.1765410900115967\n",
            "() ()\n",
            "losses: 0.45388680696487427, 1.11631441116333\n",
            "() ()\n",
            "losses: 0.5008062720298767, 1.0470374822616577\n",
            "() ()\n",
            "losses: 0.5457397699356079, 1.0247843265533447\n",
            "() ()\n",
            "losses: 0.5984741449356079, 0.9546579718589783\n",
            "() ()\n",
            "losses: 0.6786754727363586, 0.9016966223716736\n",
            "() ()\n",
            "losses: 0.772028386592865, 0.8201885223388672\n",
            "() ()\n",
            "losses: 0.8614252805709839, 0.7632157802581787\n",
            "() ()\n",
            "losses: 0.9802795648574829, 0.6918134689331055\n",
            "() ()\n",
            "losses: 1.0812287330627441, 0.6494520306587219\n",
            "() ()\n",
            "losses: 1.1799376010894775, 0.6413537263870239\n",
            "() ()\n",
            "losses: 1.2930998802185059, 0.6053210496902466\n",
            "() ()\n",
            "losses: 1.4037494659423828, 0.568600058555603\n",
            "() ()\n",
            "losses: 1.4847357273101807, 0.5513473749160767\n",
            "() ()\n",
            "losses: 1.5256962776184082, 0.5270760655403137\n",
            "() ()\n",
            "losses: 1.5564720630645752, 0.5203539133071899\n",
            "() ()\n",
            "losses: 1.5867637395858765, 0.46176379919052124\n",
            "() ()\n",
            "losses: 1.604913592338562, 0.48102009296417236\n",
            "() ()\n",
            "losses: 1.5895030498504639, 0.5017703175544739\n",
            "() ()\n",
            "losses: 1.541170597076416, 0.4608880281448364\n",
            "() ()\n",
            "losses: 1.5338046550750732, 0.44517672061920166\n",
            "() ()\n",
            "losses: 1.5383143424987793, 0.49649667739868164\n",
            "() ()\n",
            "losses: 1.533427119255066, 0.5078290104866028\n",
            "() ()\n",
            "losses: 1.4928510189056396, 0.47847336530685425\n",
            "() ()\n",
            "losses: 1.4971330165863037, 0.4872371554374695\n",
            "() ()\n",
            "-------------------- 50 --------------------\n"
          ],
          "name": "stdout"
        },
        {
          "output_type": "display_data",
          "data": {
            "image/png": "[encoded data removed]",
            "text/plain": [
              "<Figure size 432x288 with 1 Axes>"
            ]
          },
          "metadata": {
            "tags": []
          }
        },
        {
          "output_type": "display_data",
          "data": {
            "image/png": "[encoded data removed]",
            "text/plain": [
              "<Figure size 432x288 with 1 Axes>"
            ]
          },
          "metadata": {
            "tags": []
          }
        },
        {
          "output_type": "stream",
          "text": [
            "losses: 1.4583299160003662, 0.4652784466743469\n",
            "() ()\n",
            "losses: 1.4077895879745483, 0.4550299644470215\n",
            "() ()\n",
            "losses: 1.38092041015625, 0.4665936827659607\n",
            "() ()\n",
            "losses: 1.3372290134429932, 0.5220987796783447\n",
            "() ()\n",
            "losses: 1.3023114204406738, 0.5130422115325928\n",
            "() ()\n",
            "losses: 1.3030970096588135, 0.5375612378120422\n",
            "() ()\n",
            "losses: 1.2967727184295654, 0.5728614926338196\n",
            "() ()\n",
            "losses: 1.2952532768249512, 0.5607576370239258\n",
            "() ()\n",
            "losses: 1.3149653673171997, 0.6038711667060852\n",
            "() ()\n",
            "losses: 1.3242323398590088, 0.5802047848701477\n",
            "() ()\n",
            "losses: 1.3413869142532349, 0.6605547070503235\n",
            "() ()\n",
            "losses: 1.3140960931777954, 0.5872925519943237\n",
            "() ()\n",
            "losses: 1.2502126693725586, 0.6843464374542236\n",
            "() ()\n",
            "losses: 1.109602451324463, 0.7262988686561584\n",
            "() ()\n",
            "losses: 0.9494109749794006, 0.8499313592910767\n",
            "() ()\n",
            "losses: 0.9036756753921509, 0.9340436458587646\n",
            "() ()\n",
            "losses: 0.8877840042114258, 0.863588809967041\n",
            "() ()\n",
            "losses: 0.8884183168411255, 0.9284064173698425\n",
            "() ()\n",
            "losses: 0.9022257328033447, 0.8692370653152466\n",
            "() ()\n",
            "losses: 0.9707130193710327, 0.7693008780479431\n",
            "() ()\n",
            "losses: 1.0977529287338257, 0.7303498983383179\n",
            "() ()\n",
            "losses: 1.2520443201065063, 0.59980708360672\n",
            "() ()\n",
            "losses: 1.4167814254760742, 0.5486228466033936\n",
            "() ()\n",
            "losses: 1.5493258237838745, 0.6647419333457947\n",
            "() ()\n",
            "losses: 1.6667416095733643, 0.40494364500045776\n",
            "() ()\n",
            "losses: 1.7611289024353027, 0.5119302272796631\n",
            "() ()\n",
            "losses: 1.8382651805877686, 0.33964088559150696\n",
            "() ()\n",
            "losses: 1.883678913116455, 0.3307335376739502\n",
            "() ()\n",
            "losses: 1.9229764938354492, 0.4526710510253906\n",
            "() ()\n",
            "losses: 1.96492600440979, 0.510032594203949\n",
            "() ()\n",
            "losses: 1.972522497177124, 0.3631342351436615\n",
            "() ()\n",
            "losses: 1.992728352546692, 0.3796583414077759\n",
            "() ()\n",
            "losses: 2.0271975994110107, 0.3572160601615906\n",
            "() ()\n",
            "losses: 2.0855093002319336, 0.3249787390232086\n",
            "() ()\n",
            "losses: 2.129589080810547, 0.21738788485527039\n",
            "() ()\n",
            "losses: 2.1468210220336914, 0.40516388416290283\n",
            "() ()\n",
            "losses: 2.162492275238037, 0.1949755996465683\n",
            "() ()\n",
            "losses: 2.1142470836639404, 0.2046234905719757\n",
            "() ()\n",
            "losses: 1.995205283164978, 0.2148970365524292\n",
            "() ()\n",
            "losses: 1.897899866104126, 0.2619629204273224\n",
            "() ()\n",
            "losses: 1.825448751449585, 0.2773410677909851\n",
            "() ()\n",
            "losses: 1.825829267501831, 0.22355931997299194\n",
            "() ()\n",
            "losses: 1.860762596130371, 0.20830821990966797\n",
            "() ()\n",
            "losses: 1.8850483894348145, 0.25718289613723755\n",
            "() ()\n",
            "losses: 1.9403376579284668, 0.2209826111793518\n",
            "() ()\n",
            "losses: 2.0088982582092285, 0.21825796365737915\n",
            "() ()\n",
            "losses: 2.076333999633789, 0.19403839111328125\n",
            "() ()\n",
            "losses: 2.1651296615600586, 0.2668236494064331\n",
            "() ()\n",
            "losses: 2.232775926589966, 0.16261154413223267\n",
            "() ()\n",
            "losses: 2.2716102600097656, 0.17538180947303772\n",
            "() ()\n",
            "-------------------- 100 --------------------\n"
          ],
          "name": "stdout"
        },
        {
          "output_type": "display_data",
          "data": {
            "image/png": "[encoded data removed]",
            "text/plain": [
              "<Figure size 432x288 with 1 Axes>"
            ]
          },
          "metadata": {
            "tags": []
          }
        },
        {
          "output_type": "display_data",
          "data": {
            "image/png": "[encoded data removed]",
            "text/plain": [
              "<Figure size 432x288 with 1 Axes>"
            ]
          },
          "metadata": {
            "tags": []
          }
        },
        {
          "output_type": "stream",
          "text": [
            "losses: 2.276618003845215, 0.18068072199821472\n",
            "() ()\n",
            "losses: 2.311048746109009, 0.17803052067756653\n",
            "() ()\n",
            "losses: 2.3512864112854004, 0.1873844861984253\n",
            "() ()\n",
            "losses: 2.4594483375549316, 0.19126293063163757\n",
            "() ()\n",
            "losses: 2.596437931060791, 0.14763504266738892\n",
            "() ()\n",
            "losses: 2.7511372566223145, 0.09092974662780762\n",
            "() ()\n",
            "losses: 2.8733930587768555, 0.13689783215522766\n",
            "() ()\n",
            "losses: 2.9889965057373047, 0.14038774371147156\n",
            "() ()\n",
            "losses: 3.080608367919922, 0.15762734413146973\n",
            "() ()\n",
            "losses: 3.1528985500335693, 0.14665213227272034\n",
            "() ()\n",
            "losses: 3.1961450576782227, 0.1462906450033188\n",
            "() ()\n",
            "losses: 3.2248919010162354, 0.13739052414894104\n",
            "() ()\n",
            "losses: 3.2099266052246094, 0.07601013779640198\n",
            "() ()\n",
            "losses: 3.1852736473083496, 0.11262772977352142\n",
            "() ()\n",
            "losses: 3.041191577911377, 0.1085420548915863\n",
            "() ()\n",
            "losses: 2.839834213256836, 0.15341752767562866\n",
            "() ()\n",
            "losses: 2.524136543273926, 0.12238825857639313\n",
            "() ()\n",
            "losses: 2.255248546600342, 0.16689497232437134\n",
            "() ()\n",
            "losses: 2.187770366668701, 0.1708756983280182\n",
            "() ()\n",
            "losses: 2.2902050018310547, 0.13950593769550323\n",
            "() ()\n",
            "losses: 2.4501869678497314, 0.15858028829097748\n",
            "() ()\n",
            "losses: 2.613919258117676, 0.0974903479218483\n",
            "() ()\n",
            "losses: 2.789193630218506, 0.10029606521129608\n",
            "() ()\n",
            "losses: 2.960725784301758, 0.13877388834953308\n",
            "() ()\n",
            "losses: 3.118739366531372, 0.05969129502773285\n",
            "() ()\n",
            "losses: 3.2348265647888184, 0.09257575124502182\n",
            "() ()\n",
            "losses: 3.3631720542907715, 0.1006397157907486\n",
            "() ()\n",
            "losses: 3.4619431495666504, 0.06667111068964005\n",
            "() ()\n",
            "losses: 3.5528812408447266, 0.0675901547074318\n",
            "() ()\n",
            "losses: 3.6046900749206543, 0.09131425619125366\n",
            "() ()\n",
            "losses: 3.5745718479156494, 0.06570619344711304\n",
            "() ()\n",
            "losses: 3.6177632808685303, 0.09398189932107925\n",
            "() ()\n",
            "losses: 3.586779832839966, 0.12584233283996582\n",
            "() ()\n",
            "losses: 3.527754545211792, 0.10010513663291931\n",
            "() ()\n",
            "losses: 3.4477310180664062, 0.06842964887619019\n",
            "() ()\n",
            "losses: 3.345867156982422, 0.0679890513420105\n",
            "() ()\n",
            "losses: 3.239781379699707, 0.08256038278341293\n",
            "() ()\n",
            "losses: 3.1631712913513184, 0.07745145261287689\n",
            "() ()\n",
            "losses: 3.06744122505188, 0.08207403123378754\n",
            "() ()\n",
            "losses: 3.027472734451294, 0.08390946686267853\n",
            "() ()\n",
            "losses: 3.0840060710906982, 0.08737079799175262\n",
            "() ()\n",
            "losses: 3.1536142826080322, 0.06776905059814453\n",
            "() ()\n",
            "losses: 3.227229595184326, 0.10637064278125763\n",
            "() ()\n",
            "losses: 3.3044118881225586, 0.06535857915878296\n",
            "() ()\n",
            "losses: 3.3925747871398926, 0.06443170458078384\n",
            "() ()\n",
            "losses: 3.485456943511963, 0.05187618359923363\n",
            "() ()\n",
            "losses: 3.5671234130859375, 0.07499340921640396\n",
            "() ()\n",
            "losses: 3.6325836181640625, 0.05488045886158943\n",
            "() ()\n",
            "losses: 3.657986640930176, 0.06148850917816162\n",
            "() ()\n",
            "losses: 3.689453601837158, 0.06615473330020905\n",
            "() ()\n",
            "-------------------- 150 --------------------\n"
          ],
          "name": "stdout"
        },
        {
          "output_type": "display_data",
          "data": {
            "image/png": "[encoded data removed]",
            "text/plain": [
              "<Figure size 432x288 with 1 Axes>"
            ]
          },
          "metadata": {
            "tags": []
          }
        },
        {
          "output_type": "display_data",
          "data": {
            "image/png": "[encoded data removed]",
            "text/plain": [
              "<Figure size 432x288 with 1 Axes>"
            ]
          },
          "metadata": {
            "tags": []
          }
        },
        {
          "output_type": "stream",
          "text": [
            "losses: 3.710493564605713, 0.048720963299274445\n",
            "() ()\n",
            "losses: 3.7752227783203125, 0.040641359984874725\n",
            "() ()\n",
            "losses: 3.8204269409179688, 0.03408592939376831\n",
            "() ()\n",
            "losses: 3.834338665008545, 0.05709477514028549\n",
            "() ()\n",
            "losses: 3.7518670558929443, 0.0361110121011734\n",
            "() ()\n",
            "losses: 3.699488639831543, 0.04336092621088028\n",
            "() ()\n",
            "losses: 3.670680522918701, 0.044236086308956146\n",
            "() ()\n",
            "losses: 3.7117762565612793, 0.07185687869787216\n",
            "() ()\n",
            "losses: 3.7467403411865234, 0.04533369466662407\n",
            "() ()\n",
            "losses: 3.7851085662841797, 0.03648470342159271\n",
            "() ()\n",
            "losses: 3.8032455444335938, 0.046309299767017365\n",
            "() ()\n",
            "losses: 3.8327207565307617, 0.07805197685956955\n",
            "() ()\n",
            "losses: 3.8480618000030518, 0.08033853769302368\n",
            "() ()\n",
            "losses: 3.865558624267578, 0.04391957446932793\n",
            "() ()\n",
            "losses: 3.870337724685669, 0.0395817831158638\n",
            "() ()\n",
            "losses: 3.871453285217285, 0.03272140771150589\n",
            "() ()\n",
            "losses: 3.8840646743774414, 0.0848967656493187\n",
            "() ()\n",
            "losses: 3.831070899963379, 0.06593309342861176\n",
            "() ()\n",
            "losses: 3.7979235649108887, 0.030374467372894287\n",
            "() ()\n",
            "losses: 3.79463529586792, 0.05377453193068504\n",
            "() ()\n",
            "losses: 3.7991726398468018, 0.04447541385889053\n",
            "() ()\n",
            "losses: 3.711514472961426, 0.05426997318863869\n",
            "() ()\n",
            "losses: 3.5408217906951904, 0.037042900919914246\n",
            "() ()\n",
            "losses: 3.4882051944732666, 0.04127416014671326\n",
            "() ()\n",
            "losses: 3.4010813236236572, 0.05068100988864899\n",
            "() ()\n",
            "losses: 3.1811864376068115, 0.05968539044260979\n",
            "() ()\n",
            "losses: 3.0094571113586426, 0.08112212270498276\n",
            "() ()\n",
            "losses: 2.4761605262756348, 0.12200505286455154\n",
            "() ()\n",
            "losses: 1.952510118484497, 0.18712669610977173\n",
            "() ()\n",
            "losses: 2.1963253021240234, 0.13392741978168488\n",
            "() ()\n",
            "losses: 2.5621485710144043, 0.13360874354839325\n",
            "() ()\n",
            "losses: 2.9748127460479736, 0.07374430447816849\n",
            "() ()\n",
            "losses: 3.4002909660339355, 0.11728088557720184\n",
            "() ()\n",
            "losses: 3.7848942279815674, 0.08034929633140564\n",
            "() ()\n",
            "losses: 4.1145524978637695, 0.15682479739189148\n",
            "() ()\n",
            "losses: 4.275064468383789, 0.22482609748840332\n",
            "() ()\n",
            "losses: 4.246795654296875, 0.14142458140850067\n",
            "() ()\n",
            "losses: 4.128280162811279, 0.11591701209545135\n",
            "() ()\n",
            "losses: 3.9456019401550293, 0.055940598249435425\n",
            "() ()\n",
            "losses: 3.7648916244506836, 0.06778618693351746\n",
            "() ()\n",
            "losses: 3.5827243328094482, 0.09375958144664764\n",
            "() ()\n",
            "losses: 3.4136571884155273, 0.05307137593626976\n",
            "() ()\n",
            "losses: 3.2892227172851562, 0.08986382186412811\n",
            "() ()\n",
            "losses: 3.1749961376190186, 0.10620230436325073\n",
            "() ()\n",
            "losses: 3.063541889190674, 0.15078623592853546\n",
            "() ()\n",
            "losses: 2.9251036643981934, 0.08153916895389557\n",
            "() ()\n",
            "losses: 2.822383165359497, 0.07211962342262268\n",
            "() ()\n",
            "losses: 2.776369571685791, 0.09094841778278351\n",
            "() ()\n",
            "losses: 2.6097843647003174, 0.12121711671352386\n",
            "() ()\n",
            "losses: 2.4358949661254883, 0.10953083634376526\n",
            "() ()\n",
            "-------------------- 200 --------------------\n"
          ],
          "name": "stdout"
        },
        {
          "output_type": "display_data",
          "data": {
            "image/png": "[encoded data removed]",
            "text/plain": [
              "<Figure size 432x288 with 1 Axes>"
            ]
          },
          "metadata": {
            "tags": []
          }
        },
        {
          "output_type": "display_data",
          "data": {
            "image/png": "[encoded data removed]",
            "text/plain": [
              "<Figure size 432x288 with 1 Axes>"
            ]
          },
          "metadata": {
            "tags": []
          }
        },
        {
          "output_type": "stream",
          "text": [
            "losses: 2.473267078399658, 0.13752880692481995\n",
            "() ()\n",
            "losses: 2.572273015975952, 0.12955418229103088\n",
            "() ()\n",
            "losses: 2.6643028259277344, 0.10133078694343567\n",
            "() ()\n",
            "losses: 2.646638870239258, 0.08208553493022919\n",
            "() ()\n",
            "losses: 2.908688545227051, 0.09308177977800369\n",
            "() ()\n",
            "losses: 3.038902521133423, 0.08662868291139603\n",
            "() ()\n",
            "losses: 3.291147232055664, 0.17972533404827118\n",
            "() ()\n",
            "losses: 3.46140193939209, 0.24484795331954956\n",
            "() ()\n",
            "losses: 3.4429659843444824, 0.18794596195220947\n",
            "() ()\n",
            "losses: 3.2860946655273438, 0.11434906721115112\n",
            "() ()\n",
            "losses: 3.243837833404541, 0.09668827801942825\n",
            "() ()\n",
            "losses: 3.224700450897217, 0.17325910925865173\n",
            "() ()\n",
            "losses: 3.1501715183258057, 0.2047216147184372\n",
            "() ()\n",
            "losses: 2.9929845333099365, 0.09704165905714035\n",
            "() ()\n",
            "losses: 2.8786468505859375, 0.07509754598140717\n",
            "() ()\n",
            "losses: 2.8422672748565674, 0.13110123574733734\n",
            "() ()\n",
            "losses: 2.797508716583252, 0.07925206422805786\n",
            "() ()\n",
            "losses: 2.771202802658081, 0.13211016356945038\n",
            "() ()\n",
            "losses: 2.799020767211914, 0.1059412956237793\n",
            "() ()\n",
            "losses: 2.9202566146850586, 0.17550066113471985\n",
            "() ()\n",
            "losses: 3.0276198387145996, 0.06705112755298615\n",
            "() ()\n",
            "losses: 3.139279842376709, 0.06153334677219391\n",
            "() ()\n",
            "losses: 3.2140612602233887, 0.0771017074584961\n",
            "() ()\n",
            "losses: 3.355710029602051, 0.06883302330970764\n",
            "() ()\n",
            "losses: 3.527613639831543, 0.037593066692352295\n",
            "() ()\n",
            "losses: 3.7213852405548096, 0.07006116956472397\n",
            "() ()\n",
            "losses: 3.8796212673187256, 0.045313045382499695\n",
            "() ()\n",
            "losses: 4.012401580810547, 0.04828997701406479\n",
            "() ()\n",
            "losses: 4.1403608322143555, 0.040543172508478165\n",
            "() ()\n",
            "losses: 4.233742713928223, 0.054072096943855286\n",
            "() ()\n",
            "losses: 4.310196876525879, 0.03895778954029083\n",
            "() ()\n",
            "losses: 4.379481315612793, 0.06621729582548141\n",
            "() ()\n",
            "losses: 4.400196075439453, 0.06577566266059875\n",
            "() ()\n",
            "losses: 4.392810821533203, 0.028635427355766296\n",
            "() ()\n",
            "losses: 4.382424354553223, 0.08746052533388138\n",
            "() ()\n",
            "losses: 4.284502983093262, 0.04656774550676346\n",
            "() ()\n",
            "losses: 4.19339656829834, 0.04030405730009079\n",
            "() ()\n",
            "losses: 4.083388328552246, 0.03365392982959747\n",
            "() ()\n",
            "losses: 3.993534803390503, 0.02584991604089737\n",
            "() ()\n",
            "losses: 3.8985300064086914, 0.034268930554389954\n",
            "() ()\n",
            "losses: 3.802913188934326, 0.03321148827672005\n",
            "() ()\n",
            "losses: 3.750842571258545, 0.029286092147231102\n",
            "() ()\n",
            "losses: 3.6855311393737793, 0.03277633711695671\n",
            "() ()\n",
            "losses: 3.6983566284179688, 0.029600579291582108\n",
            "() ()\n",
            "losses: 3.7313995361328125, 0.04167484492063522\n",
            "() ()\n",
            "losses: 3.806694984436035, 0.036702122539281845\n",
            "() ()\n",
            "losses: 3.9261436462402344, 0.05917768180370331\n",
            "() ()\n",
            "losses: 4.019152641296387, 0.0485982820391655\n",
            "() ()\n",
            "losses: 4.093501091003418, 0.03925973176956177\n",
            "() ()\n",
            "losses: 4.181554794311523, 0.18272271752357483\n",
            "() ()\n",
            "-------------------- 250 --------------------\n"
          ],
          "name": "stdout"
        },
        {
          "output_type": "display_data",
          "data": {
            "image/png": "[encoded data removed]",
            "text/plain": [
              "<Figure size 432x288 with 1 Axes>"
            ]
          },
          "metadata": {
            "tags": []
          }
        },
        {
          "output_type": "display_data",
          "data": {
            "image/png": "[encoded data removed]",
            "text/plain": [
              "<Figure size 432x288 with 1 Axes>"
            ]
          },
          "metadata": {
            "tags": []
          }
        },
        {
          "output_type": "stream",
          "text": [
            "losses: 4.096966743469238, 0.05741239711642265\n",
            "() ()\n",
            "losses: 3.9939236640930176, 0.026046983897686005\n",
            "() ()\n",
            "losses: 3.9445719718933105, 0.03028854727745056\n",
            "() ()\n",
            "losses: 3.897902011871338, 0.03542681783437729\n",
            "() ()\n",
            "losses: 3.865630865097046, 0.04055452719330788\n",
            "() ()\n",
            "losses: 3.841583251953125, 0.024349551647901535\n",
            "() ()\n",
            "losses: 3.8622379302978516, 0.03320583328604698\n",
            "() ()\n",
            "losses: 3.903501510620117, 0.05737776681780815\n",
            "() ()\n",
            "losses: 3.907437324523926, 0.03180060535669327\n",
            "() ()\n",
            "losses: 3.946683406829834, 0.028427956625819206\n",
            "() ()\n",
            "losses: 3.9787259101867676, 0.027006927877664566\n",
            "() ()\n",
            "losses: 4.047647476196289, 0.037247806787490845\n",
            "() ()\n",
            "losses: 4.114426136016846, 0.028538113459944725\n",
            "() ()\n",
            "losses: 4.1886820793151855, 0.02801961824297905\n",
            "() ()\n",
            "losses: 4.275883197784424, 0.02056431956589222\n",
            "() ()\n",
            "losses: 4.3458991050720215, 0.021845493465662003\n",
            "() ()\n",
            "losses: 4.450244903564453, 0.015496157109737396\n",
            "() ()\n",
            "losses: 4.539925575256348, 0.022819511592388153\n",
            "() ()\n",
            "losses: 4.62473201751709, 0.015251589938998222\n",
            "() ()\n",
            "losses: 4.7151336669921875, 0.06480059027671814\n",
            "() ()\n",
            "losses: 4.742731094360352, 0.010670498944818974\n",
            "() ()\n",
            "losses: 4.788609504699707, 0.040510520339012146\n",
            "() ()\n",
            "losses: 4.81647253036499, 0.019988689571619034\n",
            "() ()\n",
            "losses: 4.821864128112793, 0.05885643512010574\n",
            "() ()\n",
            "losses: 4.780220985412598, 0.015198813751339912\n",
            "() ()\n",
            "losses: 4.757439136505127, 0.07034149765968323\n",
            "() ()\n",
            "losses: 4.67186164855957, 0.024064499884843826\n",
            "() ()\n",
            "losses: 4.5915374755859375, 0.029359500855207443\n",
            "() ()\n",
            "losses: 4.525986671447754, 0.04103623330593109\n",
            "() ()\n",
            "losses: 4.422572612762451, 0.019527144730091095\n",
            "() ()\n",
            "losses: 4.3418402671813965, 0.020340440794825554\n",
            "() ()\n",
            "losses: 4.2838969230651855, 0.0160717461258173\n",
            "() ()\n",
            "losses: 4.249732971191406, 0.02447941154241562\n",
            "() ()\n",
            "losses: 4.2226409912109375, 0.06548868119716644\n",
            "() ()\n",
            "losses: 4.186786651611328, 0.04189623147249222\n",
            "() ()\n",
            "losses: 4.133563041687012, 0.03734016418457031\n",
            "() ()\n",
            "losses: 4.076430320739746, 0.053106408566236496\n",
            "() ()\n",
            "losses: 4.018057346343994, 0.021231386810541153\n",
            "() ()\n",
            "losses: 3.9671013355255127, 0.05332625284790993\n",
            "() ()\n",
            "losses: 3.9118266105651855, 0.022104429081082344\n",
            "() ()\n",
            "losses: 3.908784866333008, 0.020947318524122238\n",
            "() ()\n",
            "losses: 3.9421093463897705, 0.025552809238433838\n",
            "() ()\n",
            "losses: 4.015942573547363, 0.023103373125195503\n",
            "() ()\n",
            "losses: 4.115521430969238, 0.017501331865787506\n",
            "() ()\n",
            "losses: 4.241634845733643, 0.01916647143661976\n",
            "() ()\n",
            "losses: 4.371465682983398, 0.08926914632320404\n",
            "() ()\n",
            "losses: 4.424491882324219, 0.016125943511724472\n",
            "() ()\n",
            "losses: 4.49265718460083, 0.06299130618572235\n",
            "() ()\n",
            "losses: 4.508213996887207, 0.01347936037927866\n",
            "() ()\n",
            "losses: 4.549552917480469, 0.020159834995865822\n",
            "() ()\n",
            "-------------------- 300 --------------------\n"
          ],
          "name": "stdout"
        },
        {
          "output_type": "display_data",
          "data": {
            "image/png": "[encoded data removed]",
            "text/plain": [
              "<Figure size 432x288 with 1 Axes>"
            ]
          },
          "metadata": {
            "tags": []
          }
        },
        {
          "output_type": "display_data",
          "data": {
            "image/png": "[encoded data removed]",
            "text/plain": [
              "<Figure size 432x288 with 1 Axes>"
            ]
          },
          "metadata": {
            "tags": []
          }
        },
        {
          "output_type": "stream",
          "text": [
            "losses: 4.585107326507568, 0.01308513805270195\n",
            "() ()\n",
            "losses: 4.63092565536499, 0.017597272992134094\n",
            "() ()\n",
            "losses: 4.686663627624512, 0.024388302117586136\n",
            "() ()\n",
            "losses: 4.734323501586914, 0.010052533820271492\n",
            "() ()\n",
            "losses: 4.787604331970215, 0.010730473324656487\n",
            "() ()\n",
            "losses: 4.844145774841309, 0.08571470528841019\n",
            "() ()\n",
            "losses: 4.844358444213867, 0.008694189600646496\n",
            "() ()\n",
            "losses: 4.865002155303955, 0.013528527691960335\n",
            "() ()\n",
            "losses: 4.882943630218506, 0.050522319972515106\n",
            "() ()\n",
            "losses: 4.851795196533203, 0.030021172016859055\n",
            "() ()\n",
            "losses: 4.802501201629639, 0.010923396795988083\n",
            "() ()\n",
            "losses: 4.772452354431152, 0.01130203902721405\n",
            "() ()\n",
            "losses: 4.757721900939941, 0.05957888811826706\n",
            "() ()\n",
            "losses: 4.682368278503418, 0.01519251149147749\n",
            "() ()\n",
            "losses: 4.631596565246582, 0.01193895936012268\n",
            "() ()\n",
            "losses: 4.599252700805664, 0.12419834733009338\n",
            "() ()\n",
            "losses: 4.464890480041504, 0.02136881649494171\n",
            "() ()\n",
            "losses: 4.3363752365112305, 0.014151937328279018\n",
            "() ()\n",
            "losses: 4.250528335571289, 0.01832328736782074\n",
            "() ()\n",
            "losses: 4.1987175941467285, 0.026026053354144096\n",
            "() ()\n",
            "losses: 4.17418098449707, 0.023969417437911034\n",
            "() ()\n",
            "losses: 4.174508571624756, 0.04077647998929024\n",
            "() ()\n",
            "losses: 4.16959285736084, 0.026666801422834396\n",
            "() ()\n",
            "losses: 4.180703163146973, 0.01855471543967724\n",
            "() ()\n",
            "losses: 4.215897083282471, 0.018567239865660667\n",
            "() ()\n",
            "losses: 4.272503852844238, 0.028849903494119644\n",
            "() ()\n",
            "losses: 4.319544315338135, 0.01583154685795307\n",
            "() ()\n",
            "losses: 4.381063461303711, 0.019901160150766373\n",
            "() ()\n",
            "losses: 4.4797210693359375, 0.08539512753486633\n",
            "() ()\n",
            "losses: 4.489860534667969, 0.01378759928047657\n",
            "() ()\n",
            "losses: 4.519059181213379, 0.0143105648458004\n",
            "() ()\n",
            "losses: 4.560431957244873, 0.013556997291743755\n",
            "() ()\n",
            "losses: 4.6154890060424805, 0.010239536873996258\n",
            "() ()\n",
            "losses: 4.694417953491211, 0.011380266398191452\n",
            "() ()\n",
            "losses: 4.785958290100098, 0.009873643517494202\n",
            "() ()\n",
            "losses: 4.880672454833984, 0.026444319635629654\n",
            "() ()\n",
            "losses: 4.947706699371338, 0.06695091724395752\n",
            "() ()\n",
            "losses: 4.91600227355957, 0.009554438292980194\n",
            "() ()\n",
            "losses: 4.887754440307617, 0.008729069493710995\n",
            "() ()\n",
            "losses: 4.876837253570557, 0.00810681190341711\n",
            "() ()\n",
            "losses: 4.91123104095459, 0.014655073173344135\n",
            "() ()\n",
            "losses: 4.929696083068848, 0.009219357743859291\n",
            "() ()\n",
            "losses: 4.95008659362793, 0.012219632044434547\n",
            "() ()\n",
            "losses: 4.96485710144043, 0.007178690284490585\n",
            "() ()\n",
            "losses: 5.021859645843506, 0.008906140923500061\n",
            "() ()\n",
            "losses: 5.0887861251831055, 0.008613236248493195\n",
            "() ()\n",
            "losses: 5.156979560852051, 0.00658393045887351\n",
            "() ()\n",
            "losses: 5.222440719604492, 0.008560145273804665\n",
            "() ()\n",
            "losses: 5.28780460357666, 0.018467659130692482\n",
            "() ()\n",
            "losses: 5.322675704956055, 0.010852526873350143\n",
            "() ()\n",
            "-------------------- 350 --------------------\n"
          ],
          "name": "stdout"
        },
        {
          "output_type": "display_data",
          "data": {
            "image/png": "[encoded data removed]",
            "text/plain": [
              "<Figure size 432x288 with 1 Axes>"
            ]
          },
          "metadata": {
            "tags": []
          }
        },
        {
          "output_type": "display_data",
          "data": {
            "image/png": "[encoded data removed]",
            "text/plain": [
              "<Figure size 432x288 with 1 Axes>"
            ]
          },
          "metadata": {
            "tags": []
          }
        },
        {
          "output_type": "stream",
          "text": [
            "losses: 5.364531517028809, 0.005606445483863354\n",
            "() ()\n",
            "losses: 5.396966934204102, 0.010252691805362701\n",
            "() ()\n",
            "losses: 5.3957366943359375, 0.031302303075790405\n",
            "() ()\n",
            "losses: 5.356241226196289, 0.012624669820070267\n",
            "() ()\n",
            "losses: 5.35333251953125, 0.005478980951011181\n",
            "() ()\n",
            "losses: 5.364861965179443, 0.007667349651455879\n",
            "() ()\n",
            "losses: 5.386419296264648, 0.011967778205871582\n",
            "() ()\n",
            "losses: 5.414188385009766, 0.08774298429489136\n",
            "() ()\n",
            "losses: 5.327601432800293, 0.006753406021744013\n",
            "() ()\n",
            "losses: 5.252993106842041, 0.010202743113040924\n",
            "() ()\n",
            "losses: 5.190988540649414, 0.00790533609688282\n",
            "() ()\n",
            "losses: 5.1431097984313965, 0.00959980208426714\n",
            "() ()\n",
            "losses: 5.095284461975098, 0.012706607580184937\n",
            "() ()\n",
            "losses: 5.04363489151001, 0.029271630570292473\n",
            "() ()\n",
            "losses: 4.963274955749512, 0.013584179803729057\n",
            "() ()\n",
            "losses: 4.911055564880371, 0.00764920748770237\n",
            "() ()\n",
            "losses: 4.896207332611084, 0.009168456308543682\n",
            "() ()\n",
            "losses: 4.85842227935791, 0.008808265440165997\n",
            "() ()\n",
            "losses: 4.857760429382324, 0.008199643343687057\n",
            "() ()\n",
            "losses: 4.881497383117676, 0.016134874895215034\n",
            "() ()\n",
            "losses: 4.91846227645874, 0.008937670849263668\n",
            "() ()\n",
            "losses: 4.954236030578613, 0.01675695925951004\n",
            "() ()\n",
            "losses: 4.983506679534912, 0.04194348305463791\n",
            "() ()\n",
            "losses: 4.9745402336120605, 0.008073199540376663\n",
            "() ()\n",
            "losses: 4.968996524810791, 0.008553730323910713\n",
            "() ()\n",
            "losses: 4.964505195617676, 0.00722414068877697\n",
            "() ()\n",
            "losses: 4.982091903686523, 0.024620337411761284\n",
            "() ()\n",
            "losses: 4.995163917541504, 0.02764740213751793\n",
            "() ()\n",
            "losses: 4.9706268310546875, 0.00916752777993679\n",
            "() ()\n",
            "losses: 4.913531303405762, 0.007624309044331312\n",
            "() ()\n",
            "losses: 4.949179172515869, 0.007386098150163889\n",
            "() ()\n",
            "losses: 4.969479560852051, 0.010257965885102749\n",
            "() ()\n",
            "losses: 4.984226226806641, 0.008122584782540798\n",
            "() ()\n",
            "losses: 4.9569807052612305, 0.008364586159586906\n",
            "() ()\n",
            "losses: 4.967189788818359, 0.0075312415137887\n",
            "() ()\n",
            "losses: 5.0236101150512695, 0.04651782661676407\n",
            "() ()\n",
            "losses: 5.026639938354492, 0.008003413677215576\n",
            "() ()\n",
            "losses: 5.045175075531006, 0.01037376094609499\n",
            "() ()\n",
            "losses: 5.079901695251465, 0.007800005842000246\n",
            "() ()\n",
            "losses: 5.1348676681518555, 0.006197091657668352\n",
            "() ()\n",
            "losses: 5.1822099685668945, 0.024574585258960724\n",
            "() ()\n",
            "losses: 5.224412441253662, 0.018057946115732193\n",
            "() ()\n",
            "losses: 5.254210472106934, 0.006111595313996077\n",
            "() ()\n",
            "losses: 5.2899909019470215, 0.012707569636404514\n",
            "() ()\n",
            "losses: 5.320716381072998, 0.021382218226790428\n",
            "() ()\n",
            "losses: 5.327563285827637, 0.01117115467786789\n",
            "() ()\n",
            "losses: 5.343860626220703, 0.005074570886790752\n",
            "() ()\n",
            "losses: 5.366524696350098, 0.01106179691851139\n",
            "() ()\n",
            "losses: 5.389189720153809, 0.01235517393797636\n",
            "() ()\n",
            "losses: 5.40093994140625, 0.007272137328982353\n",
            "() ()\n",
            "-------------------- 400 --------------------\n"
          ],
          "name": "stdout"
        },
        {
          "output_type": "display_data",
          "data": {
            "image/png": "[encoded data removed]",
            "text/plain": [
              "<Figure size 432x288 with 1 Axes>"
            ]
          },
          "metadata": {
            "tags": []
          }
        },
        {
          "output_type": "display_data",
          "data": {
            "image/png": "[encoded data removed]",
            "text/plain": [
              "<Figure size 432x288 with 1 Axes>"
            ]
          },
          "metadata": {
            "tags": []
          }
        },
        {
          "output_type": "stream",
          "text": [
            "losses: 5.419317245483398, 0.006022206041961908\n",
            "() ()\n",
            "losses: 5.447019100189209, 0.010954715311527252\n",
            "() ()\n",
            "losses: 5.47088623046875, 0.0072778332978487015\n",
            "() ()\n",
            "losses: 5.497527122497559, 0.005949851591140032\n",
            "() ()\n",
            "losses: 5.529935836791992, 0.00770403491333127\n",
            "() ()\n",
            "losses: 5.563394546508789, 0.005708792246878147\n",
            "() ()\n",
            "losses: 5.600760459899902, 0.009644035249948502\n",
            "() ()\n",
            "losses: 5.632321357727051, 0.005730208940804005\n",
            "() ()\n",
            "losses: 5.667412281036377, 0.026617471128702164\n",
            "() ()\n",
            "losses: 5.654649257659912, 0.004285123664885759\n",
            "() ()\n",
            "losses: 5.652029037475586, 0.013041188940405846\n",
            "() ()\n",
            "losses: 5.6378631591796875, 0.012333880178630352\n",
            "() ()\n",
            "losses: 5.613321781158447, 0.026664365082979202\n",
            "() ()\n",
            "losses: 5.5510969161987305, 0.0184415765106678\n",
            "() ()\n",
            "losses: 5.470821380615234, 0.03438504785299301\n",
            "() ()\n",
            "losses: 5.349437713623047, 0.011001160368323326\n",
            "() ()\n",
            "losses: 5.240204334259033, 0.007685510441660881\n",
            "() ()\n",
            "losses: 5.152902603149414, 0.0068742660805583\n",
            "() ()\n",
            "losses: 5.091020107269287, 0.016753902658820152\n",
            "() ()\n",
            "losses: 5.0277299880981445, 0.008493398316204548\n",
            "() ()\n",
            "losses: 4.987521171569824, 0.007692129351198673\n",
            "() ()\n",
            "losses: 4.972001552581787, 0.009804370813071728\n",
            "() ()\n",
            "losses: 4.973518371582031, 0.009141863323748112\n",
            "() ()\n",
            "losses: 4.992613792419434, 0.009125210344791412\n",
            "() ()\n",
            "losses: 5.026456832885742, 0.01717224344611168\n",
            "() ()\n",
            "losses: 5.050748825073242, 0.009280528873205185\n",
            "() ()\n",
            "losses: 5.0868940353393555, 0.008250594139099121\n",
            "() ()\n",
            "losses: 5.135575294494629, 0.0066987499594688416\n",
            "() ()\n",
            "losses: 5.196362018585205, 0.013473376631736755\n",
            "() ()\n",
            "losses: 5.252046585083008, 0.008327966555953026\n",
            "() ()\n",
            "losses: 5.312613487243652, 0.006689854897558689\n",
            "() ()\n",
            "losses: 5.378701210021973, 0.00840216875076294\n",
            "() ()\n",
            "losses: 5.444675445556641, 0.005582203157246113\n",
            "() ()\n",
            "losses: 5.515377998352051, 0.0043182577937841415\n",
            "() ()\n",
            "losses: 5.59199333190918, 0.00980018638074398\n",
            "() ()\n",
            "losses: 5.6579270362854, 0.01762951724231243\n",
            "() ()\n",
            "losses: 5.692934989929199, 0.004785818047821522\n",
            "() ()\n",
            "losses: 5.732661247253418, 0.022063009440898895\n",
            "() ()\n",
            "losses: 5.73181676864624, 0.005381613504141569\n",
            "() ()\n",
            "losses: 5.736959934234619, 0.003934656269848347\n",
            "() ()\n",
            "losses: 5.750180721282959, 0.005154251586645842\n",
            "() ()\n",
            "losses: 5.76821231842041, 0.0080882478505373\n",
            "() ()\n",
            "losses: 5.781280517578125, 0.04524647444486618\n",
            "() ()\n",
            "losses: 5.70882511138916, 0.03941114991903305\n",
            "() ()\n",
            "losses: 5.57274055480957, 0.006058904342353344\n",
            "() ()\n",
            "losses: 5.456933975219727, 0.037940580397844315\n",
            "() ()\n",
            "losses: 5.289890289306641, 0.01043025217950344\n",
            "() ()\n",
            "losses: 5.141265869140625, 0.06397676467895508\n",
            "() ()\n",
            "losses: 4.905926704406738, 0.011904707178473473\n",
            "() ()\n",
            "losses: 4.706727981567383, 0.010174930095672607\n",
            "() ()\n",
            "-------------------- 450 --------------------\n"
          ],
          "name": "stdout"
        },
        {
          "output_type": "display_data",
          "data": {
            "image/png": "[encoded data removed]",
            "text/plain": [
              "<Figure size 432x288 with 1 Axes>"
            ]
          },
          "metadata": {
            "tags": []
          }
        },
        {
          "output_type": "display_data",
          "data": {
            "image/png": "[encoded data removed]",
            "text/plain": [
              "<Figure size 432x288 with 1 Axes>"
            ]
          },
          "metadata": {
            "tags": []
          }
        },
        {
          "output_type": "stream",
          "text": [
            "losses: 4.556610107421875, 0.019299495965242386\n",
            "() ()\n",
            "losses: 4.433801651000977, 0.016415169462561607\n",
            "() ()\n",
            "losses: 4.353757858276367, 0.02277810126543045\n",
            "() ()\n",
            "losses: 4.300032615661621, 0.015943028032779694\n",
            "() ()\n",
            "losses: 4.293346881866455, 0.014663857407867908\n",
            "() ()\n",
            "losses: 4.334250450134277, 0.01721029169857502\n",
            "() ()\n",
            "losses: 4.409264087677002, 0.02149752527475357\n",
            "() ()\n",
            "losses: 4.494336128234863, 0.01258131768554449\n",
            "() ()\n",
            "losses: 4.608191013336182, 0.011403210461139679\n",
            "() ()\n",
            "losses: 4.743015289306641, 0.010733423754572868\n",
            "() ()\n",
            "losses: 4.891125202178955, 0.00833640806376934\n",
            "() ()\n",
            "losses: 5.0492963790893555, 0.014099841006100178\n",
            "() ()\n",
            "losses: 5.1961469650268555, 0.00634114071726799\n",
            "() ()\n",
            "losses: 5.345480442047119, 0.008703256957232952\n",
            "() ()\n",
            "losses: 5.485987663269043, 0.007272929884493351\n",
            "() ()\n",
            "losses: 5.617974758148193, 0.006808267906308174\n",
            "() ()\n",
            "losses: 5.739318370819092, 0.008260676637291908\n",
            "() ()\n",
            "losses: 5.846525192260742, 0.003999325446784496\n",
            "() ()\n",
            "losses: 5.949485778808594, 0.00435275211930275\n",
            "() ()\n",
            "losses: 6.046713829040527, 0.0072147054597735405\n",
            "() ()\n",
            "losses: 6.128532409667969, 0.03459944576025009\n",
            "() ()\n",
            "losses: 6.127502918243408, 0.0026226548943668604\n",
            "() ()\n",
            "losses: 6.133899688720703, 0.005086802877485752\n",
            "() ()\n",
            "losses: 6.135727882385254, 0.0023750667460262775\n",
            "() ()\n",
            "losses: 6.143009185791016, 0.010301802307367325\n",
            "() ()\n",
            "losses: 6.127442359924316, 0.0109093077480793\n",
            "() ()\n",
            "losses: 6.097424507141113, 0.004515787586569786\n",
            "() ()\n",
            "losses: 6.072690963745117, 0.053843408823013306\n",
            "() ()\n",
            "losses: 5.921866416931152, 0.04232174903154373\n",
            "() ()\n",
            "losses: 5.624712944030762, 0.00435913261026144\n",
            "() ()\n",
            "losses: 5.403942584991455, 0.004729330539703369\n",
            "() ()\n",
            "losses: 5.130030632019043, 0.006177465431392193\n",
            "() ()\n",
            "losses: 4.9610443115234375, 0.00767893111333251\n",
            "() ()\n",
            "losses: 4.878868103027344, 0.010327077470719814\n",
            "() ()\n",
            "losses: 4.824214935302734, 0.008468342013657093\n",
            "() ()\n",
            "losses: 4.811219692230225, 0.00825841911137104\n",
            "() ()\n",
            "losses: 4.834885597229004, 0.00934339314699173\n",
            "() ()\n",
            "losses: 4.886146068572998, 0.007836760953068733\n",
            "() ()\n",
            "losses: 4.956748008728027, 0.007485110312700272\n",
            "() ()\n",
            "losses: 5.048201560974121, 0.013435697183012962\n",
            "() ()\n",
            "losses: 5.131513595581055, 0.006075975485146046\n",
            "() ()\n",
            "losses: 5.223454475402832, 0.006702033802866936\n",
            "() ()\n",
            "losses: 5.321275234222412, 0.00898716226220131\n",
            "() ()\n",
            "losses: 5.420899391174316, 0.005208137910813093\n",
            "() ()\n",
            "losses: 5.529083251953125, 0.0045416634529829025\n",
            "() ()\n",
            "losses: 5.644247055053711, 0.010498271323740482\n",
            "() ()\n",
            "losses: 5.740129470825195, 0.009563094936311245\n",
            "() ()\n",
            "losses: 5.820146083831787, 0.07060152292251587\n",
            "() ()\n",
            "losses: 5.755974769592285, 0.0034517559688538313\n",
            "() ()\n",
            "losses: 5.71242618560791, 0.0034829447977244854\n",
            "() ()\n",
            "-------------------- 500 --------------------\n"
          ],
          "name": "stdout"
        },
        {
          "output_type": "display_data",
          "data": {
            "image/png": "[encoded data removed]",
            "text/plain": [
              "<Figure size 432x288 with 1 Axes>"
            ]
          },
          "metadata": {
            "tags": []
          }
        },
        {
          "output_type": "display_data",
          "data": {
            "image/png": "[encoded data removed]",
            "text/plain": [
              "<Figure size 432x288 with 1 Axes>"
            ]
          },
          "metadata": {
            "tags": []
          }
        },
        {
          "output_type": "stream",
          "text": [
            "losses: 5.682645320892334, 0.004437536001205444\n",
            "() ()\n",
            "losses: 5.666802883148193, 0.006663079373538494\n",
            "() ()\n",
            "losses: 5.654391765594482, 0.004349584691226482\n",
            "() ()\n",
            "losses: 5.655689239501953, 0.005511473398655653\n",
            "() ()\n",
            "losses: 5.665860176086426, 0.030743982642889023\n",
            "() ()\n",
            "losses: 5.604840278625488, 0.005220502614974976\n",
            "() ()\n",
            "losses: 5.5607500076293945, 0.0045614526607096195\n",
            "() ()\n",
            "losses: 5.535775661468506, 0.004611377604305744\n",
            "() ()\n",
            "losses: 5.528655052185059, 0.0044713495299220085\n",
            "() ()\n",
            "losses: 5.538947105407715, 0.013089664280414581\n",
            "() ()\n",
            "losses: 5.536863327026367, 0.015437658876180649\n",
            "() ()\n",
            "losses: 5.510435581207275, 0.008302992209792137\n",
            "() ()\n",
            "losses: 5.491497039794922, 0.004687449429184198\n",
            "() ()\n",
            "losses: 5.49213981628418, 0.005046291742473841\n",
            "() ()\n",
            "losses: 5.50844144821167, 0.00557559821754694\n",
            "() ()\n",
            "losses: 5.5348920822143555, 0.004276731051504612\n",
            "() ()\n",
            "losses: 5.572080135345459, 0.00906217098236084\n",
            "() ()\n",
            "losses: 5.605102062225342, 0.003786144545301795\n",
            "() ()\n",
            "losses: 5.650650501251221, 0.003554436145350337\n",
            "() ()\n",
            "losses: 5.705696105957031, 0.0037384384777396917\n",
            "() ()\n",
            "losses: 5.768006324768066, 0.0034383502788841724\n",
            "() ()\n",
            "losses: 5.836313724517822, 0.004306068643927574\n",
            "() ()\n",
            "losses: 5.905878067016602, 0.0030762189999222755\n",
            "() ()\n",
            "losses: 5.978802680969238, 0.010081499814987183\n",
            "() ()\n",
            "losses: 6.029597282409668, 0.0043295929208397865\n",
            "() ()\n",
            "losses: 6.079411506652832, 0.004252166487276554\n",
            "() ()\n",
            "losses: 6.127754211425781, 0.002431335859000683\n",
            "() ()\n",
            "losses: 6.179205894470215, 0.00212480709888041\n",
            "() ()\n",
            "losses: 6.23442268371582, 0.0650617703795433\n",
            "() ()\n",
            "losses: 6.12056303024292, 0.004810625687241554\n",
            "() ()\n",
            "losses: 6.018279075622559, 0.0026931697502732277\n",
            "() ()\n",
            "losses: 5.934293746948242, 0.003919870592653751\n",
            "() ()\n",
            "losses: 5.86629581451416, 0.0041797286830842495\n",
            "() ()\n",
            "losses: 5.812653541564941, 0.006107257679104805\n",
            "() ()\n",
            "losses: 5.767299652099609, 0.0034042445477098227\n",
            "() ()\n",
            "losses: 5.739262104034424, 0.007385486736893654\n",
            "() ()\n",
            "losses: 5.714781284332275, 0.0067510707303881645\n",
            "() ()\n",
            "losses: 5.695016860961914, 0.003556610317900777\n",
            "() ()\n",
            "losses: 5.691017150878906, 0.0036149148363620043\n",
            "() ()\n",
            "losses: 5.700987815856934, 0.004670425318181515\n",
            "() ()\n",
            "losses: 5.720686435699463, 0.0035675540566444397\n",
            "() ()\n",
            "losses: 5.751181125640869, 0.003203396685421467\n",
            "() ()\n",
            "losses: 5.793079376220703, 0.003115245373919606\n",
            "() ()\n",
            "losses: 5.843743324279785, 0.003447895171120763\n",
            "() ()\n",
            "losses: 5.900496006011963, 0.006555943749845028\n",
            "() ()\n",
            "losses: 5.950867652893066, 0.004246813245117664\n",
            "() ()\n",
            "losses: 6.000287055969238, 0.005300072021782398\n",
            "() ()\n",
            "losses: 6.04646110534668, 0.0025182536337524652\n",
            "() ()\n",
            "losses: 6.098234176635742, 0.0023230810184031725\n",
            "() ()\n",
            "losses: 6.154973983764648, 0.002560616936534643\n",
            "() ()\n",
            "-------------------- 550 --------------------\n"
          ],
          "name": "stdout"
        },
        {
          "output_type": "display_data",
          "data": {
            "image/png": "[encoded data removed]",
            "text/plain": [
              "<Figure size 432x288 with 1 Axes>"
            ]
          },
          "metadata": {
            "tags": []
          }
        },
        {
          "output_type": "display_data",
          "data": {
            "image/png": "[encoded data removed]",
            "text/plain": [
              "<Figure size 432x288 with 1 Axes>"
            ]
          },
          "metadata": {
            "tags": []
          }
        },
        {
          "output_type": "stream",
          "text": [
            "losses: 6.213067054748535, 0.002261012326925993\n",
            "() ()\n",
            "losses: 6.2733473777771, 0.0021651654969900846\n",
            "() ()\n",
            "losses: 6.334592342376709, 0.0021415906958281994\n",
            "() ()\n",
            "losses: 6.396204948425293, 0.0020551623310893774\n",
            "() ()\n",
            "losses: 6.457392692565918, 0.00290034431964159\n",
            "() ()\n",
            "losses: 6.515446662902832, 0.002125315135344863\n",
            "() ()\n",
            "losses: 6.572187900543213, 0.007349696941673756\n",
            "() ()\n",
            "losses: 6.610512733459473, 0.0014663602923974395\n",
            "() ()\n",
            "losses: 6.650791168212891, 0.0018174364231526852\n",
            "() ()\n",
            "losses: 6.690969467163086, 0.0017097167437896132\n",
            "() ()\n",
            "losses: 6.731111526489258, 0.012860314920544624\n",
            "() ()\n",
            "losses: 6.735958099365234, 0.0013523651286959648\n",
            "() ()\n",
            "losses: 6.744815349578857, 0.0016642758855596185\n",
            "() ()\n",
            "losses: 6.756507873535156, 0.0021580751053988934\n",
            "() ()\n",
            "losses: 6.769021987915039, 0.0035265523474663496\n",
            "() ()\n",
            "losses: 6.777237415313721, 0.006388604640960693\n",
            "() ()\n",
            "losses: 6.772682189941406, 0.002897531958296895\n",
            "() ()\n",
            "losses: 6.76780366897583, 0.0014584989985451102\n",
            "() ()\n",
            "losses: 6.767377853393555, 0.0015724918339401484\n",
            "() ()\n",
            "losses: 6.771120548248291, 0.005582059733569622\n",
            "() ()\n",
            "losses: 6.764095783233643, 0.0017491821199655533\n",
            "() ()\n",
            "losses: 6.7611541748046875, 0.0064032915979623795\n",
            "() ()\n",
            "losses: 6.745460033416748, 0.006588828284293413\n",
            "() ()\n",
            "losses: 6.718863487243652, 0.0030705691315233707\n",
            "() ()\n",
            "losses: 6.693855285644531, 0.002976324874907732\n",
            "() ()\n",
            "losses: 6.670726776123047, 0.005530533846467733\n",
            "() ()\n",
            "losses: 6.641439437866211, 0.0020232286769896746\n",
            "() ()\n",
            "losses: 6.618664741516113, 0.0027840817347168922\n",
            "() ()\n",
            "losses: 6.599320411682129, 0.009458031505346298\n",
            "() ()\n",
            "losses: 6.556828498840332, 0.004616966471076012\n",
            "() ()\n",
            "losses: 6.5141215324401855, 0.004554019775241613\n",
            "() ()\n",
            "losses: 6.4720563888549805, 0.0031976725440472364\n",
            "() ()\n",
            "losses: 6.436094284057617, 0.009944810532033443\n",
            "() ()\n",
            "losses: 6.377908706665039, 0.0018068425124511123\n",
            "() ()\n",
            "losses: 6.33370304107666, 0.002809565979987383\n",
            "() ()\n",
            "losses: 6.299126625061035, 0.002846301533281803\n",
            "() ()\n",
            "losses: 6.273309707641602, 0.01132127083837986\n",
            "() ()\n",
            "losses: 6.223155975341797, 0.003366150427609682\n",
            "() ()\n",
            "losses: 6.183177947998047, 0.006996342446655035\n",
            "() ()\n",
            "losses: 6.138979911804199, 0.002458253875374794\n",
            "() ()\n",
            "losses: 6.109095096588135, 0.00806245394051075\n",
            "() ()\n",
            "losses: 6.070828437805176, 0.0044553689658641815\n",
            "() ()\n",
            "losses: 6.041378498077393, 0.0025257256347686052\n",
            "() ()\n",
            "losses: 6.0266923904418945, 0.003146789036691189\n",
            "() ()\n",
            "losses: 6.02352237701416, 0.003493226133286953\n",
            "() ()\n",
            "losses: 6.0292768478393555, 0.002546223346143961\n",
            "() ()\n",
            "losses: 6.046605110168457, 0.00484099518507719\n",
            "() ()\n",
            "losses: 6.063437461853027, 0.002433190355077386\n",
            "() ()\n",
            "losses: 6.087578773498535, 0.002416771836578846\n",
            "() ()\n",
            "losses: 6.119800567626953, 0.002251293510198593\n",
            "() ()\n",
            "-------------------- 600 --------------------\n"
          ],
          "name": "stdout"
        },
        {
          "output_type": "display_data",
          "data": {
            "image/png": "[encoded data removed]",
            "text/plain": [
              "<Figure size 432x288 with 1 Axes>"
            ]
          },
          "metadata": {
            "tags": []
          }
        },
        {
          "output_type": "display_data",
          "data": {
            "image/png": "[encoded data removed]",
            "text/plain": [
              "<Figure size 432x288 with 1 Axes>"
            ]
          },
          "metadata": {
            "tags": []
          }
        },
        {
          "output_type": "stream",
          "text": [
            "losses: 6.1594109535217285, 0.0035261204466223717\n",
            "() ()\n",
            "losses: 6.200333118438721, 0.004788617603480816\n",
            "() ()\n",
            "losses: 6.237375259399414, 0.0021301342640072107\n",
            "() ()\n",
            "losses: 6.279534339904785, 0.0028379340656101704\n",
            "() ()\n",
            "losses: 6.323149681091309, 0.0020018755458295345\n",
            "() ()\n",
            "losses: 6.370425224304199, 0.002179731149226427\n",
            "() ()\n",
            "losses: 6.419721603393555, 0.00198464747518301\n",
            "() ()\n",
            "losses: 6.469863414764404, 0.0028583621606230736\n",
            "() ()\n",
            "losses: 6.517343521118164, 0.0018968252697959542\n",
            "() ()\n",
            "losses: 6.565332889556885, 0.0019899241160601377\n",
            "() ()\n",
            "losses: 6.613041877746582, 0.001488970941863954\n",
            "() ()\n",
            "losses: 6.662137031555176, 0.005081809125840664\n",
            "() ()\n",
            "losses: 6.699472427368164, 0.0047450908459723\n",
            "() ()\n",
            "losses: 6.725759029388428, 0.0013645085273310542\n",
            "() ()\n",
            "losses: 6.75473690032959, 0.001352854073047638\n",
            "() ()\n",
            "losses: 6.785619258880615, 0.0013694318477064371\n",
            "() ()\n",
            "losses: 6.818045616149902, 0.0021614539436995983\n",
            "() ()\n",
            "losses: 6.849155426025391, 0.001178995706140995\n",
            "() ()\n",
            "losses: 6.881736755371094, 0.0033371420577168465\n",
            "() ()\n",
            "losses: 6.907238006591797, 0.0011137847322970629\n",
            "() ()\n",
            "losses: 6.9345383644104, 0.0011140676215291023\n",
            "() ()\n",
            "losses: 6.963438034057617, 0.0027857651002705097\n",
            "() ()\n",
            "losses: 6.987185478210449, 0.003853102680295706\n",
            "() ()\n",
            "losses: 7.001742362976074, 0.0020513301715254784\n",
            "() ()\n",
            "losses: 7.0155487060546875, 0.0014679544838145375\n",
            "() ()\n",
            "losses: 7.030021667480469, 0.0009910010267049074\n",
            "() ()\n",
            "losses: 7.0473151206970215, 0.00125999771989882\n",
            "() ()\n",
            "losses: 7.06572151184082, 0.005461365915834904\n",
            "() ()\n",
            "losses: 7.071044921875, 0.0017574264202266932\n",
            "() ()\n",
            "losses: 7.076897621154785, 0.0011504587018862367\n",
            "() ()\n",
            "losses: 7.085188865661621, 0.0009481561137363315\n",
            "() ()\n",
            "losses: 7.0965166091918945, 0.0009522949694655836\n",
            "() ()\n",
            "losses: 7.11024284362793, 0.0012043341994285583\n",
            "() ()\n",
            "losses: 7.125280380249023, 0.046001940965652466\n",
            "() ()\n",
            "losses: 7.010150909423828, 0.017860624939203262\n",
            "() ()\n",
            "losses: 6.847127914428711, 0.0010748007334768772\n",
            "() ()\n",
            "losses: 6.702526092529297, 0.004244432784616947\n",
            "() ()\n",
            "losses: 6.563884735107422, 0.0014706625370308757\n",
            "() ()\n",
            "losses: 6.445508003234863, 0.003622742835432291\n",
            "() ()\n",
            "losses: 6.338266849517822, 0.001937150489538908\n",
            "() ()\n",
            "losses: 6.251165390014648, 0.002016498241573572\n",
            "() ()\n",
            "losses: 6.182943344116211, 0.002107491483911872\n",
            "() ()\n",
            "losses: 6.132909297943115, 0.002473752945661545\n",
            "() ()\n",
            "losses: 6.099018096923828, 0.004853154998272657\n",
            "() ()\n",
            "losses: 6.071314811706543, 0.0024988336954265833\n",
            "() ()\n",
            "losses: 6.0585808753967285, 0.0023627246264368296\n",
            "() ()\n",
            "losses: 6.059772491455078, 0.004369225353002548\n",
            "() ()\n",
            "losses: 6.062471389770508, 0.003133019432425499\n",
            "() ()\n",
            "losses: 6.074094772338867, 0.0064844172447919846\n",
            "() ()\n",
            "losses: 6.081452369689941, 0.004510823637247086\n",
            "() ()\n",
            "-------------------- 650 --------------------\n"
          ],
          "name": "stdout"
        },
        {
          "output_type": "display_data",
          "data": {
            "image/png": "[encoded data removed]",
            "text/plain": [
              "<Figure size 432x288 with 1 Axes>"
            ]
          },
          "metadata": {
            "tags": []
          }
        },
        {
          "output_type": "display_data",
          "data": {
            "image/png": "[encoded data removed]",
            "text/plain": [
              "<Figure size 432x288 with 1 Axes>"
            ]
          },
          "metadata": {
            "tags": []
          }
        },
        {
          "output_type": "stream",
          "text": [
            "losses: 6.091923713684082, 0.0028461748734116554\n",
            "() ()\n",
            "losses: 6.110774040222168, 0.002362116938456893\n",
            "() ()\n",
            "losses: 6.138789176940918, 0.0025890041142702103\n",
            "() ()\n",
            "losses: 6.173472881317139, 0.002159932628273964\n",
            "() ()\n",
            "losses: 6.215252876281738, 0.0021802287083119154\n",
            "() ()\n",
            "losses: 6.262650489807129, 0.004487121477723122\n",
            "() ()\n",
            "losses: 6.305116176605225, 0.0019836858846247196\n",
            "() ()\n",
            "losses: 6.352362632751465, 0.001829995308071375\n",
            "() ()\n",
            "losses: 6.403580665588379, 0.0017035037744790316\n",
            "() ()\n",
            "losses: 6.458270072937012, 0.0026024342514574528\n",
            "() ()\n",
            "losses: 6.511334419250488, 0.0018464240711182356\n",
            "() ()\n",
            "losses: 6.565356731414795, 0.0016094602178782225\n",
            "() ()\n",
            "losses: 6.620204925537109, 0.00153694162145257\n",
            "() ()\n",
            "losses: 6.6750359535217285, 0.0019344231113791466\n",
            "() ()\n",
            "losses: 6.727895736694336, 0.015844523906707764\n",
            "() ()\n",
            "losses: 6.726273059844971, 0.0013117684284225106\n",
            "() ()\n",
            "losses: 6.730520248413086, 0.0016014066059142351\n",
            "() ()\n",
            "losses: 6.739045143127441, 0.0014726499794051051\n",
            "() ()\n",
            "losses: 6.751693248748779, 0.0013236553641036153\n",
            "() ()\n",
            "losses: 6.768623352050781, 0.001600730582140386\n",
            "() ()\n"
          ],
          "name": "stdout"
        },
        {
          "output_type": "error",
          "ename": "KeyboardInterrupt",
          "evalue": "ignored",
          "traceback": [
            "\u001b[0;31m---------------------------------------------------------------------------\u001b[0m",
            "\u001b[0;31mKeyboardInterrupt\u001b[0m                         Traceback (most recent call last)",
            "\u001b[0;32m<ipython-input-59-463be51828aa>\u001b[0m in \u001b[0;36m<module>\u001b[0;34m()\u001b[0m\n\u001b[1;32m      2\u001b[0m     \u001b[0mprint\u001b[0m\u001b[0;34m(\u001b[0m\u001b[0me\u001b[0m\u001b[0;34m)\u001b[0m\u001b[0;34m\u001b[0m\u001b[0;34m\u001b[0m\u001b[0m\n\u001b[1;32m      3\u001b[0m     \u001b[0;32mfor\u001b[0m \u001b[0midx\u001b[0m\u001b[0;34m,\u001b[0m \u001b[0mreal_data\u001b[0m \u001b[0;32min\u001b[0m \u001b[0menumerate\u001b[0m\u001b[0;34m(\u001b[0m\u001b[0mdata\u001b[0m\u001b[0;34m)\u001b[0m\u001b[0;34m:\u001b[0m\u001b[0;34m\u001b[0m\u001b[0;34m\u001b[0m\u001b[0m\n\u001b[0;32m----> 4\u001b[0;31m         \u001b[0mtrain_step\u001b[0m\u001b[0;34m(\u001b[0m\u001b[0mreal_data\u001b[0m\u001b[0;34m)\u001b[0m\u001b[0;34m\u001b[0m\u001b[0;34m\u001b[0m\u001b[0m\n\u001b[0m\u001b[1;32m      5\u001b[0m         \u001b[0;32mif\u001b[0m \u001b[0midx\u001b[0m \u001b[0;34m%\u001b[0m \u001b[0;36m50\u001b[0m \u001b[0;34m==\u001b[0m \u001b[0;36m0\u001b[0m\u001b[0;34m:\u001b[0m\u001b[0;34m\u001b[0m\u001b[0;34m\u001b[0m\u001b[0m\n\u001b[1;32m      6\u001b[0m             \u001b[0mprint\u001b[0m\u001b[0;34m(\u001b[0m\u001b[0;34mf'-------------------- {idx} --------------------'\u001b[0m\u001b[0;34m)\u001b[0m\u001b[0;34m\u001b[0m\u001b[0;34m\u001b[0m\u001b[0m\n",
            "\u001b[0;32m<ipython-input-57-5cdb480d6fc0>\u001b[0m in \u001b[0;36mtrain_step\u001b[0;34m(real_data)\u001b[0m\n\u001b[1;32m     15\u001b[0m \u001b[0;34m\u001b[0m\u001b[0m\n\u001b[1;32m     16\u001b[0m     \u001b[0mgrads_g\u001b[0m \u001b[0;34m=\u001b[0m \u001b[0mtape_g\u001b[0m\u001b[0;34m.\u001b[0m\u001b[0mgradient\u001b[0m\u001b[0;34m(\u001b[0m\u001b[0mloss_g\u001b[0m\u001b[0;34m,\u001b[0m \u001b[0mgenerator\u001b[0m\u001b[0;34m.\u001b[0m\u001b[0mtrainable_variables\u001b[0m\u001b[0;34m)\u001b[0m\u001b[0;34m\u001b[0m\u001b[0;34m\u001b[0m\u001b[0m\n\u001b[0;32m---> 17\u001b[0;31m     \u001b[0mgrads_d\u001b[0m \u001b[0;34m=\u001b[0m \u001b[0mtape_d\u001b[0m\u001b[0;34m.\u001b[0m\u001b[0mgradient\u001b[0m\u001b[0;34m(\u001b[0m\u001b[0mloss_d\u001b[0m\u001b[0;34m,\u001b[0m \u001b[0mdiscriminator\u001b[0m\u001b[0;34m.\u001b[0m\u001b[0mtrainable_variables\u001b[0m\u001b[0;34m)\u001b[0m\u001b[0;34m\u001b[0m\u001b[0;34m\u001b[0m\u001b[0m\n\u001b[0m\u001b[1;32m     18\u001b[0m     \u001b[0mopt_g\u001b[0m\u001b[0;34m.\u001b[0m\u001b[0mapply_gradients\u001b[0m\u001b[0;34m(\u001b[0m\u001b[0mzip\u001b[0m\u001b[0;34m(\u001b[0m\u001b[0mgrads_g\u001b[0m\u001b[0;34m,\u001b[0m \u001b[0mgenerator\u001b[0m\u001b[0;34m.\u001b[0m\u001b[0mtrainable_variables\u001b[0m\u001b[0;34m)\u001b[0m\u001b[0;34m)\u001b[0m\u001b[0;34m\u001b[0m\u001b[0;34m\u001b[0m\u001b[0m\n\u001b[1;32m     19\u001b[0m     \u001b[0mopt_d\u001b[0m\u001b[0;34m.\u001b[0m\u001b[0mapply_gradients\u001b[0m\u001b[0;34m(\u001b[0m\u001b[0mzip\u001b[0m\u001b[0;34m(\u001b[0m\u001b[0mgrads_d\u001b[0m\u001b[0;34m,\u001b[0m \u001b[0mdiscriminator\u001b[0m\u001b[0;34m.\u001b[0m\u001b[0mtrainable_variables\u001b[0m\u001b[0;34m)\u001b[0m\u001b[0;34m)\u001b[0m\u001b[0;34m\u001b[0m\u001b[0;34m\u001b[0m\u001b[0m\n",
            "\u001b[0;32m/usr/local/lib/python3.6/dist-packages/tensorflow/python/eager/backprop.py\u001b[0m in \u001b[0;36mgradient\u001b[0;34m(self, target, sources, output_gradients, unconnected_gradients)\u001b[0m\n\u001b[1;32m   1000\u001b[0m         \u001b[0moutput_gradients\u001b[0m\u001b[0;34m=\u001b[0m\u001b[0moutput_gradients\u001b[0m\u001b[0;34m,\u001b[0m\u001b[0;34m\u001b[0m\u001b[0;34m\u001b[0m\u001b[0m\n\u001b[1;32m   1001\u001b[0m         \u001b[0msources_raw\u001b[0m\u001b[0;34m=\u001b[0m\u001b[0mflat_sources_raw\u001b[0m\u001b[0;34m,\u001b[0m\u001b[0;34m\u001b[0m\u001b[0;34m\u001b[0m\u001b[0m\n\u001b[0;32m-> 1002\u001b[0;31m         unconnected_gradients=unconnected_gradients)\n\u001b[0m\u001b[1;32m   1003\u001b[0m \u001b[0;34m\u001b[0m\u001b[0m\n\u001b[1;32m   1004\u001b[0m     \u001b[0;32mif\u001b[0m \u001b[0;32mnot\u001b[0m \u001b[0mself\u001b[0m\u001b[0;34m.\u001b[0m\u001b[0m_persistent\u001b[0m\u001b[0;34m:\u001b[0m\u001b[0;34m\u001b[0m\u001b[0;34m\u001b[0m\u001b[0m\n",
            "\u001b[0;32m/usr/local/lib/python3.6/dist-packages/tensorflow/python/eager/imperative_grad.py\u001b[0m in \u001b[0;36mimperative_grad\u001b[0;34m(tape, target, sources, output_gradients, sources_raw, unconnected_gradients)\u001b[0m\n\u001b[1;32m     74\u001b[0m       \u001b[0moutput_gradients\u001b[0m\u001b[0;34m,\u001b[0m\u001b[0;34m\u001b[0m\u001b[0;34m\u001b[0m\u001b[0m\n\u001b[1;32m     75\u001b[0m       \u001b[0msources_raw\u001b[0m\u001b[0;34m,\u001b[0m\u001b[0;34m\u001b[0m\u001b[0;34m\u001b[0m\u001b[0m\n\u001b[0;32m---> 76\u001b[0;31m       compat.as_str(unconnected_gradients.value))\n\u001b[0m",
            "\u001b[0;32m/usr/local/lib/python3.6/dist-packages/tensorflow/python/eager/backprop.py\u001b[0m in \u001b[0;36m_gradient_function\u001b[0;34m(op_name, attr_tuple, num_inputs, inputs, outputs, out_grads, skip_input_indices)\u001b[0m\n\u001b[1;32m    135\u001b[0m     \u001b[0;32mreturn\u001b[0m \u001b[0;34m[\u001b[0m\u001b[0;32mNone\u001b[0m\u001b[0;34m]\u001b[0m \u001b[0;34m*\u001b[0m \u001b[0mnum_inputs\u001b[0m\u001b[0;34m\u001b[0m\u001b[0;34m\u001b[0m\u001b[0m\n\u001b[1;32m    136\u001b[0m \u001b[0;34m\u001b[0m\u001b[0m\n\u001b[0;32m--> 137\u001b[0;31m   \u001b[0;32mreturn\u001b[0m \u001b[0mgrad_fn\u001b[0m\u001b[0;34m(\u001b[0m\u001b[0mmock_op\u001b[0m\u001b[0;34m,\u001b[0m \u001b[0;34m*\u001b[0m\u001b[0mout_grads\u001b[0m\u001b[0;34m)\u001b[0m\u001b[0;34m\u001b[0m\u001b[0;34m\u001b[0m\u001b[0m\n\u001b[0m\u001b[1;32m    138\u001b[0m \u001b[0;34m\u001b[0m\u001b[0m\n\u001b[1;32m    139\u001b[0m \u001b[0;34m\u001b[0m\u001b[0m\n",
            "\u001b[0;32m/usr/local/lib/python3.6/dist-packages/tensorflow/python/ops/nn_grad.py\u001b[0m in \u001b[0;36m_Conv2DGrad\u001b[0;34m(op, grad)\u001b[0m\n\u001b[1;32m    604\u001b[0m           \u001b[0mexplicit_paddings\u001b[0m\u001b[0;34m=\u001b[0m\u001b[0mexplicit_paddings\u001b[0m\u001b[0;34m,\u001b[0m\u001b[0;34m\u001b[0m\u001b[0;34m\u001b[0m\u001b[0m\n\u001b[1;32m    605\u001b[0m           \u001b[0muse_cudnn_on_gpu\u001b[0m\u001b[0;34m=\u001b[0m\u001b[0muse_cudnn_on_gpu\u001b[0m\u001b[0;34m,\u001b[0m\u001b[0;34m\u001b[0m\u001b[0;34m\u001b[0m\u001b[0m\n\u001b[0;32m--> 606\u001b[0;31m           data_format=data_format)\n\u001b[0m\u001b[1;32m    607\u001b[0m   ]\n\u001b[1;32m    608\u001b[0m \u001b[0;34m\u001b[0m\u001b[0m\n",
            "\u001b[0;32m/usr/local/lib/python3.6/dist-packages/tensorflow/python/ops/gen_nn_ops.py\u001b[0m in \u001b[0;36mconv2d_backprop_filter\u001b[0;34m(input, filter_sizes, out_backprop, strides, padding, use_cudnn_on_gpu, explicit_paddings, data_format, dilations, name)\u001b[0m\n\u001b[1;32m   1185\u001b[0m         \u001b[0mfilter_sizes\u001b[0m\u001b[0;34m,\u001b[0m \u001b[0mout_backprop\u001b[0m\u001b[0;34m,\u001b[0m \u001b[0;34m\"strides\"\u001b[0m\u001b[0;34m,\u001b[0m \u001b[0mstrides\u001b[0m\u001b[0;34m,\u001b[0m \u001b[0;34m\"use_cudnn_on_gpu\"\u001b[0m\u001b[0;34m,\u001b[0m\u001b[0;34m\u001b[0m\u001b[0;34m\u001b[0m\u001b[0m\n\u001b[1;32m   1186\u001b[0m         \u001b[0muse_cudnn_on_gpu\u001b[0m\u001b[0;34m,\u001b[0m \u001b[0;34m\"padding\"\u001b[0m\u001b[0;34m,\u001b[0m \u001b[0mpadding\u001b[0m\u001b[0;34m,\u001b[0m \u001b[0;34m\"explicit_paddings\"\u001b[0m\u001b[0;34m,\u001b[0m\u001b[0;34m\u001b[0m\u001b[0;34m\u001b[0m\u001b[0m\n\u001b[0;32m-> 1187\u001b[0;31m         explicit_paddings, \"data_format\", data_format, \"dilations\", dilations)\n\u001b[0m\u001b[1;32m   1188\u001b[0m       \u001b[0;32mreturn\u001b[0m \u001b[0m_result\u001b[0m\u001b[0;34m\u001b[0m\u001b[0;34m\u001b[0m\u001b[0m\n\u001b[1;32m   1189\u001b[0m     \u001b[0;32mexcept\u001b[0m \u001b[0m_core\u001b[0m\u001b[0;34m.\u001b[0m\u001b[0m_FallbackException\u001b[0m\u001b[0;34m:\u001b[0m\u001b[0;34m\u001b[0m\u001b[0;34m\u001b[0m\u001b[0m\n",
            "\u001b[0;31mKeyboardInterrupt\u001b[0m: "
          ]
        }
      ]
    },
    {
      "cell_type": "code",
      "metadata": {
        "id": "e9xv5nBF26LW",
        "colab_type": "code",
        "colab": {}
      },
      "source": [
        ""
      ],
      "execution_count": 0,
      "outputs": []
    }
  ]
}