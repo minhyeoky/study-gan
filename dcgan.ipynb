{
 "cells": [
  {
   "cell_type": "markdown",
   "metadata": {},
   "source": [
    "# installation"
   ]
  },
  {
   "cell_type": "code",
   "execution_count": 8,
   "metadata": {},
   "outputs": [
    {
     "name": "stdout",
     "output_type": "stream",
     "text": [
      "Collecting package metadata (current_repodata.json): ...working... done\n",
      "Solving environment: ...working... done\n",
      "\n",
      "# All requested packages already installed.\n",
      "\n",
      "2.0.0-beta0\n"
     ]
    }
   ],
   "source": [
    "# !python -m pip install tensorflow==2.0.0-beta0 \n",
    "!conda install -y -q seaborn\n"
   ]
  },
  {
   "cell_type": "markdown",
   "metadata": {},
   "source": [
    "# Imports"
   ]
  },
  {
   "cell_type": "code",
   "execution_count": 317,
   "metadata": {},
   "outputs": [
    {
     "name": "stdout",
     "output_type": "stream",
     "text": [
      "2.0.0-beta0\n",
      "0.9.0\n",
      "1.17.2\n"
     ]
    }
   ],
   "source": [
    "import tensorflow as tf\n",
    "print(tf.__version__)\n",
    "import matplotlib.pyplot as plt\n",
    "import seaborn as sns\n",
    "print(sns.__version__)\n",
    "import numpy as np\n",
    "print(np.__version__)\n",
    "keras = tf.keras\n",
    "\n",
    "K = keras.backend\n"
   ]
  },
  {
   "cell_type": "markdown",
   "metadata": {},
   "source": [
    "# Configurations"
   ]
  },
  {
   "cell_type": "code",
   "execution_count": 372,
   "metadata": {},
   "outputs": [],
   "source": [
    "batch_size = 512\n",
    "epochs = 2\n",
    "noise_dim = 100"
   ]
  },
  {
   "cell_type": "markdown",
   "metadata": {},
   "source": [
    "# datasets"
   ]
  },
  {
   "cell_type": "code",
   "execution_count": 428,
   "metadata": {},
   "outputs": [
    {
     "name": "stdout",
     "output_type": "stream",
     "text": [
      "(60000, 28, 28)\n",
      "(10000, 28, 28)\n",
      "(60000,)\n",
      "(10000,)\n"
     ]
    },
    {
     "data": {
      "image/png": "[encoded data removed]",
      "text/plain": [
       "<Figure size 432x288 with 1 Axes>"
      ]
     },
     "metadata": {
      "needs_background": "light"
     },
     "output_type": "display_data"
    },
    {
     "name": "stdout",
     "output_type": "stream",
     "text": [
      "(60000, 28, 28, 1)\n",
      "<PrefetchDataset shapes: (None, 28, 28, 1), types: tf.float32>\n"
     ]
    }
   ],
   "source": [
    "dataset = keras.datasets.mnist.load_data()\n",
    "\n",
    "X_train, X_test = dataset[0][0], dataset[1][0]\n",
    "Y_train, Y_test = dataset[0][1], dataset[1][1]\n",
    "\n",
    "del(dataset)\n",
    "\n",
    "print(X_train.shape)\n",
    "print(X_test.shape)\n",
    "\n",
    "print(Y_train.shape)\n",
    "print(Y_test.shape)\n",
    "\n",
    "plt.imshow(X_train[0], cmap=\"Greys\")\n",
    "plt.show()\n",
    "\n",
    "X_train = X_train.reshape([*X_train.shape] + [1]).astype('float32')\n",
    "X_test = X_test.reshape([*X_test.shape] + [1]).astype('float32')\n",
    "print(X_train.shape)\n",
    "\n",
    "X_train = (X_train - 127.5) / 127.5\n",
    "X_test = (X_test - 127.5) / 127.5\n",
    "\n",
    "data = tf.data.Dataset.from_tensor_slices(X_train)\n",
    "\n",
    "data = data.shuffle(batch_size * 10).batch(batch_size).prefetch(batch_size * 5)\n",
    "print(data)"
   ]
  },
  {
   "cell_type": "markdown",
   "metadata": {},
   "source": [
    "# DECONVOLUTION MODEL (GENERATOR)\n",
    "\n",
    "- INPUT : a random noise with dimension of (100,)\n",
    "- OUTPUT : generated image with dimension of (28, 28, 1)\n"
   ]
  },
  {
   "cell_type": "code",
   "execution_count": 381,
   "metadata": {},
   "outputs": [],
   "source": [
    "def build_generator():\n",
    "    \n",
    "    model = keras.models.Sequential()\n",
    "    \n",
    "    layers_kwargs = {\n",
    "        'kernel_initializer': keras.initializers.TruncatedNormal(seed=0),\n",
    "        'activation': 'relu',\n",
    "\n",
    "    }\n",
    "    \n",
    "    model.add(keras.layers.Dense(units=256*7*7, input_shape=(100,), **layers_kwargs))\n",
    "    model.add(keras.layers.Reshape(target_shape=[7, 7, 256]))\n",
    "    \n",
    "    layers_kwargs['padding'] = 'same'\n",
    "    \n",
    "    model.add(keras.layers.Conv2DTranspose(filters=128, kernel_size=(5, 5),\n",
    "                                          strides=(1, 1), **layers_kwargs))\n",
    "    model.add(keras.layers.Conv2DTranspose(filters=64, kernel_size=(5, 5),\n",
    "                                          strides=(1, 1), **layers_kwargs))\n",
    "    model.add(keras.layers.Conv2DTranspose(filters=32, kernel_size=(5, 5),\n",
    "                                          strides=(2, 2), **layers_kwargs))\n",
    "\n",
    "    layers_kwargs['activation'] = 'tanh'\n",
    "    \n",
    "    model.add(keras.layers.Conv2DTranspose(filters=1, kernel_size=(5, 5),\n",
    "                                          strides=(2, 2), **layers_kwargs))\n",
    "    \n",
    "    return model"
   ]
  },
  {
   "cell_type": "markdown",
   "metadata": {},
   "source": [
    "# DISCRIMINATOR MODEL\n",
    "\n",
    "- INPUT : a image with 28x28x1 size.\n",
    "- OUTPUT : the probability whether the image is fake or real"
   ]
  },
  {
   "cell_type": "code",
   "execution_count": 382,
   "metadata": {},
   "outputs": [],
   "source": [
    "def build_discriminator():\n",
    "    \n",
    "    model = keras.models.Sequential()\n",
    "    \n",
    "    layers_kwargs = {\n",
    "        'kernel_size': (5, 5),\n",
    "        'strides': (2, 2),\n",
    "        'padding': 'same',\n",
    "        'activation': 'relu',\n",
    "        'kernel_initializer': keras.initializers.TruncatedNormal()\n",
    "    }\n",
    "    \n",
    "    model.add(keras.layers.Conv2D(filters=64, input_shape=(28, 28, 1), **layers_kwargs))\n",
    "    model.add(keras.layers.Conv2D(filters=256, **layers_kwargs))\n",
    "#     model.add(keras.layers.Conv2D(filters=))\n",
    "    model.add(keras.layers.Reshape(target_shape=[7*7*256]))\n",
    "    model.add(keras.layers.Dense(units=1, activation='sigmoid', kernel_initializer=keras.initializers.TruncatedNormal()))\n",
    "    return model"
   ]
  },
  {
   "cell_type": "markdown",
   "metadata": {},
   "source": [
    "# Losses\n",
    "\n",
    "\n",
    "\n",
    "$$\\min_{\\theta_d}\\max_{\\theta_g} E_{x\\sim p_{data}}\\log D(x) + E_{z\\sim p_{z}}\\log(1 - D(G(z)))$$\n",
    "\n",
    "$$p_z \\sim 표준정규분포$$ "
   ]
  },
  {
   "cell_type": "code",
   "execution_count": 397,
   "metadata": {},
   "outputs": [],
   "source": [
    "def generator_loss(y_pred):\n",
    "    y_true = keras.backend.ones_like(y_pred)\n",
    "    cross_entropy = keras.losses.binary_crossentropy(y_true, y_pred)\n",
    "    return tf.math.reduce_mean(cross_entropy, axis=0)"
   ]
  },
  {
   "cell_type": "code",
   "execution_count": 418,
   "metadata": {},
   "outputs": [],
   "source": [
    "def discriminator_loss(y_pred, x):\n",
    "    if x:\n",
    "        y_true = keras.backend.ones_like(y_pred)\n",
    "    else:\n",
    "        y_true = keras.backend.zeros_like(y_pred)\n",
    "    \n",
    "    cross_entropy = keras.losses.binary_crossentropy(y_true, y_pred)\n",
    "    return tf.math.reduce_mean(cross_entropy)"
   ]
  },
  {
   "cell_type": "code",
   "execution_count": 419,
   "metadata": {},
   "outputs": [
    {
     "data": {
      "text/plain": [
       "<tf.Tensor: id=326488, shape=(), dtype=float32, numpy=5.1416497>"
      ]
     },
     "execution_count": 419,
     "metadata": {},
     "output_type": "execute_result"
    }
   ],
   "source": [
    "generator_loss([[1.0],[1.0],[0.0]])"
   ]
  },
  {
   "cell_type": "code",
   "execution_count": 420,
   "metadata": {},
   "outputs": [],
   "source": [
    "opt_g = keras.optimizers.Adam(learning_rate=0.001)\n",
    "opt_d = keras.optimizers.Adam(learning_rate=0.001)"
   ]
  },
  {
   "cell_type": "code",
   "execution_count": 421,
   "metadata": {},
   "outputs": [
    {
     "name": "stdout",
     "output_type": "stream",
     "text": [
      "Model: \"sequential_32\"\n",
      "_________________________________________________________________\n",
      "Layer (type)                 Output Shape              Param #   \n",
      "=================================================================\n",
      "dense_18 (Dense)             (None, 12544)             1266944   \n",
      "_________________________________________________________________\n",
      "reshape_20 (Reshape)         (None, 7, 7, 256)         0         \n",
      "_________________________________________________________________\n",
      "conv2d_transpose_45 (Conv2DT (None, 7, 7, 128)         819328    \n",
      "_________________________________________________________________\n",
      "conv2d_transpose_46 (Conv2DT (None, 7, 7, 64)          204864    \n",
      "_________________________________________________________________\n",
      "conv2d_transpose_47 (Conv2DT (None, 14, 14, 32)        51232     \n",
      "_________________________________________________________________\n",
      "conv2d_transpose_48 (Conv2DT (None, 28, 28, 1)         801       \n",
      "=================================================================\n",
      "Total params: 2,343,169\n",
      "Trainable params: 2,343,169\n",
      "Non-trainable params: 0\n",
      "_________________________________________________________________\n",
      "Model: \"sequential_33\"\n",
      "_________________________________________________________________\n",
      "Layer (type)                 Output Shape              Param #   \n",
      "=================================================================\n",
      "conv2d_22 (Conv2D)           (None, 14, 14, 64)        1664      \n",
      "_________________________________________________________________\n",
      "conv2d_23 (Conv2D)           (None, 7, 7, 256)         409856    \n",
      "_________________________________________________________________\n",
      "reshape_21 (Reshape)         (None, 12544)             0         \n",
      "_________________________________________________________________\n",
      "dense_19 (Dense)             (None, 1)                 12545     \n",
      "=================================================================\n",
      "Total params: 424,065\n",
      "Trainable params: 424,065\n",
      "Non-trainable params: 0\n",
      "_________________________________________________________________\n"
     ]
    }
   ],
   "source": [
    "generator = build_generator()\n",
    "generator.summary()\n",
    "discriminator = build_discriminator()\n",
    "discriminator.summary()"
   ]
  },
  {
   "cell_type": "code",
   "execution_count": 422,
   "metadata": {},
   "outputs": [],
   "source": [
    "def print_tensors(tensors):\n",
    "    for each in tensors:\n",
    "        print(f'{each.name} {each.shape}')"
   ]
  },
  {
   "cell_type": "code",
   "execution_count": 423,
   "metadata": {},
   "outputs": [],
   "source": [
    "# @tf.function\n",
    "def train_step(real_data):\n",
    "    z = np.random.randn(batch_size, noise_dim)\n",
    "    \n",
    "    with tf.GradientTape() as tape_g, tf.GradientTape() as tape_d:\n",
    "        Gz = generator(inputs=z)\n",
    "        Dz = discriminator(inputs=Gz)\n",
    "        Dx = discriminator(inputs=real_data)\n",
    "        \n",
    "        loss_g = generator_loss(Dz)\n",
    "        loss_d = discriminator_loss(Dz, x=False) * 1/2\n",
    "        loss_d += discriminator_loss(Dx, x=True) * 1/2\n",
    "        \n",
    "        print(f'losses: {loss_g}, {loss_d}')\n",
    "#         print(loss_g.shape, loss_d.shape)\n",
    "        \n",
    "    grads_g = tape_g.gradient(loss_g, generator.trainable_variables)\n",
    "    grads_d = tape_d.gradient(loss_d, discriminator.trainable_variables)\n",
    "    opt_g.apply_gradients(zip(grads_g, generator.trainable_variables))\n",
    "    opt_d.apply_gradients(zip(grads_d, discriminator.trainable_variables))\n",
    "    \n",
    "    return Gz\n",
    "    \n",
    "    \n",
    "    \n",
    "    \n",
    "    "
   ]
  },
  {
   "cell_type": "code",
   "execution_count": 426,
   "metadata": {},
   "outputs": [],
   "source": [
    "def imshow(tensor):\n",
    "    img = tf.reshape(tensor, shape=[28, 28])\n",
    "    plt.imshow(img.numpy(), cmap='gray')\n",
    "    plt.show()"
   ]
  },
  {
   "cell_type": "code",
   "execution_count": 429,
   "metadata": {
    "scrolled": true
   },
   "outputs": [
    {
     "name": "stdout",
     "output_type": "stream",
     "text": [
      "losses: 2.6784653663635254, 0.038024719804525375\n",
      "-------------------- 0 --------------------\n"
     ]
    },
    {
     "data": {
      "image/png": "[encoded data removed]",
      "text/plain": [
       "<Figure size 432x288 with 1 Axes>"
      ]
     },
     "metadata": {
      "needs_background": "light"
     },
     "output_type": "display_data"
    },
    {
     "data": {
      "image/png": "[encoded data removed]",
      "text/plain": [
       "<Figure size 432x288 with 1 Axes>"
      ]
     },
     "metadata": {
      "needs_background": "light"
     },
     "output_type": "display_data"
    },
    {
     "name": "stdout",
     "output_type": "stream",
     "text": [
      "losses: 3.9227864742279053, 0.014363092370331287\n",
      "losses: 5.446538925170898, 0.008662188425660133\n",
      "losses: 6.742048263549805, 0.015382545068860054\n",
      "losses: 7.543512344360352, 0.018319973722100258\n",
      "losses: 7.6621551513671875, 0.008313266560435295\n",
      "losses: 7.4473724365234375, 0.005188156850636005\n",
      "losses: 6.998743534088135, 0.002675164956599474\n",
      "losses: 6.477642059326172, 0.0014522997662425041\n",
      "losses: 5.979926586151123, 0.0015809221658855677\n",
      "losses: 5.5923871994018555, 0.0022264630533754826\n",
      "losses: 5.374017715454102, 0.0025651270989328623\n",
      "losses: 5.380867958068848, 0.0024759117513895035\n",
      "losses: 5.608699798583984, 0.0019213727209717035\n",
      "losses: 6.011850357055664, 0.0013148174621164799\n",
      "losses: 6.516355991363525, 0.0009101213072426617\n",
      "losses: 7.040152549743652, 0.0007987527642399073\n",
      "losses: 7.537771701812744, 0.0005920855328440666\n",
      "losses: 7.983597278594971, 0.0009440594003535807\n",
      "losses: 8.33657455444336, 0.00029356410959735513\n",
      "losses: 8.649137496948242, 0.002712058136239648\n"
     ]
    },
    {
     "ename": "KeyboardInterrupt",
     "evalue": "",
     "output_type": "error",
     "traceback": [
      "\u001b[0;31m---------------------------------------------------------------------------\u001b[0m",
      "\u001b[0;31mKeyboardInterrupt\u001b[0m                         Traceback (most recent call last)",
      "\u001b[0;32m<ipython-input-429-a5d39159ccbf>\u001b[0m in \u001b[0;36m<module>\u001b[0;34m\u001b[0m\n\u001b[1;32m      4\u001b[0m \u001b[0;34m\u001b[0m\u001b[0m\n\u001b[1;32m      5\u001b[0m \u001b[0;34m\u001b[0m\u001b[0m\n\u001b[0;32m----> 6\u001b[0;31m         \u001b[0mgz\u001b[0m \u001b[0;34m=\u001b[0m \u001b[0mtrain_step\u001b[0m\u001b[0;34m(\u001b[0m\u001b[0mreal_data\u001b[0m\u001b[0;34m)\u001b[0m\u001b[0;34m\u001b[0m\u001b[0;34m\u001b[0m\u001b[0m\n\u001b[0m\u001b[1;32m      7\u001b[0m         \u001b[0;32mif\u001b[0m \u001b[0mbatch_size\u001b[0m \u001b[0;34m*\u001b[0m \u001b[0midx\u001b[0m \u001b[0;34m+\u001b[0m \u001b[0;34m(\u001b[0m\u001b[0me\u001b[0m \u001b[0;34m*\u001b[0m \u001b[0;36m60000\u001b[0m\u001b[0;34m)\u001b[0m \u001b[0;34m%\u001b[0m \u001b[0;34m(\u001b[0m\u001b[0mbatch_size\u001b[0m \u001b[0;34m*\u001b[0m \u001b[0;36m10\u001b[0m\u001b[0;34m)\u001b[0m \u001b[0;34m==\u001b[0m \u001b[0;36m0\u001b[0m\u001b[0;34m:\u001b[0m\u001b[0;34m\u001b[0m\u001b[0;34m\u001b[0m\u001b[0m\n\u001b[1;32m      8\u001b[0m             \u001b[0mprint\u001b[0m\u001b[0;34m(\u001b[0m\u001b[0;34mf'-------------------- {idx} --------------------'\u001b[0m\u001b[0;34m)\u001b[0m\u001b[0;34m\u001b[0m\u001b[0;34m\u001b[0m\u001b[0m\n",
      "\u001b[0;32m<ipython-input-423-5ae658c9d466>\u001b[0m in \u001b[0;36mtrain_step\u001b[0;34m(real_data)\u001b[0m\n\u001b[1;32m     15\u001b[0m \u001b[0;31m#         print(loss_g.shape, loss_d.shape)\u001b[0m\u001b[0;34m\u001b[0m\u001b[0;34m\u001b[0m\u001b[0;34m\u001b[0m\u001b[0m\n\u001b[1;32m     16\u001b[0m \u001b[0;34m\u001b[0m\u001b[0m\n\u001b[0;32m---> 17\u001b[0;31m     \u001b[0mgrads_g\u001b[0m \u001b[0;34m=\u001b[0m \u001b[0mtape_g\u001b[0m\u001b[0;34m.\u001b[0m\u001b[0mgradient\u001b[0m\u001b[0;34m(\u001b[0m\u001b[0mloss_g\u001b[0m\u001b[0;34m,\u001b[0m \u001b[0mgenerator\u001b[0m\u001b[0;34m.\u001b[0m\u001b[0mtrainable_variables\u001b[0m\u001b[0;34m)\u001b[0m\u001b[0;34m\u001b[0m\u001b[0;34m\u001b[0m\u001b[0m\n\u001b[0m\u001b[1;32m     18\u001b[0m     \u001b[0mgrads_d\u001b[0m \u001b[0;34m=\u001b[0m \u001b[0mtape_d\u001b[0m\u001b[0;34m.\u001b[0m\u001b[0mgradient\u001b[0m\u001b[0;34m(\u001b[0m\u001b[0mloss_d\u001b[0m\u001b[0;34m,\u001b[0m \u001b[0mdiscriminator\u001b[0m\u001b[0;34m.\u001b[0m\u001b[0mtrainable_variables\u001b[0m\u001b[0;34m)\u001b[0m\u001b[0;34m\u001b[0m\u001b[0;34m\u001b[0m\u001b[0m\n\u001b[1;32m     19\u001b[0m     \u001b[0mopt_g\u001b[0m\u001b[0;34m.\u001b[0m\u001b[0mapply_gradients\u001b[0m\u001b[0;34m(\u001b[0m\u001b[0mzip\u001b[0m\u001b[0;34m(\u001b[0m\u001b[0mgrads_g\u001b[0m\u001b[0;34m,\u001b[0m \u001b[0mgenerator\u001b[0m\u001b[0;34m.\u001b[0m\u001b[0mtrainable_variables\u001b[0m\u001b[0;34m)\u001b[0m\u001b[0;34m)\u001b[0m\u001b[0;34m\u001b[0m\u001b[0;34m\u001b[0m\u001b[0m\n",
      "\u001b[0;32m~/miniconda3/envs/tensorflow2.0/lib/python3.7/site-packages/tensorflow/python/eager/backprop.py\u001b[0m in \u001b[0;36mgradient\u001b[0;34m(self, target, sources, output_gradients, unconnected_gradients)\u001b[0m\n\u001b[1;32m   1000\u001b[0m         \u001b[0moutput_gradients\u001b[0m\u001b[0;34m=\u001b[0m\u001b[0moutput_gradients\u001b[0m\u001b[0;34m,\u001b[0m\u001b[0;34m\u001b[0m\u001b[0;34m\u001b[0m\u001b[0m\n\u001b[1;32m   1001\u001b[0m         \u001b[0msources_raw\u001b[0m\u001b[0;34m=\u001b[0m\u001b[0mflat_sources_raw\u001b[0m\u001b[0;34m,\u001b[0m\u001b[0;34m\u001b[0m\u001b[0;34m\u001b[0m\u001b[0m\n\u001b[0;32m-> 1002\u001b[0;31m         unconnected_gradients=unconnected_gradients)\n\u001b[0m\u001b[1;32m   1003\u001b[0m \u001b[0;34m\u001b[0m\u001b[0m\n\u001b[1;32m   1004\u001b[0m     \u001b[0;32mif\u001b[0m \u001b[0;32mnot\u001b[0m \u001b[0mself\u001b[0m\u001b[0;34m.\u001b[0m\u001b[0m_persistent\u001b[0m\u001b[0;34m:\u001b[0m\u001b[0;34m\u001b[0m\u001b[0;34m\u001b[0m\u001b[0m\n",
      "\u001b[0;32m~/miniconda3/envs/tensorflow2.0/lib/python3.7/site-packages/tensorflow/python/eager/imperative_grad.py\u001b[0m in \u001b[0;36mimperative_grad\u001b[0;34m(tape, target, sources, output_gradients, sources_raw, unconnected_gradients)\u001b[0m\n\u001b[1;32m     74\u001b[0m       \u001b[0moutput_gradients\u001b[0m\u001b[0;34m,\u001b[0m\u001b[0;34m\u001b[0m\u001b[0;34m\u001b[0m\u001b[0m\n\u001b[1;32m     75\u001b[0m       \u001b[0msources_raw\u001b[0m\u001b[0;34m,\u001b[0m\u001b[0;34m\u001b[0m\u001b[0;34m\u001b[0m\u001b[0m\n\u001b[0;32m---> 76\u001b[0;31m       compat.as_str(unconnected_gradients.value))\n\u001b[0m",
      "\u001b[0;32m~/miniconda3/envs/tensorflow2.0/lib/python3.7/site-packages/tensorflow/python/eager/backprop.py\u001b[0m in \u001b[0;36m_gradient_function\u001b[0;34m(op_name, attr_tuple, num_inputs, inputs, outputs, out_grads, skip_input_indices)\u001b[0m\n\u001b[1;32m    135\u001b[0m     \u001b[0;32mreturn\u001b[0m \u001b[0;34m[\u001b[0m\u001b[0;32mNone\u001b[0m\u001b[0;34m]\u001b[0m \u001b[0;34m*\u001b[0m \u001b[0mnum_inputs\u001b[0m\u001b[0;34m\u001b[0m\u001b[0;34m\u001b[0m\u001b[0m\n\u001b[1;32m    136\u001b[0m \u001b[0;34m\u001b[0m\u001b[0m\n\u001b[0;32m--> 137\u001b[0;31m   \u001b[0;32mreturn\u001b[0m \u001b[0mgrad_fn\u001b[0m\u001b[0;34m(\u001b[0m\u001b[0mmock_op\u001b[0m\u001b[0;34m,\u001b[0m \u001b[0;34m*\u001b[0m\u001b[0mout_grads\u001b[0m\u001b[0;34m)\u001b[0m\u001b[0;34m\u001b[0m\u001b[0;34m\u001b[0m\u001b[0m\n\u001b[0m\u001b[1;32m    138\u001b[0m \u001b[0;34m\u001b[0m\u001b[0m\n\u001b[1;32m    139\u001b[0m \u001b[0;34m\u001b[0m\u001b[0m\n",
      "\u001b[0;32m~/miniconda3/envs/tensorflow2.0/lib/python3.7/site-packages/tensorflow/python/ops/nn_grad.py\u001b[0m in \u001b[0;36m_Conv2DGrad\u001b[0;34m(op, grad)\u001b[0m\n\u001b[1;32m    604\u001b[0m           \u001b[0mexplicit_paddings\u001b[0m\u001b[0;34m=\u001b[0m\u001b[0mexplicit_paddings\u001b[0m\u001b[0;34m,\u001b[0m\u001b[0;34m\u001b[0m\u001b[0;34m\u001b[0m\u001b[0m\n\u001b[1;32m    605\u001b[0m           \u001b[0muse_cudnn_on_gpu\u001b[0m\u001b[0;34m=\u001b[0m\u001b[0muse_cudnn_on_gpu\u001b[0m\u001b[0;34m,\u001b[0m\u001b[0;34m\u001b[0m\u001b[0;34m\u001b[0m\u001b[0m\n\u001b[0;32m--> 606\u001b[0;31m           data_format=data_format)\n\u001b[0m\u001b[1;32m    607\u001b[0m   ]\n\u001b[1;32m    608\u001b[0m \u001b[0;34m\u001b[0m\u001b[0m\n",
      "\u001b[0;32m~/miniconda3/envs/tensorflow2.0/lib/python3.7/site-packages/tensorflow/python/ops/gen_nn_ops.py\u001b[0m in \u001b[0;36mconv2d_backprop_filter\u001b[0;34m(input, filter_sizes, out_backprop, strides, padding, use_cudnn_on_gpu, explicit_paddings, data_format, dilations, name)\u001b[0m\n\u001b[1;32m   1185\u001b[0m         \u001b[0mfilter_sizes\u001b[0m\u001b[0;34m,\u001b[0m \u001b[0mout_backprop\u001b[0m\u001b[0;34m,\u001b[0m \u001b[0;34m\"strides\"\u001b[0m\u001b[0;34m,\u001b[0m \u001b[0mstrides\u001b[0m\u001b[0;34m,\u001b[0m \u001b[0;34m\"use_cudnn_on_gpu\"\u001b[0m\u001b[0;34m,\u001b[0m\u001b[0;34m\u001b[0m\u001b[0;34m\u001b[0m\u001b[0m\n\u001b[1;32m   1186\u001b[0m         \u001b[0muse_cudnn_on_gpu\u001b[0m\u001b[0;34m,\u001b[0m \u001b[0;34m\"padding\"\u001b[0m\u001b[0;34m,\u001b[0m \u001b[0mpadding\u001b[0m\u001b[0;34m,\u001b[0m \u001b[0;34m\"explicit_paddings\"\u001b[0m\u001b[0;34m,\u001b[0m\u001b[0;34m\u001b[0m\u001b[0;34m\u001b[0m\u001b[0m\n\u001b[0;32m-> 1187\u001b[0;31m         explicit_paddings, \"data_format\", data_format, \"dilations\", dilations)\n\u001b[0m\u001b[1;32m   1188\u001b[0m       \u001b[0;32mreturn\u001b[0m \u001b[0m_result\u001b[0m\u001b[0;34m\u001b[0m\u001b[0;34m\u001b[0m\u001b[0m\n\u001b[1;32m   1189\u001b[0m     \u001b[0;32mexcept\u001b[0m \u001b[0m_core\u001b[0m\u001b[0;34m.\u001b[0m\u001b[0m_FallbackException\u001b[0m\u001b[0;34m:\u001b[0m\u001b[0;34m\u001b[0m\u001b[0;34m\u001b[0m\u001b[0m\n",
      "\u001b[0;31mKeyboardInterrupt\u001b[0m: "
     ]
    }
   ],
   "source": [
    "for e in range(epochs):\n",
    "    for idx, real_data in enumerate(data):\n",
    "        gz = train_step(real_data)\n",
    "        if idx  == 0:\n",
    "            print(f'-------------------- {idx} --------------------')\n",
    "            imshow(real_data[0])\n",
    "            imshow(gz[0])"
   ]
  },
  {
   "cell_type": "code",
   "execution_count": null,
   "metadata": {},
   "outputs": [],
   "source": []
  }
 ],
 "metadata": {
  "kernelspec": {
   "display_name": "Python 3",
   "language": "python",
   "name": "python3"
  },
  "language_info": {
   "codemirror_mode": {
    "name": "ipython",
    "version": 3
   },
   "file_extension": ".py",
   "mimetype": "text/x-python",
   "name": "python",
   "nbconvert_exporter": "python",
   "pygments_lexer": "ipython3",
   "version": "3.7.4"
  }
 },
 "nbformat": 4,
 "nbformat_minor": 2
}
