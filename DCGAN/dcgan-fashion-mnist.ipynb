{
 "cells": [
  {
   "cell_type": "markdown",
   "metadata": {
    "colab_type": "text",
    "id": "L_S3C7JR4sGm"
   },
   "source": [
    "# DCGAN\n",
    "\n",
    "## dataset\n",
    "- [x] mnist\n",
    "- [ ] fashion mnist\n",
    "- [ ] celebA\n",
    "\n",
    "## model architecture for stable DC GANs\n",
    "- [x] Replace any pooling layers with strided convolutions (discriminator) and fractional-strided convolutions (generator).\n",
    "- [x] Use Batch-norm for generator and discriminator.\n",
    "- [x] Remove fully connected layers.\n",
    "- [x] Use Relu activation in generator for all layers except for the output, which uses Tanh.\n",
    "- [x] Use leakyRelu activation in the discriminator for all layers.\n",
    "  - [x] alpha = 0.2\n",
    "\n",
    "\n",
    "\n",
    "\n"
   ]
  },
  {
   "cell_type": "markdown",
   "metadata": {
    "colab_type": "text",
    "id": "yFitvB5426Kx"
   },
   "source": [
    "# installation"
   ]
  },
  {
   "cell_type": "code",
   "execution_count": 1,
   "metadata": {
    "colab": {
     "base_uri": "https://localhost:8080/",
     "height": 394
    },
    "colab_type": "code",
    "id": "t6MrjDJP26Kz",
    "outputId": "f28e9ce5-0c53-43ba-cc27-1391800471c6"
   },
   "outputs": [],
   "source": [
    "# !pip install tensorflow-gpu==2.0.0-rc1\n",
    "# !pip install gast==0.2.2\n",
    "# !conda install -y -q seaborna\n"
   ]
  },
  {
   "cell_type": "markdown",
   "metadata": {
    "colab_type": "text",
    "id": "dQTiBp9q26K3"
   },
   "source": [
    "# Imports"
   ]
  },
  {
   "cell_type": "code",
   "execution_count": 2,
   "metadata": {
    "colab": {
     "base_uri": "https://localhost:8080/",
     "height": 68
    },
    "colab_type": "code",
    "id": "lHDzyC5M26K3",
    "outputId": "c168b3e2-ef9b-422d-84f0-017d6b30f1f5"
   },
   "outputs": [
    {
     "name": "stdout",
     "output_type": "stream",
     "text": [
      "2.0.0\n",
      "0.9.0\n",
      "1.17.2\n"
     ]
    },
    {
     "data": {
      "text/plain": [
       "[name: \"/device:CPU:0\"\n",
       " device_type: \"CPU\"\n",
       " memory_limit: 268435456\n",
       " locality {\n",
       " }\n",
       " incarnation: 4425800006638236791, name: \"/device:XLA_CPU:0\"\n",
       " device_type: \"XLA_CPU\"\n",
       " memory_limit: 17179869184\n",
       " locality {\n",
       " }\n",
       " incarnation: 11497050429068206704\n",
       " physical_device_desc: \"device: XLA_CPU device\", name: \"/device:XLA_GPU:0\"\n",
       " device_type: \"XLA_GPU\"\n",
       " memory_limit: 17179869184\n",
       " locality {\n",
       " }\n",
       " incarnation: 1251447329284666018\n",
       " physical_device_desc: \"device: XLA_GPU device\"]"
      ]
     },
     "execution_count": 2,
     "metadata": {},
     "output_type": "execute_result"
    }
   ],
   "source": [
    "import os\n",
    "os.environ['CUDA_VISIBLE_DEVICES'] = '0'\n",
    "import tensorflow as tf\n",
    "print(tf.__version__)\n",
    "import matplotlib.pyplot as plt\n",
    "import seaborn as sns\n",
    "print(sns.__version__)\n",
    "import numpy as np\n",
    "print(np.__version__)\n",
    "keras = tf.keras\n",
    "\n",
    "K = keras.backend\n",
    "\n",
    "from tensorflow.python.client import device_lib\n",
    "device_lib.list_local_devices()"
   ]
  },
  {
   "cell_type": "markdown",
   "metadata": {
    "colab_type": "text",
    "id": "Xxx37riZ26K5"
   },
   "source": [
    "# Configurations"
   ]
  },
  {
   "cell_type": "code",
   "execution_count": 3,
   "metadata": {
    "colab": {},
    "colab_type": "code",
    "id": "RrNCrYGI26K6"
   },
   "outputs": [],
   "source": [
    "batch_size = 256\n",
    "\n",
    "epochs = 50\n",
    "noise_dim = 100"
   ]
  },
  {
   "cell_type": "markdown",
   "metadata": {
    "colab_type": "text",
    "id": "-1z24cYA26K8"
   },
   "source": [
    "# datasets"
   ]
  },
  {
   "cell_type": "code",
   "execution_count": 4,
   "metadata": {
    "colab": {
     "base_uri": "https://localhost:8080/",
     "height": 371
    },
    "colab_type": "code",
    "id": "6-JgNwDB26K9",
    "outputId": "98b7f772-2c58-4358-ea22-8c414f9da440"
   },
   "outputs": [
    {
     "name": "stdout",
     "output_type": "stream",
     "text": [
      "(60000, 28, 28)\n",
      "(10000, 28, 28)\n",
      "(60000,)\n",
      "(10000,)\n"
     ]
    },
    {
     "data": {
      "image/png": "[encoded data removed]",
      "text/plain": [
       "<Figure size 432x288 with 1 Axes>"
      ]
     },
     "metadata": {
      "needs_background": "light"
     },
     "output_type": "display_data"
    },
    {
     "name": "stdout",
     "output_type": "stream",
     "text": [
      "(60000, 28, 28, 1)\n",
      "<PrefetchDataset shapes: (None, 28, 28, 1), types: tf.float32>\n"
     ]
    }
   ],
   "source": [
    "dataset = keras.datasets.fashion_mnist.load_data()\n",
    "\n",
    "X_train, X_test = dataset[0][0], dataset[1][0]\n",
    "Y_train, Y_test = dataset[0][1], dataset[1][1]\n",
    "\n",
    "del(dataset)\n",
    "\n",
    "print(X_train.shape)\n",
    "print(X_test.shape)\n",
    "\n",
    "print(Y_train.shape)\n",
    "print(Y_test.shape)\n",
    "\n",
    "plt.imshow(X_train[0], cmap=\"Greys\")\n",
    "plt.show()\n",
    "\n",
    "X_train = X_train.reshape([*X_train.shape] + [1]).astype('float32')\n",
    "X_test = X_test.reshape([*X_test.shape] + [1]).astype('float32')\n",
    "print(X_train.shape)\n",
    "\n",
    "X_train = (X_train - 127.5) / 127.5\n",
    "X_test = (X_test - 127.5) / 127.5\n",
    "\n",
    "data = tf.data.Dataset.from_tensor_slices(X_train)\n",
    "\n",
    "data = data.shuffle(batch_size * 10).batch(batch_size).prefetch(batch_size * 5)\n",
    "print(data)"
   ]
  },
  {
   "cell_type": "markdown",
   "metadata": {
    "colab_type": "text",
    "id": "WS6oi9P326K_"
   },
   "source": [
    "# model - generator\n",
    "\n",
    "- INPUT : a random noise with dimension of (100,)\n",
    "- OUTPUT : generated image with dimension of (28, 28, 1)\n"
   ]
  },
  {
   "cell_type": "code",
   "execution_count": 5,
   "metadata": {
    "colab": {},
    "colab_type": "code",
    "id": "v_EUEPBB96Fu"
   },
   "outputs": [],
   "source": [
    "initializer = keras.initializers.RandomNormal(stddev=0.02)"
   ]
  },
  {
   "cell_type": "code",
   "execution_count": 6,
   "metadata": {
    "colab": {},
    "colab_type": "code",
    "id": "uetojdyr26LA"
   },
   "outputs": [],
   "source": [
    "def build_generator():\n",
    "    \n",
    "    model = keras.models.Sequential()\n",
    "    \n",
    "    model.add(keras.layers.Dense(units=7*7*256, \n",
    "                                 activation=None, \n",
    "                                 kernel_initializer=initializer,\n",
    "                                 input_shape=(100,),\n",
    "                                 use_bias=False))\n",
    "    model.add(keras.layers.BatchNormalization())\n",
    "    model.add(keras.layers.LeakyReLU())\n",
    "    model.add(keras.layers.Reshape(target_shape=[7, 7, 256]))\n",
    "    \n",
    "    model.add(keras.layers.Conv2DTranspose(filters=128, kernel_size=(5, 5),\n",
    "                                          strides=(1, 1), padding='same', activation=None,\n",
    "#                                            kernel_initializer=initializer,\n",
    "                                           use_bias=False))\n",
    "    model.add(keras.layers.BatchNormalization())\n",
    "    model.add(keras.layers.LeakyReLU())\n",
    "    model.add(keras.layers.Conv2DTranspose(filters=64, kernel_size=(5, 5),\n",
    "                                          strides=(2, 2), padding='same', activation=None,\n",
    "#                                            kernel_initializer=initializer,\n",
    "                                           use_bias=False))\n",
    "    model.add(keras.layers.BatchNormalization())\n",
    "    model.add(keras.layers.LeakyReLU())\n",
    "    model.add(keras.layers.Conv2DTranspose(filters=1, kernel_size=(5, 5),\n",
    "                                          strides=(2, 2), padding='same', activation=None,\n",
    "#                                            kernel_initializer=initializer,\n",
    "                                           use_bias=False))\n",
    "#     model.add(keras.layers.BatchNormalization())\n",
    "    model.add(keras.layers.Activation('tanh'))\n",
    "    \n",
    "    return model"
   ]
  },
  {
   "cell_type": "markdown",
   "metadata": {
    "colab_type": "text",
    "id": "vRu1_0qH26LB"
   },
   "source": [
    "# Model - discriminator\n",
    "\n",
    "- INPUT : a image with 28x28x1 size.\n",
    "- OUTPUT : the probability whether the image is fake or real"
   ]
  },
  {
   "cell_type": "code",
   "execution_count": 7,
   "metadata": {
    "colab": {},
    "colab_type": "code",
    "id": "LbGFzlVT26LC"
   },
   "outputs": [],
   "source": [
    "def build_discriminator():\n",
    "    \n",
    "    model = keras.models.Sequential()\n",
    "    \n",
    "    model.add(keras.layers.Conv2D(filters=64,\n",
    "                                  kernel_size=(5, 5),\n",
    "                                  input_shape=(28, 28, 1), \n",
    "                                  strides=(2, 2),\n",
    "                                  padding='same',\n",
    "                                  activation=None,\n",
    "                                  kernel_initializer=initializer))\n",
    "#     model.add(keras.layers.BatchNormalization())\n",
    "    model.add(keras.layers.LeakyReLU(alpha=0.2))\n",
    "    model.add(keras.layers.Dropout(rate=0.3))\n",
    "    model.add(keras.layers.Conv2D(filters=128,\n",
    "                                  kernel_size=(5, 5),\n",
    "                                  strides=(2, 2),\n",
    "                                  padding='same',\n",
    "                                  activation=None,\n",
    "                                  kernel_initializer=initializer))\n",
    "#     model.add(keras.layers.BatchNormalization())\n",
    "    model.add(keras.layers.LeakyReLU(alpha=0.2))\n",
    "    model.add(keras.layers.Dropout(rate=0.3))\n",
    "    \n",
    "    model.add(keras.layers.Flatten())\n",
    "    model.add(keras.layers.Dense(units=1, \n",
    "                                 activation=None, \n",
    "                                 kernel_initializer=initializer))\n",
    "#     model.add(keras.layers.BatchNormalization())\n",
    "    model.add(keras.layers.Activation('sigmoid'))\n",
    "    return model"
   ]
  },
  {
   "cell_type": "markdown",
   "metadata": {
    "colab_type": "text",
    "id": "fOWcTKb526LE"
   },
   "source": [
    "# Losses\n",
    "\n",
    "\n",
    "\n",
    "$$\\min_{\\theta_d}\\max_{\\theta_g} E_{x\\sim p_{data}}\\log D(x) + E_{z\\sim p_{z}}\\log(1 - D(G(z)))$$\n",
    "\n",
    "$$p_z \\sim 표준정규분포$$ "
   ]
  },
  {
   "cell_type": "code",
   "execution_count": 8,
   "metadata": {
    "colab": {},
    "colab_type": "code",
    "id": "3rJV7Xcy26LE"
   },
   "outputs": [],
   "source": [
    "def generator_loss(y_pred):\n",
    "    y_true = keras.backend.ones_like(y_pred)\n",
    "    cross_entropy = keras.losses.binary_crossentropy(y_true, y_pred)\n",
    "    return tf.math.reduce_mean(cross_entropy)"
   ]
  },
  {
   "cell_type": "code",
   "execution_count": 9,
   "metadata": {
    "colab": {},
    "colab_type": "code",
    "id": "H9StGa2j26LG"
   },
   "outputs": [],
   "source": [
    "def discriminator_loss(y_pred, x):\n",
    "    if x:\n",
    "        y_true = keras.backend.ones_like(y_pred)\n",
    "    else:\n",
    "        y_true = keras.backend.zeros_like(y_pred)\n",
    "    \n",
    "    cross_entropy = keras.losses.binary_crossentropy(y_true, y_pred)\n",
    "    return tf.math.reduce_mean(cross_entropy)"
   ]
  },
  {
   "cell_type": "markdown",
   "metadata": {
    "colab_type": "text",
    "id": "gy_PdqV_LJdq"
   },
   "source": [
    "# Training\n"
   ]
  },
  {
   "cell_type": "code",
   "execution_count": 10,
   "metadata": {
    "colab": {
     "base_uri": "https://localhost:8080/",
     "height": 1000
    },
    "colab_type": "code",
    "id": "GOKdnM3U26LM",
    "outputId": "0b110377-f9e5-47df-d695-77898573cef3"
   },
   "outputs": [
    {
     "name": "stdout",
     "output_type": "stream",
     "text": [
      "Model: \"sequential\"\n",
      "_________________________________________________________________\n",
      "Layer (type)                 Output Shape              Param #   \n",
      "=================================================================\n",
      "dense (Dense)                (None, 12544)             1254400   \n",
      "_________________________________________________________________\n",
      "batch_normalization (BatchNo (None, 12544)             50176     \n",
      "_________________________________________________________________\n",
      "leaky_re_lu (LeakyReLU)      (None, 12544)             0         \n",
      "_________________________________________________________________\n",
      "reshape (Reshape)            (None, 7, 7, 256)         0         \n",
      "_________________________________________________________________\n",
      "conv2d_transpose (Conv2DTran (None, 7, 7, 128)         819200    \n",
      "_________________________________________________________________\n",
      "batch_normalization_1 (Batch (None, 7, 7, 128)         512       \n",
      "_________________________________________________________________\n",
      "leaky_re_lu_1 (LeakyReLU)    (None, 7, 7, 128)         0         \n",
      "_________________________________________________________________\n",
      "conv2d_transpose_1 (Conv2DTr (None, 14, 14, 64)        204800    \n",
      "_________________________________________________________________\n",
      "batch_normalization_2 (Batch (None, 14, 14, 64)        256       \n",
      "_________________________________________________________________\n",
      "leaky_re_lu_2 (LeakyReLU)    (None, 14, 14, 64)        0         \n",
      "_________________________________________________________________\n",
      "conv2d_transpose_2 (Conv2DTr (None, 28, 28, 1)         1600      \n",
      "_________________________________________________________________\n",
      "activation (Activation)      (None, 28, 28, 1)         0         \n",
      "=================================================================\n",
      "Total params: 2,330,944\n",
      "Trainable params: 2,305,472\n",
      "Non-trainable params: 25,472\n",
      "_________________________________________________________________\n",
      "Model: \"sequential_1\"\n",
      "_________________________________________________________________\n",
      "Layer (type)                 Output Shape              Param #   \n",
      "=================================================================\n",
      "conv2d (Conv2D)              (None, 14, 14, 64)        1664      \n",
      "_________________________________________________________________\n",
      "leaky_re_lu_3 (LeakyReLU)    (None, 14, 14, 64)        0         \n",
      "_________________________________________________________________\n",
      "dropout (Dropout)            (None, 14, 14, 64)        0         \n",
      "_________________________________________________________________\n",
      "conv2d_1 (Conv2D)            (None, 7, 7, 128)         204928    \n",
      "_________________________________________________________________\n",
      "leaky_re_lu_4 (LeakyReLU)    (None, 7, 7, 128)         0         \n",
      "_________________________________________________________________\n",
      "dropout_1 (Dropout)          (None, 7, 7, 128)         0         \n",
      "_________________________________________________________________\n",
      "flatten (Flatten)            (None, 6272)              0         \n",
      "_________________________________________________________________\n",
      "dense_1 (Dense)              (None, 1)                 6273      \n",
      "_________________________________________________________________\n",
      "activation_1 (Activation)    (None, 1)                 0         \n",
      "=================================================================\n",
      "Total params: 212,865\n",
      "Trainable params: 212,865\n",
      "Non-trainable params: 0\n",
      "_________________________________________________________________\n"
     ]
    }
   ],
   "source": [
    "generator = build_generator()\n",
    "generator.summary()\n",
    "discriminator = build_discriminator()\n",
    "discriminator.summary()\n",
    "\n",
    "opt_g = keras.optimizers.Adam(learning_rate=0.0002, beta_1=0.5)\n",
    "opt_d = keras.optimizers.Adam(learning_rate=0.0002, beta_1=0.5)"
   ]
  },
  {
   "cell_type": "code",
   "execution_count": 11,
   "metadata": {
    "colab": {},
    "colab_type": "code",
    "id": "VbtuvyDO26LO"
   },
   "outputs": [],
   "source": [
    "def print_tensors(tensors):\n",
    "    for each in tensors:\n",
    "        print(f'{each.name} {each.shape}')"
   ]
  },
  {
   "cell_type": "code",
   "execution_count": 12,
   "metadata": {
    "colab": {},
    "colab_type": "code",
    "id": "tTAjmeS8Ir6-"
   },
   "outputs": [],
   "source": [
    "losses = {\n",
    "    'generator': [],\n",
    "    'discriminator': []\n",
    "}"
   ]
  },
  {
   "cell_type": "code",
   "execution_count": 13,
   "metadata": {
    "colab": {},
    "colab_type": "code",
    "id": "iPoWE88w26LQ"
   },
   "outputs": [],
   "source": [
    "@tf.function\n",
    "def train_step(real_data):\n",
    "    z = tf.random.normal(shape=[batch_size, noise_dim])\n",
    "    \n",
    "    with tf.GradientTape() as tape_g, tf.GradientTape() as tape_d:\n",
    "        Gz = generator(inputs=z, training=True)\n",
    "        Dz = discriminator(inputs=Gz, training=True)\n",
    "        Dx = discriminator(inputs=real_data, training=True)\n",
    "        \n",
    "        loss_g = generator_loss(Dz)\n",
    "        loss_d = discriminator_loss(Dz, x=False)\n",
    "        loss_d += discriminator_loss(Dx, x=True)\n",
    "        \n",
    "    grads_g = tape_g.gradient(loss_g, generator.trainable_variables)\n",
    "    grads_d = tape_d.gradient(loss_d, discriminator.trainable_variables)\n",
    "\n",
    "    opt_g.apply_gradients(zip(grads_g, generator.trainable_variables))\n",
    "    opt_d.apply_gradients(zip(grads_d, discriminator.trainable_variables))\n",
    "    \n",
    "    return Gz\n",
    "    \n",
    "    \n",
    "    \n",
    "    \n",
    "    "
   ]
  },
  {
   "cell_type": "code",
   "execution_count": 14,
   "metadata": {
    "colab": {},
    "colab_type": "code",
    "id": "dhcXoLqI26LS"
   },
   "outputs": [],
   "source": [
    "imgs = []\n",
    "\n",
    "def imshow(tensor, e, idx, shape=(4, 4)):\n",
    "    \n",
    "    fig = plt.figure(figsize=shape)\n",
    "    for i in range(shape[0] * shape[1]):\n",
    "        plt.subplot(shape[0], shape[1], i+1)\n",
    "        img = tf.reshape(tensor[i], shape=[28, 28])\n",
    "        plt.imshow(img.numpy() * 127.5 + 127.5, cmap='gray')\n",
    "        plt.axis('off')\n",
    "    if e is not None:\n",
    "        plt.savefig(fname=f'./imgs/fashoin-{e}-{idx}.png')\n",
    "        imgs.append(img)\n",
    "    plt.close(fig)\n",
    "#     plt.show()"
   ]
  },
  {
   "cell_type": "code",
   "execution_count": 15,
   "metadata": {
    "colab": {
     "base_uri": "https://localhost:8080/",
     "height": 1000
    },
    "colab_type": "code",
    "id": "2Jan_BjI26LU",
    "outputId": "db0469c2-06c6-4300-d5bf-df83939c8f67",
    "scrolled": false
   },
   "outputs": [],
   "source": [
    "\n",
    "def train():\n",
    "\n",
    "    for idx, real_data in enumerate(data):\n",
    "        gz = train_step(real_data)\n",
    "        if idx % (batch_size // 5) == 0:\n",
    "            imshow(real_data, None, idx)\n",
    "            imshow(gz, e, idx)\n",
    "    "
   ]
  },
  {
   "cell_type": "code",
   "execution_count": null,
   "metadata": {},
   "outputs": [
    {
     "name": "stdout",
     "output_type": "stream",
     "text": [
      "# epoch: 0\n",
      "CPU times: user 33min 48s, sys: 54.2 s, total: 34min 42s\n",
      "Wall time: 2min 35s\n",
      "# epoch: 1\n",
      "CPU times: user 33min 40s, sys: 55.6 s, total: 34min 35s\n",
      "Wall time: 2min 30s\n",
      "# epoch: 2\n",
      "CPU times: user 33min 43s, sys: 57.4 s, total: 34min 41s\n",
      "Wall time: 2min 30s\n",
      "# epoch: 3\n",
      "CPU times: user 34min 17s, sys: 46.2 s, total: 35min 4s\n",
      "Wall time: 2min 32s\n",
      "# epoch: 4\n",
      "CPU times: user 34min 12s, sys: 44.2 s, total: 34min 56s\n",
      "Wall time: 2min 32s\n",
      "# epoch: 5\n",
      "CPU times: user 33min 54s, sys: 43.2 s, total: 34min 38s\n",
      "Wall time: 2min 30s\n",
      "# epoch: 6\n",
      "CPU times: user 34min 6s, sys: 46 s, total: 34min 52s\n",
      "Wall time: 2min 32s\n",
      "# epoch: 7\n",
      "CPU times: user 34min 11s, sys: 44.9 s, total: 34min 56s\n",
      "Wall time: 2min 29s\n",
      "# epoch: 8\n",
      "CPU times: user 34min, sys: 48.1 s, total: 34min 48s\n",
      "Wall time: 2min 32s\n",
      "# epoch: 9\n",
      "CPU times: user 34min 3s, sys: 45.3 s, total: 34min 48s\n",
      "Wall time: 2min 31s\n",
      "# epoch: 10\n",
      "CPU times: user 33min 56s, sys: 48.7 s, total: 34min 45s\n",
      "Wall time: 2min 31s\n",
      "# epoch: 11\n",
      "CPU times: user 33min 59s, sys: 49.9 s, total: 34min 49s\n",
      "Wall time: 2min 32s\n",
      "# epoch: 12\n",
      "CPU times: user 33min 50s, sys: 52.8 s, total: 34min 42s\n",
      "Wall time: 2min 30s\n",
      "# epoch: 13\n",
      "CPU times: user 34min 4s, sys: 51.3 s, total: 34min 56s\n",
      "Wall time: 2min 30s\n",
      "# epoch: 14\n",
      "CPU times: user 33min 49s, sys: 50.8 s, total: 34min 40s\n",
      "Wall time: 2min 32s\n",
      "# epoch: 15\n",
      "CPU times: user 33min 42s, sys: 53.2 s, total: 34min 35s\n",
      "Wall time: 2min 30s\n",
      "# epoch: 16\n",
      "CPU times: user 33min 44s, sys: 56.2 s, total: 34min 40s\n",
      "Wall time: 2min 32s\n",
      "# epoch: 17\n",
      "CPU times: user 33min 27s, sys: 59.6 s, total: 34min 27s\n",
      "Wall time: 2min 30s\n",
      "# epoch: 18\n"
     ]
    }
   ],
   "source": [
    "for e in range(epochs):\n",
    "    print(f'# epoch: {e}')\n",
    "    %time train()"
   ]
  },
  {
   "cell_type": "code",
   "execution_count": 19,
   "metadata": {},
   "outputs": [
    {
     "name": "stdout",
     "output_type": "stream",
     "text": [
      "Collecting imageio\n",
      "  Using cached https://files.pythonhosted.org/packages/af/0a/943c965d372dae0b1f1482677d29030ab834351a61a9a632fd62f27f1523/imageio-2.5.0-py3-none-any.whl\n",
      "Requirement already satisfied: numpy in /home/mhlee/miniconda3/envs/jupyter/lib/python3.7/site-packages (from imageio) (1.17.2)\n",
      "Collecting pillow (from imageio)\n",
      "  Using cached https://files.pythonhosted.org/packages/a4/da/2bd281c875686230eabc13d20ab590ea617563b0e746abfb0698c4d5b645/Pillow-6.1.0-cp37-cp37m-manylinux1_x86_64.whl\n",
      "Installing collected packages: pillow, imageio\n",
      "Successfully installed imageio-2.5.0 pillow-6.1.0\n"
     ]
    }
   ],
   "source": [
    "!pip install imageio"
   ]
  },
  {
   "cell_type": "code",
   "execution_count": 131,
   "metadata": {},
   "outputs": [],
   "source": [
    "import imageio\n",
    "from PIL import Image\n",
    "from pathlib import Path"
   ]
  },
  {
   "cell_type": "code",
   "execution_count": 132,
   "metadata": {},
   "outputs": [
    {
     "name": "stdout",
     "output_type": "stream",
     "text": [
      "imgs/fashion/fashoin-20-102.png\n",
      "imgs/fashion/fashoin-25-204.png\n",
      "imgs/fashion/fashoin-26-204.png\n",
      "imgs/fashion/fashoin-39-153.png\n",
      "imgs/fashion/fashoin-33-0.png\n",
      "imgs/fashion/fashoin-45-204.png\n",
      "imgs/fashion/fashoin-8-102.png\n",
      "imgs/fashion/fashoin-14-0.png\n",
      "imgs/fashion/fashoin-1-51.png\n",
      "imgs/fashion/fashoin-49-204.png\n",
      "imgs/fashion/fashoin-38-204.png\n",
      "imgs/fashion/fashoin-21-51.png\n",
      "imgs/fashion/fashoin-49-0.png\n",
      "imgs/fashion/fashoin-23-0.png\n",
      "imgs/fashion/fashoin-38-51.png\n",
      "imgs/fashion/fashoin-3-153.png\n",
      "imgs/fashion/fashoin-36-0.png\n",
      "imgs/fashion/fashoin-45-51.png\n",
      "imgs/fashion/fashoin-0-0.png\n",
      "imgs/fashion/fashoin-7-204.png\n",
      "imgs/fashion/fashoin-3-0.png\n",
      "imgs/fashion/fashoin-22-204.png\n",
      "imgs/fashion/fashoin-12-153.png\n",
      "imgs/fashion/fashoin-35-204.png\n",
      "imgs/fashion/fashoin-27-153.png\n",
      "imgs/fashion/fashoin-43-51.png\n",
      "imgs/fashion/fashoin-20-153.png\n",
      "imgs/fashion/fashoin-11-204.png\n",
      "imgs/fashion/fashoin-4-0.png\n",
      "imgs/fashion/fashoin-2-0.png\n",
      "imgs/fashion/fashoin-26-51.png\n",
      "imgs/fashion/fashoin-30-153.png\n",
      "imgs/fashion/fashoin-4-204.png\n",
      "imgs/fashion/fashoin-2-153.png\n",
      "imgs/fashion/fashoin-33-153.png\n",
      "imgs/fashion/fashoin-1-102.png\n",
      "imgs/fashion/fashoin-24-51.png\n",
      "imgs/fashion/fashoin-41-204.png\n",
      "imgs/fashion/fashoin-41-0.png\n",
      "imgs/fashion/fashoin-27-0.png\n",
      "imgs/fashion/fashoin-28-102.png\n",
      "imgs/fashion/fashoin-27-51.png\n",
      "imgs/fashion/fashoin-9-51.png\n",
      "imgs/fashion/fashoin-29-51.png\n",
      "imgs/fashion/fashoin-43-153.png\n",
      "imgs/fashion/fashoin-13-0.png\n",
      "imgs/fashion/fashoin-4-153.png\n",
      "imgs/fashion/fashoin-42-51.png\n",
      "imgs/fashion/fashoin-4-102.png\n",
      "imgs/fashion/fashoin-10-51.png\n",
      "imgs/fashion/fashoin-43-102.png\n",
      "imgs/fashion/fashoin-42-204.png\n",
      "imgs/fashion/fashoin-26-153.png\n",
      "imgs/fashion/fashoin-38-153.png\n",
      "imgs/fashion/fashoin-3-102.png\n",
      "imgs/fashion/fashoin-1-204.png\n",
      "imgs/fashion/fashoin-37-153.png\n",
      "imgs/fashion/fashoin-11-51.png\n",
      "imgs/fashion/fashoin-19-204.png\n",
      "imgs/fashion/fashoin-30-0.png\n",
      "imgs/fashion/fashoin-13-153.png\n",
      "imgs/fashion/fashoin-17-204.png\n",
      "imgs/fashion/fashoin-45-102.png\n",
      "imgs/fashion/fashoin-6-51.png\n",
      "imgs/fashion/fashoin-9-0.png\n",
      "imgs/fashion/fashoin-36-153.png\n",
      "imgs/fashion/fashoin-21-204.png\n",
      "imgs/fashion/fashoin-5-204.png\n",
      "imgs/fashion/fashoin-40-153.png\n",
      "imgs/fashion/fashoin-22-102.png\n",
      "imgs/fashion/fashoin-2-204.png\n",
      "imgs/fashion/fashoin-0-204.png\n",
      "imgs/fashion/fashoin-40-51.png\n",
      "imgs/fashion/fashoin-25-0.png\n",
      "imgs/fashion/fashoin-16-153.png\n",
      "imgs/fashion/fashoin-17-51.png\n",
      "imgs/fashion/fashoin-49-153.png\n",
      "imgs/fashion/fashoin-35-153.png\n",
      "imgs/fashion/fashoin-12-51.png\n",
      "imgs/fashion/fashoin-16-0.png\n",
      "imgs/fashion/fashoin-20-0.png\n",
      "imgs/fashion/fashoin-1-0.png\n",
      "imgs/fashion/fashoin-34-51.png\n",
      "imgs/fashion/fashoin-28-204.png\n",
      "imgs/fashion/fashoin-32-204.png\n",
      "imgs/fashion/fashoin-36-51.png\n",
      "imgs/fashion/fashoin-14-51.png\n",
      "imgs/fashion/fashoin-42-102.png\n",
      "imgs/fashion/fashoin-47-153.png\n",
      "imgs/fashion/fashoin-31-102.png\n",
      "imgs/fashion/fashoin-49-51.png\n",
      "imgs/fashion/fashoin-43-204.png\n",
      "imgs/fashion/fashoin-28-153.png\n",
      "imgs/fashion/fashoin-31-204.png\n",
      "imgs/fashion/fashoin-41-102.png\n",
      "imgs/fashion/fashoin-30-102.png\n",
      "imgs/fashion/fashoin-24-0.png\n",
      "imgs/fashion/fashoin-38-102.png\n",
      "imgs/fashion/fashoin-0-51.png\n",
      "imgs/fashion/fashoin-7-51.png\n",
      "imgs/fashion/fashoin-29-102.png\n",
      "imgs/fashion/fashoin-3-204.png\n",
      "imgs/fashion/fashoin-13-51.png\n",
      "imgs/fashion/fashoin-46-0.png\n",
      "imgs/fashion/fashoin-23-102.png\n",
      "imgs/fashion/fashoin-31-0.png\n",
      "imgs/fashion/fashoin-24-153.png\n",
      "imgs/fashion/fashoin-11-0.png\n",
      "imgs/fashion/fashoin-19-0.png\n",
      "imgs/fashion/fashoin-25-102.png\n",
      "imgs/fashion/fashoin-32-153.png\n",
      "imgs/fashion/fashoin-40-204.png\n",
      "imgs/fashion/fashoin-7-0.png\n",
      "imgs/fashion/fashoin-16-102.png\n",
      "imgs/fashion/fashoin-36-204.png\n",
      "imgs/fashion/fashoin-28-51.png\n",
      "imgs/fashion/fashoin-10-0.png\n",
      "imgs/fashion/fashoin-15-153.png\n",
      "imgs/fashion/fashoin-14-204.png\n",
      "imgs/fashion/fashoin-46-51.png\n",
      "imgs/fashion/fashoin-1-153.png\n",
      "imgs/fashion/fashoin-44-0.png\n",
      "imgs/fashion/fashoin-37-0.png\n",
      "imgs/fashion/fashoin-17-0.png\n",
      "imgs/fashion/fashoin-26-0.png\n",
      "imgs/fashion/fashoin-3-51.png\n",
      "imgs/fashion/fashoin-37-204.png\n",
      "imgs/fashion/fashoin-5-51.png\n",
      "imgs/fashion/fashoin-21-0.png\n",
      "imgs/fashion/fashoin-9-102.png\n",
      "imgs/fashion/fashoin-31-51.png\n",
      "imgs/fashion/fashoin-8-51.png\n",
      "imgs/fashion/fashoin-34-153.png\n",
      "imgs/fashion/fashoin-22-153.png\n",
      "imgs/fashion/fashoin-29-153.png\n",
      "imgs/fashion/fashoin-34-204.png\n",
      "imgs/fashion/fashoin-30-51.png\n",
      "imgs/fashion/fashoin-27-102.png\n",
      "imgs/fashion/fashoin-18-51.png\n",
      "imgs/fashion/fashoin-6-153.png\n",
      "imgs/fashion/fashoin-43-0.png\n",
      "imgs/fashion/fashoin-10-204.png\n",
      "imgs/fashion/fashoin-8-0.png\n",
      "imgs/fashion/fashoin-42-153.png\n",
      "imgs/fashion/fashoin-27-204.png\n",
      "imgs/fashion/fashoin-35-0.png\n",
      "imgs/fashion/fashoin-15-0.png\n",
      "imgs/fashion/fashoin-33-102.png\n",
      "imgs/fashion/fashoin-19-102.png\n",
      "imgs/fashion/fashoin-47-51.png\n",
      "imgs/fashion/fashoin-29-204.png\n",
      "imgs/fashion/fashoin-38-0.png\n",
      "imgs/fashion/fashoin-36-102.png\n",
      "imgs/fashion/fashoin-40-102.png\n",
      "imgs/fashion/fashoin-13-102.png\n",
      "imgs/fashion/fashoin-42-0.png\n",
      "imgs/fashion/fashoin-25-153.png\n",
      "imgs/fashion/fashoin-32-51.png\n",
      "imgs/fashion/fashoin-49-102.png\n",
      "imgs/fashion/fashoin-25-51.png\n",
      "imgs/fashion/fashoin-34-102.png\n",
      "imgs/fashion/fashoin-17-102.png\n",
      "imgs/fashion/fashoin-41-153.png\n",
      "imgs/fashion/fashoin-5-153.png\n",
      "imgs/fashion/fashoin-39-102.png\n",
      "imgs/fashion/fashoin-6-0.png\n",
      "imgs/fashion/fashoin-11-102.png\n",
      "imgs/fashion/fashoin-40-0.png\n",
      "imgs/fashion/fashoin-47-102.png\n",
      "imgs/fashion/fashoin-44-153.png\n",
      "imgs/fashion/fashoin-11-153.png\n",
      "imgs/fashion/fashoin-19-51.png\n",
      "imgs/fashion/fashoin-34-0.png\n",
      "imgs/fashion/fashoin-18-102.png\n",
      "imgs/fashion/fashoin-45-153.png\n",
      "imgs/fashion/fashoin-4-51.png\n",
      "imgs/fashion/fashoin-15-204.png\n",
      "imgs/fashion/fashoin-23-153.png\n",
      "imgs/fashion/fashoin-41-51.png\n",
      "imgs/fashion/fashoin-46-153.png\n",
      "imgs/fashion/fashoin-5-102.png\n",
      "imgs/fashion/fashoin-31-153.png\n",
      "imgs/fashion/fashoin-7-153.png\n",
      "imgs/fashion/fashoin-8-204.png\n",
      "imgs/fashion/fashoin-22-51.png\n",
      "imgs/fashion/fashoin-14-153.png\n",
      "imgs/fashion/fashoin-0-102.png\n",
      "imgs/fashion/fashoin-21-153.png\n",
      "imgs/fashion/fashoin-28-0.png\n",
      "imgs/fashion/fashoin-32-102.png\n",
      "imgs/fashion/fashoin-39-204.png\n",
      "imgs/fashion/fashoin-10-102.png\n",
      "imgs/fashion/fashoin-9-153.png\n",
      "imgs/fashion/fashoin-12-204.png\n",
      "imgs/fashion/fashoin-48-153.png\n",
      "imgs/fashion/fashoin-20-204.png\n",
      "imgs/fashion/fashoin-33-51.png\n",
      "imgs/fashion/fashoin-30-204.png\n",
      "imgs/fashion/fashoin-29-0.png\n",
      "imgs/fashion/fashoin-37-51.png\n",
      "imgs/fashion/fashoin-33-204.png\n",
      "imgs/fashion/fashoin-17-153.png\n",
      "imgs/fashion/fashoin-23-51.png\n",
      "imgs/fashion/fashoin-35-51.png\n",
      "imgs/fashion/fashoin-44-102.png\n",
      "imgs/fashion/fashoin-10-153.png\n",
      "imgs/fashion/fashoin-45-0.png\n",
      "imgs/fashion/fashoin-6-204.png\n",
      "imgs/fashion/fashoin-15-51.png\n",
      "imgs/fashion/fashoin-24-102.png\n",
      "imgs/fashion/fashoin-46-102.png\n",
      "imgs/fashion/fashoin-39-51.png\n",
      "imgs/fashion/fashoin-0-153.png\n",
      "imgs/fashion/fashoin-20-51.png\n",
      "imgs/fashion/fashoin-15-102.png\n",
      "imgs/fashion/fashoin-12-0.png\n",
      "imgs/fashion/fashoin-39-0.png\n",
      "imgs/fashion/fashoin-5-0.png\n",
      "imgs/fashion/fashoin-24-204.png\n",
      "imgs/fashion/fashoin-21-102.png\n",
      "imgs/fashion/fashoin-9-204.png\n",
      "imgs/fashion/fashoin-44-204.png\n",
      "imgs/fashion/fashoin-19-153.png\n",
      "imgs/fashion/fashoin-35-102.png\n",
      "imgs/fashion/fashoin-8-153.png\n",
      "imgs/fashion/fashoin-48-204.png\n",
      "imgs/fashion/fashoin-48-51.png\n",
      "imgs/fashion/fashoin-13-204.png\n",
      "imgs/fashion/fashoin-37-102.png\n",
      "imgs/fashion/fashoin-6-102.png\n",
      "imgs/fashion/fashoin-48-102.png\n",
      "imgs/fashion/fashoin-18-204.png\n",
      "imgs/fashion/fashoin-48-0.png\n",
      "imgs/fashion/fashoin-22-0.png\n",
      "imgs/fashion/fashoin-16-204.png\n",
      "imgs/fashion/fashoin-18-153.png\n",
      "imgs/fashion/fashoin-12-102.png\n",
      "imgs/fashion/fashoin-16-51.png\n",
      "imgs/fashion/fashoin-2-102.png\n",
      "imgs/fashion/fashoin-14-102.png\n",
      "imgs/fashion/fashoin-26-102.png\n",
      "imgs/fashion/fashoin-7-102.png\n",
      "imgs/fashion/fashoin-44-51.png\n",
      "imgs/fashion/fashoin-32-0.png\n",
      "imgs/fashion/fashoin-47-204.png\n",
      "imgs/fashion/fashoin-18-0.png\n",
      "imgs/fashion/fashoin-2-51.png\n",
      "imgs/fashion/fashoin-47-0.png\n",
      "imgs/fashion/fashoin-46-204.png\n",
      "imgs/fashion/fashoin-23-204.png\n"
     ]
    }
   ],
   "source": [
    "p = Path('./imgs/fashion')\n",
    "\n",
    "imgs_paths = []\n",
    "for each in p.glob('*.png'):\n",
    "    print(each)\n",
    "    imgs_paths.append(each)\n",
    "#     imgs.append(Image.open(f'./{each}'))\n",
    "\n",
    "imgs_paths = list(map(str, imgs_paths))"
   ]
  },
  {
   "cell_type": "code",
   "execution_count": 133,
   "metadata": {},
   "outputs": [],
   "source": [
    "imgs_paths.sort(key=lambda x: int(x.split('/')[2].split('-')[1]) * 1000 + int(x.split('/')[2].split('-')[2].split('.')[0]))\n",
    "# 이미지 생성된 순서대로 정렬\n",
    "\n",
    "imgs = []\n",
    "for each in imgs_paths:\n",
    "    imgs.append(Image.open(each))"
   ]
  },
  {
   "cell_type": "code",
   "execution_count": 134,
   "metadata": {},
   "outputs": [],
   "source": [
    "imageio.mimsave('./imgs/fashion-mnist.mp4', ims=imgs) "
   ]
  },
  {
   "cell_type": "code",
   "execution_count": 97,
   "metadata": {},
   "outputs": [
    {
     "name": "stdout",
     "output_type": "stream",
     "text": [
      "Collecting imageio-ffmpeg\n",
      "\u001b[?25l  Downloading https://files.pythonhosted.org/packages/1b/12/01126a2fb737b23461d7dadad3b8abd51ad6210f979ff05c6fa9812dfbbe/imageio_ffmpeg-0.3.0-py3-none-manylinux2010_x86_64.whl (22.2MB)\n",
      "\u001b[K     |████████████████████████████████| 22.2MB 8.0kB/s eta 0:00:029\n",
      "\u001b[?25hInstalling collected packages: imageio-ffmpeg\n",
      "Successfully installed imageio-ffmpeg-0.3.0\n"
     ]
    }
   ],
   "source": [
    "!pip install imageio-ffmpeg"
   ]
  },
  {
   "cell_type": "code",
   "execution_count": 128,
   "metadata": {
    "colab": {},
    "colab_type": "code",
    "id": "K_Mo48ATK_-M"
   },
   "outputs": [
    {
     "data": {
      "text/plain": [
       "<matplotlib.image.AxesImage at 0x7f59d640e4d0>"
      ]
     },
     "execution_count": 128,
     "metadata": {},
     "output_type": "execute_result"
    },
    {
     "data": {
      "image/png": "[encoded data removed]",
      "text/plain": [
       "<Figure size 432x288 with 1 Axes>"
      ]
     },
     "metadata": {
      "needs_background": "light"
     },
     "output_type": "display_data"
    }
   ],
   "source": [
    "noise1 = np.random.randn(100, 100)\n",
    "img = generator(noise1, training=True)\n",
    "plt.imshow(img[0, :, :, 0], cmap='gray')"
   ]
  },
  {
   "cell_type": "code",
   "execution_count": 129,
   "metadata": {},
   "outputs": [
    {
     "data": {
      "text/plain": [
       "<matplotlib.image.AxesImage at 0x7f59d63f5550>"
      ]
     },
     "execution_count": 129,
     "metadata": {},
     "output_type": "execute_result"
    },
    {
     "data": {
      "image/png": "[encoded data removed]",
      "text/plain": [
       "<Figure size 432x288 with 1 Axes>"
      ]
     },
     "metadata": {
      "needs_background": "light"
     },
     "output_type": "display_data"
    }
   ],
   "source": [
    "noise2 = np.random.randn(100, 100)\n",
    "img = generator(noise2, training=True)\n",
    "plt.imshow(img[5, :, :, 0], cmap='gray')"
   ]
  },
  {
   "cell_type": "code",
   "execution_count": 130,
   "metadata": {},
   "outputs": [
    {
     "data": {
      "text/plain": [
       "<matplotlib.image.AxesImage at 0x7f59d6358690>"
      ]
     },
     "execution_count": 130,
     "metadata": {},
     "output_type": "execute_result"
    },
    {
     "data": {
      "image/png": "[encoded data removed]",
      "text/plain": [
       "<Figure size 432x288 with 1 Axes>"
      ]
     },
     "metadata": {
      "needs_background": "light"
     },
     "output_type": "display_data"
    }
   ],
   "source": [
    "noise = (noise1 + noise2) / 2\n",
    "img = generator(noise, training=True)\n",
    "plt.imshow(img[0, :, :, 0], cmap='gray')"
   ]
  },
  {
   "cell_type": "code",
   "execution_count": null,
   "metadata": {},
   "outputs": [],
   "source": []
  }
 ],
 "metadata": {
  "accelerator": "GPU",
  "colab": {
   "name": "dcgan.ipynb",
   "provenance": [],
   "toc_visible": true
  },
  "kernelspec": {
   "display_name": "Python 3",
   "language": "python",
   "name": "python3"
  },
  "language_info": {
   "codemirror_mode": {
    "name": "ipython",
    "version": 3
   },
   "file_extension": ".py",
   "mimetype": "text/x-python",
   "name": "python",
   "nbconvert_exporter": "python",
   "pygments_lexer": "ipython3",
   "version": "3.7.4"
  }
 },
 "nbformat": 4,
 "nbformat_minor": 1
}
