{
 "cells": [
  {
   "cell_type": "markdown",
   "metadata": {
    "colab_type": "text",
    "id": "L_S3C7JR4sGm"
   },
   "source": [
    "# DCGAN\n",
    "\n",
    "## dataset\n",
    "- [x] mnist\n",
    "- [ ] fashion mnist\n",
    "- [ ] celebA\n",
    "\n",
    "## model architecture for stable DC GANs\n",
    "- [x] Replace any pooling layers with strided convolutions (discriminator) and fractional-strided convolutions (generator).\n",
    "- [x] Use Batch-norm for generator and discriminator.\n",
    "- [x] Remove fully connected layers.\n",
    "- [x] Use Relu activation in generator for all layers except for the output, which uses Tanh.\n",
    "- [x] Use leakyRelu activation in the discriminator for all layers.\n",
    "  - [x] alpha = 0.2\n",
    "\n",
    "\n",
    "\n",
    "\n"
   ]
  },
  {
   "cell_type": "markdown",
   "metadata": {
    "colab_type": "text",
    "id": "yFitvB5426Kx"
   },
   "source": [
    "# installation"
   ]
  },
  {
   "cell_type": "code",
   "execution_count": 1,
   "metadata": {
    "colab": {
     "base_uri": "https://localhost:8080/",
     "height": 394
    },
    "colab_type": "code",
    "id": "t6MrjDJP26Kz",
    "outputId": "f28e9ce5-0c53-43ba-cc27-1391800471c6"
   },
   "outputs": [],
   "source": [
    "# !pip install tensorflow-gpu==2.0.0-rc1\n",
    "# !pip install gast==0.2.2\n",
    "# !conda install -y -q seaborna\n"
   ]
  },
  {
   "cell_type": "markdown",
   "metadata": {
    "colab_type": "text",
    "id": "dQTiBp9q26K3"
   },
   "source": [
    "# Imports"
   ]
  },
  {
   "cell_type": "code",
   "execution_count": 1,
   "metadata": {
    "colab": {
     "base_uri": "https://localhost:8080/",
     "height": 68
    },
    "colab_type": "code",
    "id": "lHDzyC5M26K3",
    "outputId": "c168b3e2-ef9b-422d-84f0-017d6b30f1f5"
   },
   "outputs": [
    {
     "name": "stdout",
     "output_type": "stream",
     "text": [
      "2.0.0\n",
      "0.9.0\n",
      "1.17.2\n"
     ]
    },
    {
     "data": {
      "text/plain": [
       "[name: \"/device:CPU:0\"\n",
       " device_type: \"CPU\"\n",
       " memory_limit: 268435456\n",
       " locality {\n",
       " }\n",
       " incarnation: 6902170579417032326, name: \"/device:XLA_CPU:0\"\n",
       " device_type: \"XLA_CPU\"\n",
       " memory_limit: 17179869184\n",
       " locality {\n",
       " }\n",
       " incarnation: 13753752990290909082\n",
       " physical_device_desc: \"device: XLA_CPU device\", name: \"/device:XLA_GPU:0\"\n",
       " device_type: \"XLA_GPU\"\n",
       " memory_limit: 17179869184\n",
       " locality {\n",
       " }\n",
       " incarnation: 18372954286667611307\n",
       " physical_device_desc: \"device: XLA_GPU device\"]"
      ]
     },
     "execution_count": 1,
     "metadata": {},
     "output_type": "execute_result"
    }
   ],
   "source": [
    "import os\n",
    "os.environ['CUDA_VISIBLE_DEVICES'] = '0'\n",
    "import tensorflow as tf\n",
    "print(tf.__version__)\n",
    "import matplotlib.pyplot as plt\n",
    "import seaborn as sns\n",
    "print(sns.__version__)\n",
    "import numpy as np\n",
    "print(np.__version__)\n",
    "keras = tf.keras\n",
    "\n",
    "K = keras.backend\n",
    "\n",
    "from tensorflow.python.client import device_lib\n",
    "device_lib.list_local_devices()"
   ]
  },
  {
   "cell_type": "markdown",
   "metadata": {
    "colab_type": "text",
    "id": "Xxx37riZ26K5"
   },
   "source": [
    "# Configurations"
   ]
  },
  {
   "cell_type": "code",
   "execution_count": 2,
   "metadata": {
    "colab": {},
    "colab_type": "code",
    "id": "RrNCrYGI26K6"
   },
   "outputs": [],
   "source": [
    "batch_size = 256\n",
    "\n",
    "epochs = 50\n",
    "noise_dim = 100"
   ]
  },
  {
   "cell_type": "markdown",
   "metadata": {
    "colab_type": "text",
    "id": "-1z24cYA26K8"
   },
   "source": [
    "# datasets"
   ]
  },
  {
   "cell_type": "code",
   "execution_count": 3,
   "metadata": {
    "colab": {
     "base_uri": "https://localhost:8080/",
     "height": 371
    },
    "colab_type": "code",
    "id": "6-JgNwDB26K9",
    "outputId": "98b7f772-2c58-4358-ea22-8c414f9da440"
   },
   "outputs": [
    {
     "name": "stdout",
     "output_type": "stream",
     "text": [
      "(60000, 28, 28)\n",
      "(10000, 28, 28)\n",
      "(60000,)\n",
      "(10000,)\n"
     ]
    },
    {
     "data": {
      "image/png": "[encoded data removed]",
      "text/plain": [
       "<Figure size 432x288 with 1 Axes>"
      ]
     },
     "metadata": {
      "needs_background": "light"
     },
     "output_type": "display_data"
    },
    {
     "name": "stdout",
     "output_type": "stream",
     "text": [
      "(60000, 28, 28, 1)\n",
      "<PrefetchDataset shapes: (None, 28, 28, 1), types: tf.float32>\n"
     ]
    }
   ],
   "source": [
    "dataset = keras.datasets.mnist.load_data()\n",
    "\n",
    "X_train, X_test = dataset[0][0], dataset[1][0]\n",
    "Y_train, Y_test = dataset[0][1], dataset[1][1]\n",
    "\n",
    "del(dataset)\n",
    "\n",
    "print(X_train.shape)\n",
    "print(X_test.shape)\n",
    "\n",
    "print(Y_train.shape)\n",
    "print(Y_test.shape)\n",
    "\n",
    "plt.imshow(X_train[0], cmap=\"Greys\")\n",
    "plt.show()\n",
    "\n",
    "X_train = X_train.reshape([*X_train.shape] + [1]).astype('float32')\n",
    "X_test = X_test.reshape([*X_test.shape] + [1]).astype('float32')\n",
    "print(X_train.shape)\n",
    "\n",
    "X_train = (X_train - 127.5) / 127.5\n",
    "X_test = (X_test - 127.5) / 127.5\n",
    "\n",
    "data = tf.data.Dataset.from_tensor_slices(X_train)\n",
    "\n",
    "data = data.shuffle(batch_size * 10).batch(batch_size).prefetch(batch_size * 5)\n",
    "print(data)"
   ]
  },
  {
   "cell_type": "markdown",
   "metadata": {
    "colab_type": "text",
    "id": "WS6oi9P326K_"
   },
   "source": [
    "# model - generator\n",
    "\n",
    "- INPUT : a random noise with dimension of (100,)\n",
    "- OUTPUT : generated image with dimension of (28, 28, 1)\n"
   ]
  },
  {
   "cell_type": "code",
   "execution_count": 4,
   "metadata": {
    "colab": {},
    "colab_type": "code",
    "id": "v_EUEPBB96Fu"
   },
   "outputs": [],
   "source": [
    "initializer = keras.initializers.RandomNormal(stddev=0.02)"
   ]
  },
  {
   "cell_type": "code",
   "execution_count": 5,
   "metadata": {
    "colab": {},
    "colab_type": "code",
    "id": "uetojdyr26LA"
   },
   "outputs": [],
   "source": [
    "def build_generator():\n",
    "    \n",
    "    model = keras.models.Sequential()\n",
    "    \n",
    "    model.add(keras.layers.Dense(units=7*7*256, \n",
    "                                 activation=None, \n",
    "                                 kernel_initializer=initializer,\n",
    "                                 input_shape=(100,),\n",
    "                                 use_bias=False))\n",
    "    model.add(keras.layers.BatchNormalization())\n",
    "    model.add(keras.layers.LeakyReLU())\n",
    "    model.add(keras.layers.Reshape(target_shape=[7, 7, 256]))\n",
    "    \n",
    "    model.add(keras.layers.Conv2DTranspose(filters=128, kernel_size=(5, 5),\n",
    "                                          strides=(1, 1), padding='same', activation=None,\n",
    "#                                            kernel_initializer=initializer,\n",
    "                                           use_bias=False))\n",
    "    model.add(keras.layers.BatchNormalization())\n",
    "    model.add(keras.layers.LeakyReLU())\n",
    "    model.add(keras.layers.Conv2DTranspose(filters=64, kernel_size=(5, 5),\n",
    "                                          strides=(2, 2), padding='same', activation=None,\n",
    "#                                            kernel_initializer=initializer,\n",
    "                                           use_bias=False))\n",
    "    model.add(keras.layers.BatchNormalization())\n",
    "    model.add(keras.layers.LeakyReLU())\n",
    "    model.add(keras.layers.Conv2DTranspose(filters=1, kernel_size=(5, 5),\n",
    "                                          strides=(2, 2), padding='same', activation=None,\n",
    "#                                            kernel_initializer=initializer,\n",
    "                                           use_bias=False))\n",
    "#     model.add(keras.layers.BatchNormalization())\n",
    "    model.add(keras.layers.Activation('tanh'))\n",
    "    \n",
    "    return model"
   ]
  },
  {
   "cell_type": "markdown",
   "metadata": {
    "colab_type": "text",
    "id": "vRu1_0qH26LB"
   },
   "source": [
    "# Model - discriminator\n",
    "\n",
    "- INPUT : a image with 28x28x1 size.\n",
    "- OUTPUT : the probability whether the image is fake or real"
   ]
  },
  {
   "cell_type": "code",
   "execution_count": 6,
   "metadata": {
    "colab": {},
    "colab_type": "code",
    "id": "LbGFzlVT26LC"
   },
   "outputs": [],
   "source": [
    "def build_discriminator():\n",
    "    \n",
    "    model = keras.models.Sequential()\n",
    "    \n",
    "    model.add(keras.layers.Conv2D(filters=64,\n",
    "                                  kernel_size=(5, 5),\n",
    "                                  input_shape=(28, 28, 1), \n",
    "                                  strides=(2, 2),\n",
    "                                  padding='same',\n",
    "                                  activation=None,\n",
    "                                  kernel_initializer=initializer))\n",
    "#     model.add(keras.layers.BatchNormalization())\n",
    "    model.add(keras.layers.LeakyReLU(alpha=0.2))\n",
    "    model.add(keras.layers.Dropout(rate=0.3))\n",
    "    model.add(keras.layers.Conv2D(filters=128,\n",
    "                                  kernel_size=(5, 5),\n",
    "                                  strides=(2, 2),\n",
    "                                  padding='same',\n",
    "                                  activation=None,\n",
    "                                  kernel_initializer=initializer))\n",
    "#     model.add(keras.layers.BatchNormalization())\n",
    "    model.add(keras.layers.LeakyReLU(alpha=0.2))\n",
    "    model.add(keras.layers.Dropout(rate=0.3))\n",
    "    \n",
    "    model.add(keras.layers.Flatten())\n",
    "    model.add(keras.layers.Dense(units=1, \n",
    "                                 activation=None, \n",
    "                                 kernel_initializer=initializer))\n",
    "#     model.add(keras.layers.BatchNormalization())\n",
    "    model.add(keras.layers.Activation('sigmoid'))\n",
    "    return model"
   ]
  },
  {
   "cell_type": "markdown",
   "metadata": {
    "colab_type": "text",
    "id": "fOWcTKb526LE"
   },
   "source": [
    "# Losses\n",
    "\n",
    "\n",
    "\n",
    "$$\\min_{\\theta_d}\\max_{\\theta_g} E_{x\\sim p_{data}}\\log D(x) + E_{z\\sim p_{z}}\\log(1 - D(G(z)))$$\n",
    "\n",
    "$$p_z \\sim 표준정규분포$$ "
   ]
  },
  {
   "cell_type": "code",
   "execution_count": 7,
   "metadata": {
    "colab": {},
    "colab_type": "code",
    "id": "3rJV7Xcy26LE"
   },
   "outputs": [],
   "source": [
    "def generator_loss(y_pred):\n",
    "    y_true = keras.backend.ones_like(y_pred)\n",
    "    cross_entropy = keras.losses.binary_crossentropy(y_true, y_pred)\n",
    "    return tf.math.reduce_mean(cross_entropy)"
   ]
  },
  {
   "cell_type": "code",
   "execution_count": 8,
   "metadata": {
    "colab": {},
    "colab_type": "code",
    "id": "H9StGa2j26LG"
   },
   "outputs": [],
   "source": [
    "def discriminator_loss(y_pred, x):\n",
    "    if x:\n",
    "        y_true = keras.backend.ones_like(y_pred)\n",
    "    else:\n",
    "        y_true = keras.backend.zeros_like(y_pred)\n",
    "    \n",
    "    cross_entropy = keras.losses.binary_crossentropy(y_true, y_pred)\n",
    "    return tf.math.reduce_mean(cross_entropy)"
   ]
  },
  {
   "cell_type": "markdown",
   "metadata": {
    "colab_type": "text",
    "id": "gy_PdqV_LJdq"
   },
   "source": [
    "# Training\n"
   ]
  },
  {
   "cell_type": "code",
   "execution_count": 9,
   "metadata": {
    "colab": {
     "base_uri": "https://localhost:8080/",
     "height": 1000
    },
    "colab_type": "code",
    "id": "GOKdnM3U26LM",
    "outputId": "0b110377-f9e5-47df-d695-77898573cef3"
   },
   "outputs": [
    {
     "name": "stdout",
     "output_type": "stream",
     "text": [
      "Model: \"sequential\"\n",
      "_________________________________________________________________\n",
      "Layer (type)                 Output Shape              Param #   \n",
      "=================================================================\n",
      "dense (Dense)                (None, 12544)             1254400   \n",
      "_________________________________________________________________\n",
      "batch_normalization (BatchNo (None, 12544)             50176     \n",
      "_________________________________________________________________\n",
      "leaky_re_lu (LeakyReLU)      (None, 12544)             0         \n",
      "_________________________________________________________________\n",
      "reshape (Reshape)            (None, 7, 7, 256)         0         \n",
      "_________________________________________________________________\n",
      "conv2d_transpose (Conv2DTran (None, 7, 7, 128)         819200    \n",
      "_________________________________________________________________\n",
      "batch_normalization_1 (Batch (None, 7, 7, 128)         512       \n",
      "_________________________________________________________________\n",
      "leaky_re_lu_1 (LeakyReLU)    (None, 7, 7, 128)         0         \n",
      "_________________________________________________________________\n",
      "conv2d_transpose_1 (Conv2DTr (None, 14, 14, 64)        204800    \n",
      "_________________________________________________________________\n",
      "batch_normalization_2 (Batch (None, 14, 14, 64)        256       \n",
      "_________________________________________________________________\n",
      "leaky_re_lu_2 (LeakyReLU)    (None, 14, 14, 64)        0         \n",
      "_________________________________________________________________\n",
      "conv2d_transpose_2 (Conv2DTr (None, 28, 28, 1)         1600      \n",
      "_________________________________________________________________\n",
      "activation (Activation)      (None, 28, 28, 1)         0         \n",
      "=================================================================\n",
      "Total params: 2,330,944\n",
      "Trainable params: 2,305,472\n",
      "Non-trainable params: 25,472\n",
      "_________________________________________________________________\n",
      "Model: \"sequential_1\"\n",
      "_________________________________________________________________\n",
      "Layer (type)                 Output Shape              Param #   \n",
      "=================================================================\n",
      "conv2d (Conv2D)              (None, 14, 14, 64)        1664      \n",
      "_________________________________________________________________\n",
      "leaky_re_lu_3 (LeakyReLU)    (None, 14, 14, 64)        0         \n",
      "_________________________________________________________________\n",
      "dropout (Dropout)            (None, 14, 14, 64)        0         \n",
      "_________________________________________________________________\n",
      "conv2d_1 (Conv2D)            (None, 7, 7, 128)         204928    \n",
      "_________________________________________________________________\n",
      "leaky_re_lu_4 (LeakyReLU)    (None, 7, 7, 128)         0         \n",
      "_________________________________________________________________\n",
      "dropout_1 (Dropout)          (None, 7, 7, 128)         0         \n",
      "_________________________________________________________________\n",
      "flatten (Flatten)            (None, 6272)              0         \n",
      "_________________________________________________________________\n",
      "dense_1 (Dense)              (None, 1)                 6273      \n",
      "_________________________________________________________________\n",
      "activation_1 (Activation)    (None, 1)                 0         \n",
      "=================================================================\n",
      "Total params: 212,865\n",
      "Trainable params: 212,865\n",
      "Non-trainable params: 0\n",
      "_________________________________________________________________\n"
     ]
    }
   ],
   "source": [
    "generator = build_generator()\n",
    "generator.summary()\n",
    "discriminator = build_discriminator()\n",
    "discriminator.summary()\n",
    "\n",
    "opt_g = keras.optimizers.Adam(learning_rate=0.0002, beta_1=0.5)\n",
    "opt_d = keras.optimizers.Adam(learning_rate=0.0002, beta_1=0.5)"
   ]
  },
  {
   "cell_type": "code",
   "execution_count": 10,
   "metadata": {
    "colab": {},
    "colab_type": "code",
    "id": "VbtuvyDO26LO"
   },
   "outputs": [],
   "source": [
    "def print_tensors(tensors):\n",
    "    for each in tensors:\n",
    "        print(f'{each.name} {each.shape}')"
   ]
  },
  {
   "cell_type": "code",
   "execution_count": 11,
   "metadata": {
    "colab": {},
    "colab_type": "code",
    "id": "tTAjmeS8Ir6-"
   },
   "outputs": [],
   "source": [
    "losses = {\n",
    "    'generator': [],\n",
    "    'discriminator': []\n",
    "}"
   ]
  },
  {
   "cell_type": "code",
   "execution_count": 58,
   "metadata": {
    "colab": {},
    "colab_type": "code",
    "id": "iPoWE88w26LQ"
   },
   "outputs": [],
   "source": [
    "@tf.function\n",
    "def train_step(real_data):\n",
    "    z = tf.random.normal([batch_size, noise_dim])\n",
    "    \n",
    "    with tf.GradientTape() as tape_g, tf.GradientTape() as tape_d:\n",
    "        Gz = generator(inputs=z, training=True)\n",
    "        Dz = discriminator(inputs=Gz, training=True)\n",
    "        Dx = discriminator(inputs=real_data, training=True)\n",
    "        \n",
    "        loss_g = generator_loss(Dz)\n",
    "        loss_d = discriminator_loss(Dz, x=False)\n",
    "        loss_d += discriminator_loss(Dx, x=True)\n",
    "        \n",
    "        losses['generator'].append(loss_g)\n",
    "        losses['discriminator'].append(loss_d)\n",
    "        \n",
    "        \n",
    "    grads_g = tape_g.gradient(loss_g, generator.trainable_variables)\n",
    "    grads_d = tape_d.gradient(loss_d, discriminator.trainable_variables)\n",
    "\n",
    "    opt_g.apply_gradients(zip(grads_g, generator.trainable_variables))\n",
    "    opt_d.apply_gradients(zip(grads_d, discriminator.trainable_variables))\n",
    "    \n",
    "    return Gz\n",
    "    \n",
    "    \n",
    "    \n",
    "    \n",
    "    "
   ]
  },
  {
   "cell_type": "code",
   "execution_count": 13,
   "metadata": {},
   "outputs": [
    {
     "data": {
      "text/plain": [
       "['__class__',\n",
       " '__delattr__',\n",
       " '__dict__',\n",
       " '__dir__',\n",
       " '__doc__',\n",
       " '__eq__',\n",
       " '__format__',\n",
       " '__ge__',\n",
       " '__getattribute__',\n",
       " '__getstate__',\n",
       " '__gt__',\n",
       " '__hash__',\n",
       " '__init__',\n",
       " '__init_subclass__',\n",
       " '__le__',\n",
       " '__lt__',\n",
       " '__module__',\n",
       " '__ne__',\n",
       " '__new__',\n",
       " '__reduce__',\n",
       " '__reduce_ex__',\n",
       " '__repr__',\n",
       " '__setattr__',\n",
       " '__setstate__',\n",
       " '__sizeof__',\n",
       " '__str__',\n",
       " '__subclasshook__',\n",
       " '__weakref__',\n",
       " '_add_axes_internal',\n",
       " '_agg_filter',\n",
       " '_align_xlabel_grp',\n",
       " '_align_ylabel_grp',\n",
       " '_alpha',\n",
       " '_animated',\n",
       " '_axobservers',\n",
       " '_axstack',\n",
       " '_cachedRenderer',\n",
       " '_clipon',\n",
       " '_clippath',\n",
       " '_constrained',\n",
       " '_constrained_layout_pads',\n",
       " '_contains',\n",
       " '_dpi',\n",
       " '_gci',\n",
       " '_get_axes',\n",
       " '_get_clipping_extent_bbox',\n",
       " '_get_dpi',\n",
       " '_gid',\n",
       " '_gridspecs',\n",
       " '_in_layout',\n",
       " '_label',\n",
       " '_layoutbox',\n",
       " '_make_key',\n",
       " '_mouseover',\n",
       " '_oid',\n",
       " '_path_effects',\n",
       " '_picker',\n",
       " '_process_projection_requirements',\n",
       " '_prop_order',\n",
       " '_propobservers',\n",
       " '_rasterized',\n",
       " '_remove_ax',\n",
       " '_remove_method',\n",
       " '_repr_html_',\n",
       " '_set_artist_props',\n",
       " '_set_dpi',\n",
       " '_set_gc_clip',\n",
       " '_sketch',\n",
       " '_snap',\n",
       " '_stale',\n",
       " '_sticky_edges',\n",
       " '_suptitle',\n",
       " '_tight',\n",
       " '_tight_parameters',\n",
       " '_transform',\n",
       " '_transformSet',\n",
       " '_url',\n",
       " '_visible',\n",
       " 'add_artist',\n",
       " 'add_axes',\n",
       " 'add_axobserver',\n",
       " 'add_callback',\n",
       " 'add_gridspec',\n",
       " 'add_subplot',\n",
       " 'align_labels',\n",
       " 'align_xlabels',\n",
       " 'align_ylabels',\n",
       " 'aname',\n",
       " 'artists',\n",
       " 'autofmt_xdate',\n",
       " 'axes',\n",
       " 'bbox',\n",
       " 'bbox_inches',\n",
       " 'callbacks',\n",
       " 'canvas',\n",
       " 'clear',\n",
       " 'clf',\n",
       " 'clipbox',\n",
       " 'colorbar',\n",
       " 'contains',\n",
       " 'convert_xunits',\n",
       " 'convert_yunits',\n",
       " 'delaxes',\n",
       " 'dpi',\n",
       " 'dpi_scale_trans',\n",
       " 'draw',\n",
       " 'draw_artist',\n",
       " 'eventson',\n",
       " 'execute_constrained_layout',\n",
       " 'figimage',\n",
       " 'figure',\n",
       " 'findobj',\n",
       " 'format_cursor_data',\n",
       " 'frameon',\n",
       " 'gca',\n",
       " 'get_agg_filter',\n",
       " 'get_alpha',\n",
       " 'get_animated',\n",
       " 'get_axes',\n",
       " 'get_children',\n",
       " 'get_clip_box',\n",
       " 'get_clip_on',\n",
       " 'get_clip_path',\n",
       " 'get_constrained_layout',\n",
       " 'get_constrained_layout_pads',\n",
       " 'get_contains',\n",
       " 'get_cursor_data',\n",
       " 'get_default_bbox_extra_artists',\n",
       " 'get_dpi',\n",
       " 'get_edgecolor',\n",
       " 'get_facecolor',\n",
       " 'get_figheight',\n",
       " 'get_figure',\n",
       " 'get_figwidth',\n",
       " 'get_frameon',\n",
       " 'get_gid',\n",
       " 'get_in_layout',\n",
       " 'get_label',\n",
       " 'get_path_effects',\n",
       " 'get_picker',\n",
       " 'get_rasterized',\n",
       " 'get_size_inches',\n",
       " 'get_sketch_params',\n",
       " 'get_snap',\n",
       " 'get_tight_layout',\n",
       " 'get_tightbbox',\n",
       " 'get_transform',\n",
       " 'get_transformed_clip_path_and_affine',\n",
       " 'get_url',\n",
       " 'get_visible',\n",
       " 'get_window_extent',\n",
       " 'get_zorder',\n",
       " 'ginput',\n",
       " 'have_units',\n",
       " 'images',\n",
       " 'init_layoutbox',\n",
       " 'is_transform_set',\n",
       " 'legend',\n",
       " 'legends',\n",
       " 'lines',\n",
       " 'mouseover',\n",
       " 'number',\n",
       " 'patch',\n",
       " 'patches',\n",
       " 'pchanged',\n",
       " 'pick',\n",
       " 'pickable',\n",
       " 'properties',\n",
       " 'remove',\n",
       " 'remove_callback',\n",
       " 'savefig',\n",
       " 'sca',\n",
       " 'set',\n",
       " 'set_agg_filter',\n",
       " 'set_alpha',\n",
       " 'set_animated',\n",
       " 'set_canvas',\n",
       " 'set_clip_box',\n",
       " 'set_clip_on',\n",
       " 'set_clip_path',\n",
       " 'set_constrained_layout',\n",
       " 'set_constrained_layout_pads',\n",
       " 'set_contains',\n",
       " 'set_dpi',\n",
       " 'set_edgecolor',\n",
       " 'set_facecolor',\n",
       " 'set_figheight',\n",
       " 'set_figure',\n",
       " 'set_figwidth',\n",
       " 'set_frameon',\n",
       " 'set_gid',\n",
       " 'set_in_layout',\n",
       " 'set_label',\n",
       " 'set_path_effects',\n",
       " 'set_picker',\n",
       " 'set_rasterized',\n",
       " 'set_size_inches',\n",
       " 'set_sketch_params',\n",
       " 'set_snap',\n",
       " 'set_tight_layout',\n",
       " 'set_transform',\n",
       " 'set_url',\n",
       " 'set_visible',\n",
       " 'set_zorder',\n",
       " 'show',\n",
       " 'stale',\n",
       " 'stale_callback',\n",
       " 'sticky_edges',\n",
       " 'subplotpars',\n",
       " 'subplots',\n",
       " 'subplots_adjust',\n",
       " 'suppressComposite',\n",
       " 'suptitle',\n",
       " 'text',\n",
       " 'texts',\n",
       " 'tight_layout',\n",
       " 'transFigure',\n",
       " 'update',\n",
       " 'update_from',\n",
       " 'waitforbuttonpress',\n",
       " 'zorder']"
      ]
     },
     "execution_count": 13,
     "metadata": {},
     "output_type": "execute_result"
    },
    {
     "data": {
      "text/plain": [
       "<Figure size 288x288 with 0 Axes>"
      ]
     },
     "metadata": {},
     "output_type": "display_data"
    }
   ],
   "source": [
    "fig = plt.figure(figsize=(4, 4))\n",
    "fig.remove()"
   ]
  },
  {
   "cell_type": "code",
   "execution_count": 59,
   "metadata": {
    "colab": {},
    "colab_type": "code",
    "id": "dhcXoLqI26LS"
   },
   "outputs": [],
   "source": [
    "imgs = []\n",
    "\n",
    "def imshow(tensor, e, idx, shape=(4, 4)):\n",
    "    \n",
    "    fig = plt.figure(figsize=shape)\n",
    "    for i in range(shape[0] * shape[1]):\n",
    "        plt.subplot(shape[0], shape[1], i+1)\n",
    "        img = tf.reshape(tensor[i], shape=[28, 28])\n",
    "        plt.imshow(img.numpy() * 127.5 + 127.5, cmap='gray')\n",
    "        plt.axis('off')\n",
    "    if e is not None:\n",
    "        plt.savefig(fname=f'./imgs/{e}-{idx}.png')\n",
    "#         imgs.append(img)\n",
    "    plt.close(fig)\n",
    "#     plt.show()"
   ]
  },
  {
   "cell_type": "code",
   "execution_count": 60,
   "metadata": {
    "colab": {
     "base_uri": "https://localhost:8080/",
     "height": 1000
    },
    "colab_type": "code",
    "id": "2Jan_BjI26LU",
    "outputId": "db0469c2-06c6-4300-d5bf-df83939c8f67",
    "scrolled": false
   },
   "outputs": [],
   "source": [
    "\n",
    "def train():\n",
    "\n",
    "    for idx, real_data in enumerate(data):\n",
    "        gz = train_step(real_data)\n",
    "        if idx % (batch_size // 5) == 0:\n",
    "            imshow(real_data, None, idx)\n",
    "            imshow(gz, e, idx)\n",
    "    "
   ]
  },
  {
   "cell_type": "code",
   "execution_count": 61,
   "metadata": {},
   "outputs": [
    {
     "name": "stdout",
     "output_type": "stream",
     "text": [
      "# epoch: 0\n",
      "CPU times: user 36min 20s, sys: 1min 28s, total: 37min 48s\n",
      "Wall time: 1min 40s\n",
      "# epoch: 1\n",
      "CPU times: user 32min 47s, sys: 1min 1s, total: 33min 49s\n",
      "Wall time: 1min 28s\n",
      "# epoch: 2\n",
      "CPU times: user 33min 13s, sys: 1min 11s, total: 34min 25s\n",
      "Wall time: 1min 44s\n",
      "# epoch: 3\n",
      "CPU times: user 33min 11s, sys: 1min 9s, total: 34min 21s\n",
      "Wall time: 1min 29s\n",
      "# epoch: 4\n",
      "CPU times: user 33min 3s, sys: 1min 4s, total: 34min 7s\n",
      "Wall time: 1min 29s\n",
      "# epoch: 5\n",
      "CPU times: user 34min 14s, sys: 1min 17s, total: 35min 31s\n",
      "Wall time: 1min 33s\n",
      "# epoch: 6\n",
      "CPU times: user 34min 34s, sys: 1min 28s, total: 36min 2s\n",
      "Wall time: 1min 34s\n",
      "# epoch: 7\n",
      "CPU times: user 33min 4s, sys: 57.8 s, total: 34min 2s\n",
      "Wall time: 1min 29s\n",
      "# epoch: 8\n",
      "CPU times: user 33min 4s, sys: 49.9 s, total: 33min 54s\n",
      "Wall time: 1min 27s\n",
      "# epoch: 9\n",
      "CPU times: user 33min 15s, sys: 47.3 s, total: 34min 2s\n",
      "Wall time: 1min 30s\n",
      "# epoch: 10\n",
      "CPU times: user 32min 58s, sys: 50.2 s, total: 33min 48s\n",
      "Wall time: 1min 27s\n",
      "# epoch: 11\n",
      "CPU times: user 34min 11s, sys: 1min 2s, total: 35min 14s\n",
      "Wall time: 1min 31s\n",
      "# epoch: 12\n",
      "CPU times: user 33min 37s, sys: 1min 3s, total: 34min 41s\n",
      "Wall time: 1min 32s\n",
      "# epoch: 13\n",
      "CPU times: user 32min 50s, sys: 51.7 s, total: 33min 42s\n",
      "Wall time: 1min 27s\n",
      "# epoch: 14\n",
      "CPU times: user 33min 13s, sys: 52.4 s, total: 34min 5s\n",
      "Wall time: 1min 28s\n",
      "# epoch: 15\n",
      "CPU times: user 32min 57s, sys: 48.9 s, total: 33min 46s\n",
      "Wall time: 1min 27s\n",
      "# epoch: 16\n",
      "CPU times: user 33min 22s, sys: 1min 2s, total: 34min 24s\n",
      "Wall time: 1min 31s\n",
      "# epoch: 17\n",
      "CPU times: user 33min 7s, sys: 47.2 s, total: 33min 54s\n",
      "Wall time: 1min 27s\n",
      "# epoch: 18\n",
      "CPU times: user 32min 58s, sys: 48.5 s, total: 33min 47s\n",
      "Wall time: 1min 27s\n",
      "# epoch: 19\n",
      "CPU times: user 33min 17s, sys: 59.2 s, total: 34min 16s\n",
      "Wall time: 1min 32s\n",
      "# epoch: 21\n",
      "CPU times: user 33min 3s, sys: 51.7 s, total: 33min 55s\n",
      "Wall time: 1min 27s\n",
      "# epoch: 22\n",
      "CPU times: user 32min 51s, sys: 44.9 s, total: 33min 36s\n",
      "Wall time: 1min 27s\n",
      "# epoch: 23\n",
      "CPU times: user 33min 1s, sys: 45.1 s, total: 33min 46s\n",
      "Wall time: 1min 27s\n",
      "# epoch: 24\n",
      "CPU times: user 33min 3s, sys: 49.3 s, total: 33min 52s\n",
      "Wall time: 1min 27s\n",
      "# epoch: 25\n",
      "CPU times: user 32min 56s, sys: 52.6 s, total: 33min 48s\n",
      "Wall time: 1min 27s\n",
      "# epoch: 26\n",
      "CPU times: user 33min 3s, sys: 56.7 s, total: 34min\n",
      "Wall time: 1min 32s\n",
      "# epoch: 27\n",
      "CPU times: user 33min 38s, sys: 58 s, total: 34min 36s\n",
      "Wall time: 1min 30s\n",
      "# epoch: 28\n",
      "CPU times: user 32min 57s, sys: 52.3 s, total: 33min 50s\n",
      "Wall time: 1min 28s\n",
      "# epoch: 29\n",
      "CPU times: user 32min 45s, sys: 48.2 s, total: 33min 33s\n",
      "Wall time: 1min 27s\n",
      "# epoch: 30\n",
      "CPU times: user 33min 3s, sys: 50.3 s, total: 33min 54s\n",
      "Wall time: 1min 28s\n",
      "# epoch: 31\n",
      "CPU times: user 33min 19s, sys: 51.2 s, total: 34min 10s\n",
      "Wall time: 1min 28s\n",
      "# epoch: 32\n",
      "CPU times: user 32min 58s, sys: 46.2 s, total: 33min 44s\n",
      "Wall time: 1min 27s\n",
      "# epoch: 33\n",
      "CPU times: user 37min 5s, sys: 1min 16s, total: 38min 22s\n",
      "Wall time: 1min 45s\n",
      "# epoch: 34\n",
      "CPU times: user 33min 6s, sys: 50.5 s, total: 33min 56s\n",
      "Wall time: 1min 28s\n",
      "# epoch: 35\n",
      "CPU times: user 32min 56s, sys: 48.2 s, total: 33min 44s\n",
      "Wall time: 1min 27s\n",
      "# epoch: 36\n",
      "CPU times: user 33min 2s, sys: 50.3 s, total: 33min 53s\n",
      "Wall time: 1min 27s\n",
      "# epoch: 37\n",
      "CPU times: user 33min 1s, sys: 48.5 s, total: 33min 49s\n",
      "Wall time: 1min 27s\n",
      "# epoch: 38\n",
      "CPU times: user 33min 37s, sys: 58.6 s, total: 34min 36s\n",
      "Wall time: 1min 30s\n",
      "# epoch: 39\n",
      "CPU times: user 34min 12s, sys: 1min 1s, total: 35min 13s\n",
      "Wall time: 1min 31s\n",
      "# epoch: 40\n",
      "CPU times: user 32min 55s, sys: 46.7 s, total: 33min 41s\n",
      "Wall time: 1min 27s\n",
      "# epoch: 41\n",
      "CPU times: user 33min 8s, sys: 56.2 s, total: 34min 4s\n",
      "Wall time: 1min 34s\n",
      "# epoch: 42\n",
      "CPU times: user 32min 51s, sys: 52.5 s, total: 33min 44s\n",
      "Wall time: 1min 27s\n",
      "# epoch: 43\n",
      "CPU times: user 33min 3s, sys: 52.5 s, total: 33min 55s\n",
      "Wall time: 1min 28s\n",
      "# epoch: 44\n",
      "CPU times: user 32min 54s, sys: 49.5 s, total: 33min 43s\n",
      "Wall time: 1min 27s\n",
      "# epoch: 45\n",
      "CPU times: user 32min 48s, sys: 50.9 s, total: 33min 39s\n",
      "Wall time: 1min 27s\n",
      "# epoch: 46\n",
      "CPU times: user 32min 57s, sys: 52.5 s, total: 33min 50s\n",
      "Wall time: 1min 28s\n",
      "# epoch: 47\n",
      "CPU times: user 32min 50s, sys: 47.7 s, total: 33min 37s\n",
      "Wall time: 1min 27s\n",
      "# epoch: 48\n",
      "CPU times: user 32min 50s, sys: 49.1 s, total: 33min 39s\n",
      "Wall time: 1min 27s\n",
      "# epoch: 49\n",
      "CPU times: user 33min 5s, sys: 42.4 s, total: 33min 47s\n",
      "Wall time: 1min 27s\n"
     ]
    }
   ],
   "source": [
    "for e in range(epochs):\n",
    "    print(f'# epoch: {e}')\n",
    "    %time train()"
   ]
  },
  {
   "cell_type": "code",
   "execution_count": 22,
   "metadata": {},
   "outputs": [],
   "source": [
    "import imageio\n",
    "from PIL import Image\n",
    "\n",
    "from pathlib import Path"
   ]
  },
  {
   "cell_type": "code",
   "execution_count": 32,
   "metadata": {},
   "outputs": [
    {
     "name": "stdout",
     "output_type": "stream",
     "text": [
      "imgs/23-102.png\n",
      "imgs/14-0.png\n",
      "imgs/32-153.png\n",
      "imgs/12-0.png\n",
      "imgs/15-204.png\n",
      "imgs/27-51.png\n",
      "imgs/13-204.png\n",
      "imgs/14-102.png\n",
      "imgs/15-0.png\n",
      "imgs/9-51.png\n",
      "imgs/2-51.png\n",
      "imgs/40-0.png\n",
      "imgs/29-0.png\n",
      "imgs/33-153.png\n",
      "imgs/46-204.png\n",
      "imgs/24-0.png\n",
      "imgs/13-0.png\n",
      "imgs/5-204.png\n",
      "imgs/38-204.png\n",
      "imgs/24-51.png\n",
      "imgs/28-102.png\n",
      "imgs/5-102.png\n",
      "imgs/42-51.png\n",
      "imgs/41-204.png\n",
      "imgs/12-102.png\n",
      "imgs/34-0.png\n",
      "imgs/16-0.png\n",
      "imgs/6-102.png\n",
      "imgs/7-153.png\n",
      "imgs/9-153.png\n",
      "imgs/33-102.png\n",
      "imgs/7-0.png\n",
      "imgs/9-204.png\n",
      "imgs/20-153.png\n",
      "imgs/15-153.png\n",
      "imgs/4-153.png\n",
      "imgs/5-0.png\n",
      "imgs/17-102.png\n",
      "imgs/32-102.png\n",
      "imgs/34-153.png\n",
      "imgs/18-102.png\n",
      "imgs/41-0.png\n",
      "imgs/15-102.png\n",
      "imgs/0-153.png\n",
      "imgs/49-204.png\n",
      "imgs/46-0.png\n",
      "imgs/39-102.png\n",
      "imgs/1-153.png\n",
      "imgs/36-102.png\n",
      "imgs/40-102.png\n",
      "imgs/25-51.png\n",
      "imgs/6-0.png\n",
      "imgs/49-153.png\n",
      "imgs/27-0.png\n",
      "imgs/20-51.png\n",
      "imgs/45-51.png\n",
      "imgs/8-204.png\n",
      "imgs/30-204.png\n",
      "imgs/36-153.png\n",
      "imgs/26-0.png\n",
      "imgs/38-0.png\n",
      "imgs/37-0.png\n",
      "imgs/32-51.png\n",
      "imgs/38-153.png\n",
      "imgs/3-204.png\n",
      "imgs/21-204.png\n",
      "imgs/30-153.png\n",
      "imgs/8-0.png\n",
      "imgs/24-153.png\n",
      "imgs/11-102.png\n",
      "imgs/8-102.png\n",
      "imgs/44-204.png\n",
      "imgs/38-51.png\n",
      "imgs/3-51.png\n",
      "imgs/39-51.png\n",
      "imgs/47-153.png\n",
      "imgs/29-51.png\n",
      "imgs/45-153.png\n",
      "imgs/46-153.png\n",
      "imgs/36-204.png\n",
      "imgs/5-51.png\n",
      "imgs/24-102.png\n",
      "imgs/13-153.png\n",
      "imgs/8-153.png\n",
      "imgs/27-153.png\n",
      "imgs/26-102.png\n",
      "imgs/4-0.png\n",
      "imgs/20-204.png\n",
      "imgs/33-0.png\n",
      "imgs/42-204.png\n",
      "imgs/9-102.png\n",
      "imgs/49-102.png\n",
      "imgs/44-102.png\n",
      "imgs/43-102.png\n",
      "imgs/11-0.png\n",
      "imgs/30-102.png\n",
      "imgs/45-0.png\n",
      "imgs/22-102.png\n",
      "imgs/22-0.png\n",
      "imgs/32-0.png\n",
      "imgs/5-153.png\n",
      "imgs/41-51.png\n",
      "imgs/7-204.png\n",
      "imgs/20-0.png\n",
      "imgs/26-51.png\n",
      "imgs/4-204.png\n",
      "imgs/42-0.png\n",
      "imgs/35-102.png\n",
      "imgs/29-204.png\n",
      "imgs/19-51.png\n",
      "imgs/31-51.png\n",
      "imgs/27-102.png\n",
      "imgs/6-51.png\n",
      "imgs/8-51.png\n",
      "imgs/18-0.png\n",
      "imgs/47-102.png\n",
      "imgs/43-0.png\n",
      "imgs/31-153.png\n",
      "imgs/37-153.png\n",
      "imgs/12-153.png\n",
      "imgs/19-102.png\n",
      "imgs/0-0.png\n",
      "imgs/10-0.png\n",
      "imgs/49-51.png\n",
      "imgs/22-153.png\n",
      "imgs/10-102.png\n",
      "imgs/21-0.png\n",
      "imgs/48-51.png\n",
      "imgs/2-0.png\n",
      "imgs/12-204.png\n",
      "imgs/2-204.png\n",
      "imgs/34-51.png\n",
      "imgs/14-204.png\n",
      "imgs/35-204.png\n",
      "imgs/34-204.png\n",
      "imgs/21-51.png\n",
      "imgs/19-204.png\n",
      "imgs/40-51.png\n",
      "imgs/40-153.png\n",
      "imgs/44-0.png\n",
      "imgs/18-51.png\n",
      "imgs/4-51.png\n",
      "imgs/37-204.png\n",
      "imgs/11-204.png\n",
      "imgs/43-153.png\n",
      "imgs/35-0.png\n",
      "imgs/17-204.png\n",
      "imgs/16-51.png\n",
      "imgs/22-51.png\n",
      "imgs/41-102.png\n",
      "imgs/43-51.png\n",
      "imgs/22-204.png\n",
      "imgs/27-204.png\n",
      "imgs/19-153.png\n",
      "imgs/30-51.png\n",
      "imgs/14-153.png\n",
      "imgs/6-204.png\n",
      "imgs/21-102.png\n",
      "imgs/0-204.png\n",
      "imgs/3-153.png\n",
      "imgs/11-51.png\n",
      "imgs/31-204.png\n",
      "imgs/15-51.png\n",
      "imgs/42-102.png\n",
      "imgs/36-51.png\n",
      "imgs/29-102.png\n",
      "imgs/48-153.png\n",
      "imgs/37-102.png\n",
      "imgs/1-102.png\n",
      "imgs/26-204.png\n",
      "imgs/47-51.png\n",
      "imgs/10-204.png\n",
      "imgs/28-153.png\n",
      "imgs/35-51.png\n",
      "imgs/40-204.png\n",
      "imgs/28-0.png\n",
      "imgs/34-102.png\n",
      "imgs/46-51.png\n",
      "imgs/33-204.png\n",
      "imgs/26-153.png\n",
      "imgs/7-102.png\n",
      "imgs/45-102.png\n",
      "imgs/6-153.png\n",
      "imgs/19-0.png\n",
      "imgs/25-153.png\n",
      "imgs/32-204.png\n",
      "imgs/48-204.png\n",
      "imgs/2-102.png\n",
      "imgs/28-51.png\n",
      "imgs/13-51.png\n",
      "imgs/41-153.png\n",
      "imgs/33-51.png\n",
      "imgs/37-51.png\n",
      "imgs/9-0.png\n",
      "imgs/17-51.png\n",
      "imgs/44-153.png\n",
      "imgs/47-204.png\n",
      "imgs/4-102.png\n",
      "imgs/31-102.png\n",
      "imgs/21-153.png\n",
      "imgs/48-0.png\n",
      "imgs/18-153.png\n",
      "imgs/14-51.png\n",
      "imgs/18-204.png\n",
      "imgs/10-153.png\n",
      "imgs/1-51.png\n",
      "imgs/17-0.png\n",
      "imgs/39-153.png\n",
      "imgs/39-0.png\n",
      "imgs/10-51.png\n",
      "imgs/23-204.png\n",
      "imgs/12-51.png\n",
      "imgs/43-204.png\n",
      "imgs/39-204.png\n",
      "imgs/24-204.png\n",
      "imgs/31-0.png\n",
      "imgs/7-51.png\n",
      "imgs/38-102.png\n",
      "imgs/16-204.png\n",
      "imgs/48-102.png\n",
      "imgs/25-0.png\n",
      "imgs/25-102.png\n",
      "imgs/1-0.png\n",
      "imgs/42-153.png\n",
      "imgs/17-153.png\n",
      "imgs/23-0.png\n",
      "imgs/0-51.png\n",
      "imgs/35-153.png\n",
      "imgs/36-0.png\n",
      "imgs/0-102.png\n",
      "imgs/23-51.png\n",
      "imgs/29-153.png\n",
      "imgs/1-204.png\n",
      "imgs/3-102.png\n",
      "imgs/11-153.png\n",
      "imgs/45-204.png\n",
      "imgs/46-102.png\n",
      "imgs/20-102.png\n",
      "imgs/2-153.png\n",
      "imgs/49-0.png\n",
      "imgs/28-204.png\n",
      "imgs/44-51.png\n",
      "imgs/3-0.png\n",
      "imgs/30-0.png\n",
      "imgs/23-153.png\n",
      "imgs/16-153.png\n",
      "imgs/13-102.png\n",
      "imgs/47-0.png\n",
      "imgs/16-102.png\n",
      "imgs/25-204.png\n",
      "imgs/23-102.png\n"
     ]
    }
   ],
   "source": [
    "p = Path('./imgs')\n",
    "\n",
    "imgs_paths = []\n",
    "for each in p.glob('*.png'):\n",
    "    print(each)\n",
    "    imgs_paths.append(each)\n",
    "#     imgs.append(Image.open(f'./{each}'))\n",
    "\n",
    "imgs_paths = list(map(str, imgs_paths))\n",
    "print(imgs_paths[0])\n",
    "imgs_paths.sort(key=lambda x: int(x.split('/')[1].split('-')[0]) * 1000 + int(x.split('/')[1].split('-')[1].split('.')[0]))\n",
    "# 이미지 생성된 순서대로 정렬\n",
    "\n",
    "imgs = []\n",
    "for each in imgs_paths:\n",
    "    imgs.append(Image.open(each))"
   ]
  },
  {
   "cell_type": "code",
   "execution_count": 34,
   "metadata": {},
   "outputs": [],
   "source": [
    "imageio.mimsave('./imgs/mnist.mp4', ims=imgs) "
   ]
  },
  {
   "cell_type": "code",
   "execution_count": 56,
   "metadata": {
    "colab": {},
    "colab_type": "code",
    "id": "K_Mo48ATK_-M"
   },
   "outputs": [
    {
     "data": {
      "text/plain": [
       "<matplotlib.image.AxesImage at 0x7fb84d06f950>"
      ]
     },
     "execution_count": 56,
     "metadata": {},
     "output_type": "execute_result"
    },
    {
     "data": {
      "image/png": "[encoded data removed]",
      "text/plain": [
       "<Figure size 432x288 with 1 Axes>"
      ]
     },
     "metadata": {
      "needs_background": "light"
     },
     "output_type": "display_data"
    }
   ],
   "source": [
    "noise1 = np.random.randn(100, 100)\n",
    "img = generator(noise1, training=True)\n",
    "plt.imshow(img[0, :, :, 0], cmap='gray')"
   ]
  },
  {
   "cell_type": "code",
   "execution_count": 57,
   "metadata": {},
   "outputs": [
    {
     "data": {
      "text/plain": [
       "<matplotlib.image.AxesImage at 0x7fb84d057a50>"
      ]
     },
     "execution_count": 57,
     "metadata": {},
     "output_type": "execute_result"
    },
    {
     "data": {
      "image/png": "[encoded data removed]",
      "text/plain": [
       "<Figure size 432x288 with 1 Axes>"
      ]
     },
     "metadata": {
      "needs_background": "light"
     },
     "output_type": "display_data"
    }
   ],
   "source": [
    "noise2 = np.random.randn(100, 100)\n",
    "img = generator(noise2, training=True)\n",
    "plt.imshow(img[0, :, :, 0], cmap='gray')"
   ]
  },
  {
   "cell_type": "code",
   "execution_count": 51,
   "metadata": {},
   "outputs": [
    {
     "data": {
      "text/plain": [
       "<matplotlib.image.AxesImage at 0x7fb86020b410>"
      ]
     },
     "execution_count": 51,
     "metadata": {},
     "output_type": "execute_result"
    },
    {
     "data": {
      "image/png": "[encoded data removed]",
      "text/plain": [
       "<Figure size 432x288 with 1 Axes>"
      ]
     },
     "metadata": {
      "needs_background": "light"
     },
     "output_type": "display_data"
    }
   ],
   "source": [
    "noise = (noise1 + noise2) / 2\n",
    "img = generator(noise, training=True)\n",
    "plt.imshow(img[0, :, :, 0], cmap='gray')"
   ]
  },
  {
   "cell_type": "code",
   "execution_count": null,
   "metadata": {},
   "outputs": [],
   "source": [
    "import imageio\n",
    "import os\n",
    "from pathlib import Path\n",
    "images = []"
   ]
  },
  {
   "cell_type": "code",
   "execution_count": 91,
   "metadata": {},
   "outputs": [
    {
     "data": {
      "text/plain": [
       "['dcgan.ipynb',\n",
       " '3-200.png',\n",
       " '1-100.png',\n",
       " '2-200.png',\n",
       " '3-100.png',\n",
       " '3-50.png',\n",
       " '1-200.png',\n",
       " '2-100.png',\n",
       " '1-50.png',\n",
       " 'README.md',\n",
       " '2-0.png',\n",
       " '1-150.png',\n",
       " '4-50.png',\n",
       " '4-0.png',\n",
       " '1-0.png',\n",
       " '2-50.png',\n",
       " '2-150.png',\n",
       " '3-0.png',\n",
       " '4-100.png',\n",
       " '3-150.png',\n",
       " '1.png']"
      ]
     },
     "execution_count": 91,
     "metadata": {},
     "output_type": "execute_result"
    }
   ],
   "source": [
    "Path('.')\n",
    "next(iter(os.walk('.')))[2]"
   ]
  }
 ],
 "metadata": {
  "accelerator": "GPU",
  "colab": {
   "name": "dcgan.ipynb",
   "provenance": [],
   "toc_visible": true
  },
  "kernelspec": {
   "display_name": "Python 3",
   "language": "python",
   "name": "python3"
  },
  "language_info": {
   "codemirror_mode": {
    "name": "ipython",
    "version": 3
   },
   "file_extension": ".py",
   "mimetype": "text/x-python",
   "name": "python",
   "nbconvert_exporter": "python",
   "pygments_lexer": "ipython3",
   "version": "3.7.4"
  }
 },
 "nbformat": 4,
 "nbformat_minor": 1
}
